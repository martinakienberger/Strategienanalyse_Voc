{
 "cells": [
  {
   "cell_type": "markdown",
   "metadata": {},
   "source": [
    "# Analyse des Einsatzes von Erschließungsstrategien beim Lesen"
   ]
  },
  {
   "cell_type": "markdown",
   "metadata": {},
   "source": [
    "Am 2. 3. 2018 wurden an der Universität Valencia in zwei DaF-Gruppen (A2, B2) Daten zum wahrgenommenen Strategieneinsatz der Lernenden bei der Bearbeitung einer Aufgabe zum Lesen und Verstehen des neuen Wortschatzes erhoben.\n",
    "Die Studierenden wurden gebeten, beim Lesen eines Textes aus dem Lehrwerk zunächst alle für sie neuen Wörter zu markieren (unabhängig von deren Verständnis). Nach einem zweiten Lesedurchgang sollten sie diese in eine Liste eintragen und angeben, welche Strategien sie angewendet hätten, um deren Bedeutung zu erkennen. \n",
    "Ein Teil der Lernenden hatte zuvor (freiwillig) an der Befragung zum Thema Erschließungsstrategien für unbekannten Wortschatz im Deutschen durch Lernende an spanischen Universitäten teilgenommen (siehe: http://diarium.usal.es/martinakienberger/200-2/?lang=de). Für alle Studierenden wurde kurz das Thema erklärt und Beispiele für Strategien gegeben. "
   ]
  },
  {
   "cell_type": "markdown",
   "metadata": {},
   "source": [
    "### Vorbereitung - Datenreinigung"
   ]
  },
  {
   "cell_type": "code",
   "execution_count": 25,
   "metadata": {},
   "outputs": [
    {
     "name": "stdout",
     "output_type": "stream",
     "text": [
      "Populating the interactive namespace from numpy and matplotlib\n"
     ]
    }
   ],
   "source": [
    "import pandas as pd\n",
    "import numpy as np\n",
    "from biofes import biplot\n",
    "from sklearn.utils.extmath import randomized_svd\n",
    "from sklearn.cluster import KMeans, AgglomerativeClustering\n",
    "from adjustText import adjust_text\n",
    "% pylab inline"
   ]
  },
  {
   "cell_type": "code",
   "execution_count": 26,
   "metadata": {},
   "outputs": [],
   "source": [
    "Rohdaten = pd.read_excel('D:\\Daten\\DISS\\Daten\\Granada.xlsx')"
   ]
  },
  {
   "cell_type": "code",
   "execution_count": 27,
   "metadata": {},
   "outputs": [
    {
     "data": {
      "text/html": [
       "<div>\n",
       "<style>\n",
       "    .dataframe thead tr:only-child th {\n",
       "        text-align: right;\n",
       "    }\n",
       "\n",
       "    .dataframe thead th {\n",
       "        text-align: left;\n",
       "    }\n",
       "\n",
       "    .dataframe tbody tr th {\n",
       "        vertical-align: top;\n",
       "    }\n",
       "</style>\n",
       "<table border=\"1\" class=\"dataframe\">\n",
       "  <thead>\n",
       "    <tr style=\"text-align: right;\">\n",
       "      <th></th>\n",
       "      <th>Grupo</th>\n",
       "      <th>ID_alumno</th>\n",
       "      <th>Encuesta</th>\n",
       "      <th>Palabra</th>\n",
       "      <th>Estrategia_1</th>\n",
       "      <th>Estrategia_2</th>\n",
       "      <th>Estrategia_Esp_1</th>\n",
       "      <th>Estrategia_Esp_2</th>\n",
       "      <th>Comentario</th>\n",
       "    </tr>\n",
       "  </thead>\n",
       "  <tbody>\n",
       "    <tr>\n",
       "      <th>0</th>\n",
       "      <td>A1</td>\n",
       "      <td>1</td>\n",
       "      <td>1</td>\n",
       "      <td>Himmel</td>\n",
       "      <td>Con</td>\n",
       "      <td>NaN</td>\n",
       "      <td>NaN</td>\n",
       "      <td>NaN</td>\n",
       "      <td>NaN</td>\n",
       "    </tr>\n",
       "    <tr>\n",
       "      <th>1</th>\n",
       "      <td>A1</td>\n",
       "      <td>1</td>\n",
       "      <td>1</td>\n",
       "      <td>scheint</td>\n",
       "      <td>Con</td>\n",
       "      <td>NaN</td>\n",
       "      <td>NaN</td>\n",
       "      <td>NaN</td>\n",
       "      <td>NaN</td>\n",
       "    </tr>\n",
       "    <tr>\n",
       "      <th>2</th>\n",
       "      <td>A1</td>\n",
       "      <td>1</td>\n",
       "      <td>1</td>\n",
       "      <td>überall</td>\n",
       "      <td>Dicc</td>\n",
       "      <td>NaN</td>\n",
       "      <td>NaN</td>\n",
       "      <td>NaN</td>\n",
       "      <td>NaN</td>\n",
       "    </tr>\n",
       "  </tbody>\n",
       "</table>\n",
       "</div>"
      ],
      "text/plain": [
       "  Grupo  ID_alumno  Encuesta  Palabra Estrategia_1 Estrategia_2  \\\n",
       "0    A1          1         1   Himmel          Con          NaN   \n",
       "1    A1          1         1  scheint          Con          NaN   \n",
       "2    A1          1         1  überall         Dicc          NaN   \n",
       "\n",
       "  Estrategia_Esp_1 Estrategia_Esp_2 Comentario  \n",
       "0              NaN              NaN        NaN  \n",
       "1              NaN              NaN        NaN  \n",
       "2              NaN              NaN        NaN  "
      ]
     },
     "execution_count": 27,
     "metadata": {},
     "output_type": "execute_result"
    }
   ],
   "source": [
    "Rohdaten.head(3)"
   ]
  },
  {
   "cell_type": "code",
   "execution_count": 28,
   "metadata": {},
   "outputs": [],
   "source": [
    "Daten = Rohdaten"
   ]
  },
  {
   "cell_type": "markdown",
   "metadata": {},
   "source": [
    "Alle IDs der Gruppe Granada konnten für die Auswertung genutzt werden."
   ]
  },
  {
   "cell_type": "markdown",
   "metadata": {},
   "source": [
    "#### Auswahl der für die Analyse relevanten Teile der Erhebung"
   ]
  },
  {
   "cell_type": "code",
   "execution_count": 29,
   "metadata": {},
   "outputs": [],
   "source": [
    "cols = ['Grupo','ID_alumno','Encuesta','Palabra','Estrategia_1','Estrategia_2']"
   ]
  },
  {
   "cell_type": "code",
   "execution_count": 30,
   "metadata": {},
   "outputs": [],
   "source": [
    "data = Daten[cols]"
   ]
  },
  {
   "cell_type": "code",
   "execution_count": 31,
   "metadata": {},
   "outputs": [
    {
     "data": {
      "text/plain": [
       "Grupo                             A1\n",
       "ID_alumno                          6\n",
       "Encuesta                           1\n",
       "Palabra         Schlittenhunderennen\n",
       "Estrategia_1                      AL\n",
       "Estrategia_2                     NaN\n",
       "Name: 118, dtype: object"
      ]
     },
     "execution_count": 31,
     "metadata": {},
     "output_type": "execute_result"
    }
   ],
   "source": [
    "data.loc[118]"
   ]
  },
  {
   "cell_type": "markdown",
   "metadata": {},
   "source": [
    "(Weitere in der Excel-Tabelle erfasste Informationen dienten einerseits zur Entscheidung für Aufnahme in oder Ausschluss aus der Analyse und können andererseits für spätere, detaillierte Analysen herangezogen werden.)"
   ]
  },
  {
   "cell_type": "markdown",
   "metadata": {},
   "source": [
    "## Analyse des Strategieneinsatzes"
   ]
  },
  {
   "cell_type": "markdown",
   "metadata": {},
   "source": [
    "### Gruppe A1"
   ]
  },
  {
   "cell_type": "code",
   "execution_count": 32,
   "metadata": {},
   "outputs": [],
   "source": [
    "A1 = data[data.Grupo == 'A1']"
   ]
  },
  {
   "cell_type": "code",
   "execution_count": 33,
   "metadata": {},
   "outputs": [
    {
     "name": "stdout",
     "output_type": "stream",
     "text": [
      "Teilnehmer: 17\n",
      "TN + Online-Befragung: 17\n",
      "TN - Online-Befragung: 0\n",
      "TN ? Online-Befragung: 0\n"
     ]
    }
   ],
   "source": [
    "print(r'Teilnehmer: ' + str(len(A1.ID_alumno.unique()))+'\\n'+\n",
    "      r'TN + Online-Befragung: ' + str(len(A1[A1.Encuesta == 1].ID_alumno.unique()))+'\\n'+\n",
    "      r'TN - Online-Befragung: ' + str(len(A1[A1.Encuesta == 2].ID_alumno.unique()))+'\\n'+\n",
    "      r'TN ? Online-Befragung: ' + str(len(A1[A1.Encuesta == 0].ID_alumno.unique())))"
   ]
  },
  {
   "cell_type": "markdown",
   "metadata": {},
   "source": [
    "Die Gruppe besteht aus 17 Teilnehmern, von denen alle an der Online-Befragung teilgenommen haben. (Diese wurde in der Unterrichtszeit durchgeführt.)"
   ]
  },
  {
   "cell_type": "markdown",
   "metadata": {},
   "source": [
    "#### Als \"neu\" identifizierte Wörter (A1)"
   ]
  },
  {
   "cell_type": "code",
   "execution_count": 34,
   "metadata": {},
   "outputs": [
    {
     "data": {
      "text/plain": [
       "73"
      ]
     },
     "execution_count": 34,
     "metadata": {},
     "output_type": "execute_result"
    }
   ],
   "source": [
    "len(A1.Palabra.unique())"
   ]
  },
  {
   "cell_type": "markdown",
   "metadata": {},
   "source": [
    "73 unterschiedliche Wörter wurden von den Lernenden als für sie \"neu\" angegeben. Bei der Datenübertragung von den Aufgabenblättern in Excel wurden orthographische Fehler berichtigt. Die Wörter wurden in der jeweiligen Schreibung des Originaltextes aus dem Lehrbuch übernommen (auch wenn die Lernenden teilweise stattdessen eine andere Form, z.B. Infinitiv, angegeben hatten)."
   ]
  },
  {
   "cell_type": "code",
   "execution_count": 35,
   "metadata": {},
   "outputs": [
    {
     "data": {
      "image/png": "[encoded data removed]",
      "text/plain": [
       "<matplotlib.figure.Figure at 0xcdd0f60>"
      ]
     },
     "metadata": {},
     "output_type": "display_data"
    }
   ],
   "source": [
    "A1.Palabra.value_counts(ascending = True).plot(kind = 'barh', figsize = (5,15));"
   ]
  },
  {
   "cell_type": "markdown",
   "metadata": {},
   "source": [
    "#### Kreuztabelle Studenten - neue Wörter (A1)"
   ]
  },
  {
   "cell_type": "code",
   "execution_count": 36,
   "metadata": {},
   "outputs": [],
   "source": [
    "Al_Pal_A1 = pd.crosstab(A1.ID_alumno, A1.Palabra, margins = True)"
   ]
  },
  {
   "cell_type": "code",
   "execution_count": 37,
   "metadata": {},
   "outputs": [
    {
     "data": {
      "text/html": [
       "<div>\n",
       "<style>\n",
       "    .dataframe thead tr:only-child th {\n",
       "        text-align: right;\n",
       "    }\n",
       "\n",
       "    .dataframe thead th {\n",
       "        text-align: left;\n",
       "    }\n",
       "\n",
       "    .dataframe tbody tr th {\n",
       "        vertical-align: top;\n",
       "    }\n",
       "</style>\n",
       "<table border=\"1\" class=\"dataframe\">\n",
       "  <thead>\n",
       "    <tr style=\"text-align: right;\">\n",
       "      <th>ID_alumno</th>\n",
       "      <th>1</th>\n",
       "      <th>2</th>\n",
       "      <th>3</th>\n",
       "      <th>4</th>\n",
       "      <th>5</th>\n",
       "      <th>6</th>\n",
       "      <th>7</th>\n",
       "      <th>8</th>\n",
       "      <th>9</th>\n",
       "      <th>10</th>\n",
       "      <th>11</th>\n",
       "      <th>12</th>\n",
       "      <th>13</th>\n",
       "      <th>14</th>\n",
       "      <th>15</th>\n",
       "      <th>16</th>\n",
       "      <th>17</th>\n",
       "      <th>All</th>\n",
       "    </tr>\n",
       "    <tr>\n",
       "      <th>Palabra</th>\n",
       "      <th></th>\n",
       "      <th></th>\n",
       "      <th></th>\n",
       "      <th></th>\n",
       "      <th></th>\n",
       "      <th></th>\n",
       "      <th></th>\n",
       "      <th></th>\n",
       "      <th></th>\n",
       "      <th></th>\n",
       "      <th></th>\n",
       "      <th></th>\n",
       "      <th></th>\n",
       "      <th></th>\n",
       "      <th></th>\n",
       "      <th></th>\n",
       "      <th></th>\n",
       "      <th></th>\n",
       "    </tr>\n",
       "  </thead>\n",
       "  <tbody>\n",
       "    <tr>\n",
       "      <th>Allgäu</th>\n",
       "      <td>0</td>\n",
       "      <td>1</td>\n",
       "      <td>1</td>\n",
       "      <td>0</td>\n",
       "      <td>0</td>\n",
       "      <td>0</td>\n",
       "      <td>0</td>\n",
       "      <td>1</td>\n",
       "      <td>0</td>\n",
       "      <td>0</td>\n",
       "      <td>0</td>\n",
       "      <td>0</td>\n",
       "      <td>0</td>\n",
       "      <td>1</td>\n",
       "      <td>0</td>\n",
       "      <td>0</td>\n",
       "      <td>0</td>\n",
       "      <td>4</td>\n",
       "    </tr>\n",
       "    <tr>\n",
       "      <th>Beine</th>\n",
       "      <td>0</td>\n",
       "      <td>0</td>\n",
       "      <td>0</td>\n",
       "      <td>0</td>\n",
       "      <td>0</td>\n",
       "      <td>0</td>\n",
       "      <td>0</td>\n",
       "      <td>0</td>\n",
       "      <td>1</td>\n",
       "      <td>1</td>\n",
       "      <td>0</td>\n",
       "      <td>0</td>\n",
       "      <td>0</td>\n",
       "      <td>0</td>\n",
       "      <td>0</td>\n",
       "      <td>0</td>\n",
       "      <td>0</td>\n",
       "      <td>2</td>\n",
       "    </tr>\n",
       "    <tr>\n",
       "      <th>Besitzer</th>\n",
       "      <td>1</td>\n",
       "      <td>1</td>\n",
       "      <td>0</td>\n",
       "      <td>0</td>\n",
       "      <td>0</td>\n",
       "      <td>0</td>\n",
       "      <td>0</td>\n",
       "      <td>1</td>\n",
       "      <td>0</td>\n",
       "      <td>0</td>\n",
       "      <td>0</td>\n",
       "      <td>0</td>\n",
       "      <td>0</td>\n",
       "      <td>0</td>\n",
       "      <td>0</td>\n",
       "      <td>0</td>\n",
       "      <td>0</td>\n",
       "      <td>3</td>\n",
       "    </tr>\n",
       "    <tr>\n",
       "      <th>Besitzern</th>\n",
       "      <td>0</td>\n",
       "      <td>0</td>\n",
       "      <td>1</td>\n",
       "      <td>1</td>\n",
       "      <td>0</td>\n",
       "      <td>1</td>\n",
       "      <td>0</td>\n",
       "      <td>0</td>\n",
       "      <td>0</td>\n",
       "      <td>1</td>\n",
       "      <td>1</td>\n",
       "      <td>0</td>\n",
       "      <td>0</td>\n",
       "      <td>0</td>\n",
       "      <td>0</td>\n",
       "      <td>0</td>\n",
       "      <td>1</td>\n",
       "      <td>6</td>\n",
       "    </tr>\n",
       "    <tr>\n",
       "      <th>Boden</th>\n",
       "      <td>1</td>\n",
       "      <td>0</td>\n",
       "      <td>1</td>\n",
       "      <td>0</td>\n",
       "      <td>0</td>\n",
       "      <td>0</td>\n",
       "      <td>0</td>\n",
       "      <td>0</td>\n",
       "      <td>0</td>\n",
       "      <td>1</td>\n",
       "      <td>0</td>\n",
       "      <td>0</td>\n",
       "      <td>0</td>\n",
       "      <td>0</td>\n",
       "      <td>0</td>\n",
       "      <td>0</td>\n",
       "      <td>0</td>\n",
       "      <td>3</td>\n",
       "    </tr>\n",
       "  </tbody>\n",
       "</table>\n",
       "</div>"
      ],
      "text/plain": [
       "ID_alumno  1  2  3  4  5  6  7  8  9  10  11  12  13  14  15  16  17  All\n",
       "Palabra                                                                  \n",
       "Allgäu     0  1  1  0  0  0  0  1  0   0   0   0   0   1   0   0   0    4\n",
       "Beine      0  0  0  0  0  0  0  0  1   1   0   0   0   0   0   0   0    2\n",
       "Besitzer   1  1  0  0  0  0  0  1  0   0   0   0   0   0   0   0   0    3\n",
       "Besitzern  0  0  1  1  0  1  0  0  0   1   1   0   0   0   0   0   1    6\n",
       "Boden      1  0  1  0  0  0  0  0  0   1   0   0   0   0   0   0   0    3"
      ]
     },
     "execution_count": 37,
     "metadata": {},
     "output_type": "execute_result"
    }
   ],
   "source": [
    "Al_Pal_A1.T.head()"
   ]
  },
  {
   "cell_type": "code",
   "execution_count": 38,
   "metadata": {},
   "outputs": [
    {
     "name": "stdout",
     "output_type": "stream",
     "text": [
      "Durchschnittlich als \"neu\" identifizierte Wortanzahl: 16.88235294117647\n"
     ]
    }
   ],
   "source": [
    "print(r'Durchschnittlich als \"neu\" identifizierte Wortanzahl: '+str(Al_Pal_A1['All'][:-1].mean()))"
   ]
  },
  {
   "cell_type": "code",
   "execution_count": 39,
   "metadata": {},
   "outputs": [
    {
     "name": "stdout",
     "output_type": "stream",
     "text": [
      "Minimum der als \"neu\" identifizierten Wörter: 4\n",
      "Maximum der als \"neu\" identifizierten Wörter: 34\n"
     ]
    }
   ],
   "source": [
    "print(r'Minimum der als \"neu\" identifizierten Wörter: '+str(A1.ID_alumno.value_counts().min()) + '\\n' +\n",
    "      r'Maximum der als \"neu\" identifizierten Wörter: '+str(A1.ID_alumno.value_counts().max()))"
   ]
  },
  {
   "cell_type": "markdown",
   "metadata": {},
   "source": [
    "Durchschnittlich wurden ca. 13 Wörter als \"neu\" identifiziert. Große Schwankungsbreite: zwischen 4 und 27 (siehe oben)."
   ]
  },
  {
   "cell_type": "markdown",
   "metadata": {},
   "source": [
    "##### Histogramm"
   ]
  },
  {
   "cell_type": "code",
   "execution_count": 40,
   "metadata": {},
   "outputs": [
    {
     "data": {
      "image/png": "[encoded data removed]",
      "text/plain": [
       "<matplotlib.figure.Figure at 0x9eb1320>"
      ]
     },
     "metadata": {},
     "output_type": "display_data"
    }
   ],
   "source": [
    "A1.ID_alumno.value_counts().plot(kind = 'hist',\n",
    "                                bins = 10);"
   ]
  },
  {
   "cell_type": "markdown",
   "metadata": {},
   "source": [
    "Das Histogramm zeigt die Frequenz der notierten Wortanzahl pro TN - keine Normalverteilung in diesem Fall."
   ]
  },
  {
   "cell_type": "markdown",
   "metadata": {},
   "source": [
    "#### Einsatz von Erschließungsstrategien (A1)"
   ]
  },
  {
   "cell_type": "markdown",
   "metadata": {},
   "source": [
    "Die freien Angaben der Lernenden zu den ihrer Ansicht nach eingesetzten Strategien wurden den Hauptkategorien aus der Online-Befragung zu Erschließungsstrategien unter DaF-Lernenden an spanischen Universitäten (siehe http://diarium.usal.es/martinakienberger/200-2/?lang=de) zugeordnet und entsprechend in Excel erfasst:\n",
    "\n",
    "* L1 = Descubro el significado o la función de palabras nuevas en alemán gracias a mi lengua materna. (Ich erschließe die Bedeutung oder Funktion unbekannter deutscher Wörter mit Hilfe meiner Muttersprache.)\n",
    "* LE = Descubro el significado o la función de palabras nuevas en alemán con la ayuda de otras lenguas. (Ich erschließe unbekannte Wörter mit Hilfe anderer Sprachen.)\n",
    "* AL = Utilizo mis conocimientos de alemán, p. ej. otras palabras conocidas, clases de palabras o la formación de palabras compuestas. (Ich nutze mein Wissen über das Deutsche, z.B. andere bekannte Wörter, Wortarten oder Kompositabildung.)\n",
    "* Con = Utilizo información extraída del contexto, p. ej. la posición de una palabra en la frase o el formato del texto. (Ich nutze Informationen aus dem Kontext, z.B. die Position eines Wortes im Satz oder die Gestaltung des Textes.)\n",
    "* Prof = Pido ayuda a mi profesor/a. (Ich bitte meinen Lehrer/meine Lehrerin um Hilfe.)\n",
    "* Co = Pido ayuda a mis compañeros/as de clase. (Ich bitte die anderen Kursteilnehmer/innen um Hilfe.)\n",
    "* Dicc = Consulto un diccionario u otra fuente (en papel o digital). (Ich konsultiere ein Wörterbuch oder eine andere Quelle (Printversion oder digital).)\n",
    "\n",
    "Vgl. Erklärungen und Beispiele in \"Datenanalyse_Voc_Valencia\" und \"Datenanalyse_Voc_Salamanca\"."
   ]
  },
  {
   "cell_type": "code",
   "execution_count": 41,
   "metadata": {},
   "outputs": [
    {
     "data": {
      "text/plain": [
       "Dicc    91\n",
       "Con     60\n",
       "AL      40\n",
       "Co      25\n",
       "LE      22\n",
       "Prof     6\n",
       "L1       4\n",
       "Name: Estrategia_1, dtype: int64"
      ]
     },
     "execution_count": 41,
     "metadata": {},
     "output_type": "execute_result"
    }
   ],
   "source": [
    "A1.Estrategia_1.value_counts()"
   ]
  },
  {
   "cell_type": "code",
   "execution_count": 42,
   "metadata": {},
   "outputs": [
    {
     "data": {
      "text/plain": [
       "Dicc    6\n",
       "AL      4\n",
       "Con     3\n",
       "LE      3\n",
       "Prof    1\n",
       "Name: Estrategia_2, dtype: int64"
      ]
     },
     "execution_count": 42,
     "metadata": {},
     "output_type": "execute_result"
    }
   ],
   "source": [
    "A1.Estrategia_2.value_counts()"
   ]
  },
  {
   "cell_type": "code",
   "execution_count": 43,
   "metadata": {},
   "outputs": [],
   "source": [
    "v1 = A1.Estrategia_1.value_counts()\n",
    "v2 = A1.Estrategia_2.value_counts()"
   ]
  },
  {
   "cell_type": "code",
   "execution_count": 46,
   "metadata": {},
   "outputs": [],
   "source": [
    "v = v1 + v2\n",
    "v['L1'] = v1['L1']\n",
    "v['Co'] = v1['Co']"
   ]
  },
  {
   "cell_type": "markdown",
   "metadata": {},
   "source": [
    "Da die Angaben einiger Studierender zwei Strategien zugeordnet werden können, müssen die Nennungen für die Gesamtauswertung zusammengezählt werden."
   ]
  },
  {
   "cell_type": "code",
   "execution_count": 47,
   "metadata": {},
   "outputs": [
    {
     "data": {
      "text/plain": [
       "Dicc    97.0\n",
       "Con     63.0\n",
       "AL      44.0\n",
       "LE      25.0\n",
       "Co      25.0\n",
       "Prof     7.0\n",
       "L1       4.0\n",
       "dtype: float64"
      ]
     },
     "execution_count": 47,
     "metadata": {},
     "output_type": "execute_result"
    }
   ],
   "source": [
    "v.sort_values(ascending = False)"
   ]
  },
  {
   "cell_type": "code",
   "execution_count": 48,
   "metadata": {},
   "outputs": [
    {
     "data": {
      "image/png": "[encoded data removed]",
      "text/plain": [
       "<matplotlib.figure.Figure at 0xd094160>"
      ]
     },
     "metadata": {},
     "output_type": "display_data"
    }
   ],
   "source": [
    "v.sort_values(ascending = False).plot(kind = 'bar', \n",
    "                                      #title = 'Angaben zu eingesetzten Strategien',\n",
    "                                     figsize = (10,6));"
   ]
  },
  {
   "cell_type": "code",
   "execution_count": 49,
   "metadata": {},
   "outputs": [
    {
     "data": {
      "image/png": "[encoded data removed]",
      "text/plain": [
       "<matplotlib.figure.Figure at 0xd2ca358>"
      ]
     },
     "metadata": {},
     "output_type": "display_data"
    }
   ],
   "source": [
    "ax = v.sort_values(ascending = False).plot(kind = 'pie', \n",
    "                                           #title = 'Angaben zu eingesetzten Strategien', \n",
    "                                           figsize = (10,10),\n",
    "                                           autopct='%.1f', startangle = -20);\n",
    "\n",
    "ax.set_ylabel(\"\");"
   ]
  },
  {
   "cell_type": "markdown",
   "metadata": {},
   "source": [
    "Die beiden Diagramme zeigen, mit welcher Häufigkeit die unterschiedlichen Arten von Strategien in der Gesamtgruppe eingesetzt wurden.\n",
    "\n",
    "In der Folge wird untersucht, wie sich das strategische Verhalten der einzelnen Lernenden unterscheidet. Für die Analyse wird mit einer Kreuztabelle und Biplot gearbeitet. Zuletzt wird versucht, durch eine Cluster-Analyse Gruppen von Individuen mit ähnlichem Strategieneinsatz zu bilden."
   ]
  },
  {
   "cell_type": "markdown",
   "metadata": {},
   "source": [
    "#### Kreuztabelle Studenten - verwendete Strategien (A1)"
   ]
  },
  {
   "cell_type": "code",
   "execution_count": 50,
   "metadata": {},
   "outputs": [],
   "source": [
    "CTA1 = pd.crosstab(A1.ID_alumno, A1.Estrategia_1, margins = True)\n",
    "\n",
    "CTA1_2 = pd.crosstab(A1.ID_alumno, A1.Estrategia_2, margins = True)"
   ]
  },
  {
   "cell_type": "code",
   "execution_count": 51,
   "metadata": {},
   "outputs": [],
   "source": [
    "for val in CTA1_2.index:\n",
    "    for col in CTA1_2.columns:\n",
    "        if CTA1_2.loc[val,col]!=0:\n",
    "            CTA1.loc[val,col] = CTA1.loc[val,col]+ CTA1_2.loc[val,col]"
   ]
  },
  {
   "cell_type": "code",
   "execution_count": 52,
   "metadata": {},
   "outputs": [
    {
     "data": {
      "text/html": [
       "<div>\n",
       "<style>\n",
       "    .dataframe thead tr:only-child th {\n",
       "        text-align: right;\n",
       "    }\n",
       "\n",
       "    .dataframe thead th {\n",
       "        text-align: left;\n",
       "    }\n",
       "\n",
       "    .dataframe tbody tr th {\n",
       "        vertical-align: top;\n",
       "    }\n",
       "</style>\n",
       "<table border=\"1\" class=\"dataframe\">\n",
       "  <thead>\n",
       "    <tr style=\"text-align: right;\">\n",
       "      <th>Estrategia_1</th>\n",
       "      <th>AL</th>\n",
       "      <th>Co</th>\n",
       "      <th>Con</th>\n",
       "      <th>Dicc</th>\n",
       "      <th>L1</th>\n",
       "      <th>LE</th>\n",
       "      <th>Prof</th>\n",
       "      <th>All</th>\n",
       "    </tr>\n",
       "    <tr>\n",
       "      <th>ID_alumno</th>\n",
       "      <th></th>\n",
       "      <th></th>\n",
       "      <th></th>\n",
       "      <th></th>\n",
       "      <th></th>\n",
       "      <th></th>\n",
       "      <th></th>\n",
       "      <th></th>\n",
       "    </tr>\n",
       "  </thead>\n",
       "  <tbody>\n",
       "    <tr>\n",
       "      <th>1</th>\n",
       "      <td>3</td>\n",
       "      <td>8</td>\n",
       "      <td>4</td>\n",
       "      <td>10</td>\n",
       "      <td>1</td>\n",
       "      <td>0</td>\n",
       "      <td>0</td>\n",
       "      <td>26</td>\n",
       "    </tr>\n",
       "    <tr>\n",
       "      <th>2</th>\n",
       "      <td>1</td>\n",
       "      <td>2</td>\n",
       "      <td>6</td>\n",
       "      <td>11</td>\n",
       "      <td>0</td>\n",
       "      <td>2</td>\n",
       "      <td>0</td>\n",
       "      <td>22</td>\n",
       "    </tr>\n",
       "    <tr>\n",
       "      <th>3</th>\n",
       "      <td>4</td>\n",
       "      <td>4</td>\n",
       "      <td>6</td>\n",
       "      <td>11</td>\n",
       "      <td>0</td>\n",
       "      <td>0</td>\n",
       "      <td>1</td>\n",
       "      <td>26</td>\n",
       "    </tr>\n",
       "    <tr>\n",
       "      <th>4</th>\n",
       "      <td>8</td>\n",
       "      <td>2</td>\n",
       "      <td>7</td>\n",
       "      <td>11</td>\n",
       "      <td>0</td>\n",
       "      <td>5</td>\n",
       "      <td>0</td>\n",
       "      <td>33</td>\n",
       "    </tr>\n",
       "    <tr>\n",
       "      <th>5</th>\n",
       "      <td>0</td>\n",
       "      <td>0</td>\n",
       "      <td>3</td>\n",
       "      <td>1</td>\n",
       "      <td>0</td>\n",
       "      <td>0</td>\n",
       "      <td>0</td>\n",
       "      <td>4</td>\n",
       "    </tr>\n",
       "    <tr>\n",
       "      <th>6</th>\n",
       "      <td>3</td>\n",
       "      <td>1</td>\n",
       "      <td>1</td>\n",
       "      <td>7</td>\n",
       "      <td>0</td>\n",
       "      <td>0</td>\n",
       "      <td>0</td>\n",
       "      <td>12</td>\n",
       "    </tr>\n",
       "    <tr>\n",
       "      <th>7</th>\n",
       "      <td>3</td>\n",
       "      <td>0</td>\n",
       "      <td>3</td>\n",
       "      <td>13</td>\n",
       "      <td>1</td>\n",
       "      <td>4</td>\n",
       "      <td>0</td>\n",
       "      <td>24</td>\n",
       "    </tr>\n",
       "    <tr>\n",
       "      <th>8</th>\n",
       "      <td>3</td>\n",
       "      <td>0</td>\n",
       "      <td>6</td>\n",
       "      <td>14</td>\n",
       "      <td>0</td>\n",
       "      <td>1</td>\n",
       "      <td>0</td>\n",
       "      <td>24</td>\n",
       "    </tr>\n",
       "    <tr>\n",
       "      <th>9</th>\n",
       "      <td>4</td>\n",
       "      <td>0</td>\n",
       "      <td>11</td>\n",
       "      <td>7</td>\n",
       "      <td>0</td>\n",
       "      <td>4</td>\n",
       "      <td>2</td>\n",
       "      <td>28</td>\n",
       "    </tr>\n",
       "    <tr>\n",
       "      <th>10</th>\n",
       "      <td>3</td>\n",
       "      <td>2</td>\n",
       "      <td>7</td>\n",
       "      <td>4</td>\n",
       "      <td>0</td>\n",
       "      <td>3</td>\n",
       "      <td>1</td>\n",
       "      <td>20</td>\n",
       "    </tr>\n",
       "    <tr>\n",
       "      <th>11</th>\n",
       "      <td>0</td>\n",
       "      <td>1</td>\n",
       "      <td>1</td>\n",
       "      <td>2</td>\n",
       "      <td>0</td>\n",
       "      <td>1</td>\n",
       "      <td>0</td>\n",
       "      <td>5</td>\n",
       "    </tr>\n",
       "    <tr>\n",
       "      <th>12</th>\n",
       "      <td>0</td>\n",
       "      <td>0</td>\n",
       "      <td>3</td>\n",
       "      <td>0</td>\n",
       "      <td>0</td>\n",
       "      <td>0</td>\n",
       "      <td>1</td>\n",
       "      <td>4</td>\n",
       "    </tr>\n",
       "    <tr>\n",
       "      <th>13</th>\n",
       "      <td>0</td>\n",
       "      <td>0</td>\n",
       "      <td>2</td>\n",
       "      <td>1</td>\n",
       "      <td>0</td>\n",
       "      <td>1</td>\n",
       "      <td>2</td>\n",
       "      <td>6</td>\n",
       "    </tr>\n",
       "    <tr>\n",
       "      <th>14</th>\n",
       "      <td>2</td>\n",
       "      <td>0</td>\n",
       "      <td>2</td>\n",
       "      <td>0</td>\n",
       "      <td>1</td>\n",
       "      <td>2</td>\n",
       "      <td>0</td>\n",
       "      <td>7</td>\n",
       "    </tr>\n",
       "    <tr>\n",
       "      <th>15</th>\n",
       "      <td>1</td>\n",
       "      <td>2</td>\n",
       "      <td>0</td>\n",
       "      <td>4</td>\n",
       "      <td>0</td>\n",
       "      <td>0</td>\n",
       "      <td>0</td>\n",
       "      <td>7</td>\n",
       "    </tr>\n",
       "    <tr>\n",
       "      <th>16</th>\n",
       "      <td>1</td>\n",
       "      <td>3</td>\n",
       "      <td>0</td>\n",
       "      <td>1</td>\n",
       "      <td>0</td>\n",
       "      <td>0</td>\n",
       "      <td>0</td>\n",
       "      <td>5</td>\n",
       "    </tr>\n",
       "    <tr>\n",
       "      <th>17</th>\n",
       "      <td>8</td>\n",
       "      <td>0</td>\n",
       "      <td>1</td>\n",
       "      <td>0</td>\n",
       "      <td>1</td>\n",
       "      <td>2</td>\n",
       "      <td>0</td>\n",
       "      <td>12</td>\n",
       "    </tr>\n",
       "    <tr>\n",
       "      <th>All</th>\n",
       "      <td>44</td>\n",
       "      <td>25</td>\n",
       "      <td>63</td>\n",
       "      <td>97</td>\n",
       "      <td>4</td>\n",
       "      <td>25</td>\n",
       "      <td>7</td>\n",
       "      <td>265</td>\n",
       "    </tr>\n",
       "  </tbody>\n",
       "</table>\n",
       "</div>"
      ],
      "text/plain": [
       "Estrategia_1  AL  Co  Con  Dicc  L1  LE  Prof  All\n",
       "ID_alumno                                         \n",
       "1              3   8    4    10   1   0     0   26\n",
       "2              1   2    6    11   0   2     0   22\n",
       "3              4   4    6    11   0   0     1   26\n",
       "4              8   2    7    11   0   5     0   33\n",
       "5              0   0    3     1   0   0     0    4\n",
       "6              3   1    1     7   0   0     0   12\n",
       "7              3   0    3    13   1   4     0   24\n",
       "8              3   0    6    14   0   1     0   24\n",
       "9              4   0   11     7   0   4     2   28\n",
       "10             3   2    7     4   0   3     1   20\n",
       "11             0   1    1     2   0   1     0    5\n",
       "12             0   0    3     0   0   0     1    4\n",
       "13             0   0    2     1   0   1     2    6\n",
       "14             2   0    2     0   1   2     0    7\n",
       "15             1   2    0     4   0   0     0    7\n",
       "16             1   3    0     1   0   0     0    5\n",
       "17             8   0    1     0   1   2     0   12\n",
       "All           44  25   63    97   4  25     7  265"
      ]
     },
     "execution_count": 52,
     "metadata": {},
     "output_type": "execute_result"
    }
   ],
   "source": [
    "CTA1"
   ]
  },
  {
   "cell_type": "markdown",
   "metadata": {},
   "source": [
    "#### Korrespondenzanalyse und Biplot Studenten - verwendete Strategien (A1)"
   ]
  },
  {
   "cell_type": "code",
   "execution_count": 54,
   "metadata": {},
   "outputs": [],
   "source": [
    "#CA_A1L = biplot.CA(CTA1.values[:-1,:-1], 7, method = 1)"
   ]
  },
  {
   "cell_type": "markdown",
   "metadata": {},
   "source": [
    "Mit den Daten der Kreuztabelle kann eine Korrespondenzanalyse durchgeführt werden, um die Beziehungen zwischen Elementen und Variablen grafisch repräsentieren zu können.\n",
    "\n",
    "Eine Alternative stellt der Biplot dar, der besser geeignet ist, um Dimensionen der Darstellung zu reduzieren."
   ]
  },
  {
   "cell_type": "code",
   "execution_count": 55,
   "metadata": {},
   "outputs": [],
   "source": [
    "Biplot_A1L = biplot.Classic(CTA1.values[:-1,:-1], 7, method = 1)"
   ]
  },
  {
   "cell_type": "code",
   "execution_count": 56,
   "metadata": {},
   "outputs": [],
   "source": [
    "R = Biplot_A1L.RowCoord\n",
    "C = Biplot_A1L.ColCoord\n",
    "cr = Biplot_A1L.RowCont\n",
    "cc = Biplot_A1L.ColCont"
   ]
  },
  {
   "cell_type": "markdown",
   "metadata": {},
   "source": [
    "##### Qualität der Repräsentation der Elemente und Variablen auf den Achsen des Biplots"
   ]
  },
  {
   "cell_type": "code",
   "execution_count": 57,
   "metadata": {},
   "outputs": [
    {
     "data": {
      "text/plain": [
       "array([ 34.11163144,  24.85892712,  18.22320109,  10.36199183,\n",
       "         6.52241846,   3.70092203,   2.22090803])"
      ]
     },
     "execution_count": 57,
     "metadata": {},
     "output_type": "execute_result"
    }
   ],
   "source": [
    "Biplot_A1L.Inert"
   ]
  },
  {
   "cell_type": "markdown",
   "metadata": {},
   "source": [
    "Überblick über Informationsgehalt der einzelnen Achsen des Biplot (hier 7)"
   ]
  },
  {
   "cell_type": "code",
   "execution_count": 58,
   "metadata": {},
   "outputs": [
    {
     "data": {
      "text/html": [
       "<div>\n",
       "<style>\n",
       "    .dataframe thead tr:only-child th {\n",
       "        text-align: right;\n",
       "    }\n",
       "\n",
       "    .dataframe thead th {\n",
       "        text-align: left;\n",
       "    }\n",
       "\n",
       "    .dataframe tbody tr th {\n",
       "        vertical-align: top;\n",
       "    }\n",
       "</style>\n",
       "<table border=\"1\" class=\"dataframe\">\n",
       "  <thead>\n",
       "    <tr style=\"text-align: right;\">\n",
       "      <th></th>\n",
       "      <th>Axis_1</th>\n",
       "      <th>Axis_2</th>\n",
       "      <th>Axis_3</th>\n",
       "      <th>Axis_4</th>\n",
       "      <th>Axis_5</th>\n",
       "      <th>Axis_6</th>\n",
       "      <th>Axis_7</th>\n",
       "    </tr>\n",
       "    <tr>\n",
       "      <th>ID_alumno</th>\n",
       "      <th></th>\n",
       "      <th></th>\n",
       "      <th></th>\n",
       "      <th></th>\n",
       "      <th></th>\n",
       "      <th></th>\n",
       "      <th></th>\n",
       "    </tr>\n",
       "  </thead>\n",
       "  <tbody>\n",
       "    <tr>\n",
       "      <th>1</th>\n",
       "      <td>0.192328</td>\n",
       "      <td>48.285887</td>\n",
       "      <td>29.858945</td>\n",
       "      <td>19.554050</td>\n",
       "      <td>1.739133</td>\n",
       "      <td>0.234895</td>\n",
       "      <td>0.134762</td>\n",
       "    </tr>\n",
       "    <tr>\n",
       "      <th>2</th>\n",
       "      <td>13.917578</td>\n",
       "      <td>0.205027</td>\n",
       "      <td>33.723765</td>\n",
       "      <td>31.800686</td>\n",
       "      <td>12.692214</td>\n",
       "      <td>6.899531</td>\n",
       "      <td>0.761199</td>\n",
       "    </tr>\n",
       "    <tr>\n",
       "      <th>3</th>\n",
       "      <td>11.399402</td>\n",
       "      <td>0.587376</td>\n",
       "      <td>65.640460</td>\n",
       "      <td>6.947569</td>\n",
       "      <td>3.822508</td>\n",
       "      <td>11.589920</td>\n",
       "      <td>0.012764</td>\n",
       "    </tr>\n",
       "    <tr>\n",
       "      <th>4</th>\n",
       "      <td>77.569203</td>\n",
       "      <td>2.424959</td>\n",
       "      <td>0.541522</td>\n",
       "      <td>4.452387</td>\n",
       "      <td>10.985393</td>\n",
       "      <td>2.992679</td>\n",
       "      <td>1.033856</td>\n",
       "    </tr>\n",
       "    <tr>\n",
       "      <th>5</th>\n",
       "      <td>66.992539</td>\n",
       "      <td>7.970264</td>\n",
       "      <td>0.651795</td>\n",
       "      <td>10.126107</td>\n",
       "      <td>0.028257</td>\n",
       "      <td>1.321934</td>\n",
       "      <td>12.909104</td>\n",
       "    </tr>\n",
       "    <tr>\n",
       "      <th>6</th>\n",
       "      <td>32.654494</td>\n",
       "      <td>5.918374</td>\n",
       "      <td>2.880415</td>\n",
       "      <td>26.185540</td>\n",
       "      <td>13.486468</td>\n",
       "      <td>17.339586</td>\n",
       "      <td>1.535122</td>\n",
       "    </tr>\n",
       "    <tr>\n",
       "      <th>7</th>\n",
       "      <td>23.618405</td>\n",
       "      <td>22.013625</td>\n",
       "      <td>16.449233</td>\n",
       "      <td>3.886272</td>\n",
       "      <td>28.993161</td>\n",
       "      <td>0.651833</td>\n",
       "      <td>4.387471</td>\n",
       "    </tr>\n",
       "    <tr>\n",
       "      <th>8</th>\n",
       "      <td>18.869083</td>\n",
       "      <td>0.067145</td>\n",
       "      <td>10.032074</td>\n",
       "      <td>49.551306</td>\n",
       "      <td>1.846358</td>\n",
       "      <td>15.498147</td>\n",
       "      <td>4.135887</td>\n",
       "    </tr>\n",
       "    <tr>\n",
       "      <th>9</th>\n",
       "      <td>51.437077</td>\n",
       "      <td>42.678335</td>\n",
       "      <td>0.603677</td>\n",
       "      <td>4.451454</td>\n",
       "      <td>0.275247</td>\n",
       "      <td>0.006862</td>\n",
       "      <td>0.547347</td>\n",
       "    </tr>\n",
       "    <tr>\n",
       "      <th>10</th>\n",
       "      <td>36.460621</td>\n",
       "      <td>36.317301</td>\n",
       "      <td>0.202184</td>\n",
       "      <td>8.726618</td>\n",
       "      <td>1.680221</td>\n",
       "      <td>16.509860</td>\n",
       "      <td>0.103195</td>\n",
       "    </tr>\n",
       "    <tr>\n",
       "      <th>11</th>\n",
       "      <td>75.920277</td>\n",
       "      <td>1.081071</td>\n",
       "      <td>0.605341</td>\n",
       "      <td>10.862101</td>\n",
       "      <td>0.048852</td>\n",
       "      <td>10.442126</td>\n",
       "      <td>1.040232</td>\n",
       "    </tr>\n",
       "    <tr>\n",
       "      <th>12</th>\n",
       "      <td>49.783636</td>\n",
       "      <td>44.802539</td>\n",
       "      <td>0.982375</td>\n",
       "      <td>1.994883</td>\n",
       "      <td>0.181469</td>\n",
       "      <td>0.565481</td>\n",
       "      <td>1.689618</td>\n",
       "    </tr>\n",
       "    <tr>\n",
       "      <th>13</th>\n",
       "      <td>15.327114</td>\n",
       "      <td>59.294678</td>\n",
       "      <td>2.012585</td>\n",
       "      <td>12.402735</td>\n",
       "      <td>1.396841</td>\n",
       "      <td>2.273214</td>\n",
       "      <td>7.292833</td>\n",
       "    </tr>\n",
       "    <tr>\n",
       "      <th>14</th>\n",
       "      <td>9.197226</td>\n",
       "      <td>15.063998</td>\n",
       "      <td>57.431821</td>\n",
       "      <td>4.292814</td>\n",
       "      <td>9.059022</td>\n",
       "      <td>1.644765</td>\n",
       "      <td>3.310354</td>\n",
       "    </tr>\n",
       "    <tr>\n",
       "      <th>15</th>\n",
       "      <td>80.281232</td>\n",
       "      <td>2.622472</td>\n",
       "      <td>5.067844</td>\n",
       "      <td>5.706609</td>\n",
       "      <td>2.582686</td>\n",
       "      <td>0.048585</td>\n",
       "      <td>3.690573</td>\n",
       "    </tr>\n",
       "    <tr>\n",
       "      <th>16</th>\n",
       "      <td>78.128194</td>\n",
       "      <td>2.856313</td>\n",
       "      <td>4.868011</td>\n",
       "      <td>0.005404</td>\n",
       "      <td>7.237484</td>\n",
       "      <td>5.305785</td>\n",
       "      <td>1.598809</td>\n",
       "    </tr>\n",
       "    <tr>\n",
       "      <th>17</th>\n",
       "      <td>0.501739</td>\n",
       "      <td>26.928861</td>\n",
       "      <td>52.896510</td>\n",
       "      <td>5.383279</td>\n",
       "      <td>10.793387</td>\n",
       "      <td>3.001736</td>\n",
       "      <td>0.494487</td>\n",
       "    </tr>\n",
       "  </tbody>\n",
       "</table>\n",
       "</div>"
      ],
      "text/plain": [
       "              Axis_1     Axis_2     Axis_3     Axis_4     Axis_5     Axis_6  \\\n",
       "ID_alumno                                                                     \n",
       "1           0.192328  48.285887  29.858945  19.554050   1.739133   0.234895   \n",
       "2          13.917578   0.205027  33.723765  31.800686  12.692214   6.899531   \n",
       "3          11.399402   0.587376  65.640460   6.947569   3.822508  11.589920   \n",
       "4          77.569203   2.424959   0.541522   4.452387  10.985393   2.992679   \n",
       "5          66.992539   7.970264   0.651795  10.126107   0.028257   1.321934   \n",
       "6          32.654494   5.918374   2.880415  26.185540  13.486468  17.339586   \n",
       "7          23.618405  22.013625  16.449233   3.886272  28.993161   0.651833   \n",
       "8          18.869083   0.067145  10.032074  49.551306   1.846358  15.498147   \n",
       "9          51.437077  42.678335   0.603677   4.451454   0.275247   0.006862   \n",
       "10         36.460621  36.317301   0.202184   8.726618   1.680221  16.509860   \n",
       "11         75.920277   1.081071   0.605341  10.862101   0.048852  10.442126   \n",
       "12         49.783636  44.802539   0.982375   1.994883   0.181469   0.565481   \n",
       "13         15.327114  59.294678   2.012585  12.402735   1.396841   2.273214   \n",
       "14          9.197226  15.063998  57.431821   4.292814   9.059022   1.644765   \n",
       "15         80.281232   2.622472   5.067844   5.706609   2.582686   0.048585   \n",
       "16         78.128194   2.856313   4.868011   0.005404   7.237484   5.305785   \n",
       "17          0.501739  26.928861  52.896510   5.383279  10.793387   3.001736   \n",
       "\n",
       "              Axis_7  \n",
       "ID_alumno             \n",
       "1           0.134762  \n",
       "2           0.761199  \n",
       "3           0.012764  \n",
       "4           1.033856  \n",
       "5          12.909104  \n",
       "6           1.535122  \n",
       "7           4.387471  \n",
       "8           4.135887  \n",
       "9           0.547347  \n",
       "10          0.103195  \n",
       "11          1.040232  \n",
       "12          1.689618  \n",
       "13          7.292833  \n",
       "14          3.310354  \n",
       "15          3.690573  \n",
       "16          1.598809  \n",
       "17          0.494487  "
      ]
     },
     "execution_count": 58,
     "metadata": {},
     "output_type": "execute_result"
    }
   ],
   "source": [
    "pd.DataFrame(cr, columns = ['Axis_'+str(el+1) for el in range(7)], index = CTA1.index[:-1])"
   ]
  },
  {
   "cell_type": "code",
   "execution_count": 59,
   "metadata": {},
   "outputs": [
    {
     "data": {
      "text/html": [
       "<div>\n",
       "<style>\n",
       "    .dataframe thead tr:only-child th {\n",
       "        text-align: right;\n",
       "    }\n",
       "\n",
       "    .dataframe thead th {\n",
       "        text-align: left;\n",
       "    }\n",
       "\n",
       "    .dataframe tbody tr th {\n",
       "        vertical-align: top;\n",
       "    }\n",
       "</style>\n",
       "<table border=\"1\" class=\"dataframe\">\n",
       "  <thead>\n",
       "    <tr style=\"text-align: right;\">\n",
       "      <th></th>\n",
       "      <th>Axis_1</th>\n",
       "      <th>Axis_2</th>\n",
       "      <th>Axis_3</th>\n",
       "      <th>Axis_4</th>\n",
       "      <th>Axis_5</th>\n",
       "      <th>Axis_6</th>\n",
       "      <th>Axis_7</th>\n",
       "    </tr>\n",
       "    <tr>\n",
       "      <th>Estrategia_1</th>\n",
       "      <th></th>\n",
       "      <th></th>\n",
       "      <th></th>\n",
       "      <th></th>\n",
       "      <th></th>\n",
       "      <th></th>\n",
       "      <th></th>\n",
       "    </tr>\n",
       "  </thead>\n",
       "  <tbody>\n",
       "    <tr>\n",
       "      <th>AL</th>\n",
       "      <td>51.884179</td>\n",
       "      <td>14.142411</td>\n",
       "      <td>5.946834</td>\n",
       "      <td>1.091355</td>\n",
       "      <td>23.957686</td>\n",
       "      <td>2.973326</td>\n",
       "      <td>0.004209</td>\n",
       "    </tr>\n",
       "    <tr>\n",
       "      <th>Co</th>\n",
       "      <td>0.229866</td>\n",
       "      <td>23.078176</td>\n",
       "      <td>55.168274</td>\n",
       "      <td>15.938716</td>\n",
       "      <td>0.939654</td>\n",
       "      <td>4.089411</td>\n",
       "      <td>0.555903</td>\n",
       "    </tr>\n",
       "    <tr>\n",
       "      <th>Con</th>\n",
       "      <td>69.080515</td>\n",
       "      <td>14.768045</td>\n",
       "      <td>6.127555</td>\n",
       "      <td>0.427989</td>\n",
       "      <td>0.657519</td>\n",
       "      <td>0.678749</td>\n",
       "      <td>8.259628</td>\n",
       "    </tr>\n",
       "    <tr>\n",
       "      <th>Dicc</th>\n",
       "      <td>45.713724</td>\n",
       "      <td>5.979666</td>\n",
       "      <td>23.836016</td>\n",
       "      <td>11.749445</td>\n",
       "      <td>6.022685</td>\n",
       "      <td>5.342799</td>\n",
       "      <td>1.355666</td>\n",
       "    </tr>\n",
       "    <tr>\n",
       "      <th>L1</th>\n",
       "      <td>1.009047</td>\n",
       "      <td>51.807002</td>\n",
       "      <td>17.139436</td>\n",
       "      <td>15.917145</td>\n",
       "      <td>12.835932</td>\n",
       "      <td>0.775949</td>\n",
       "      <td>0.515489</td>\n",
       "    </tr>\n",
       "    <tr>\n",
       "      <th>LE</th>\n",
       "      <td>66.894951</td>\n",
       "      <td>0.419790</td>\n",
       "      <td>19.282638</td>\n",
       "      <td>0.544386</td>\n",
       "      <td>0.849939</td>\n",
       "      <td>9.029388</td>\n",
       "      <td>2.978909</td>\n",
       "    </tr>\n",
       "    <tr>\n",
       "      <th>Prof</th>\n",
       "      <td>3.969138</td>\n",
       "      <td>63.817401</td>\n",
       "      <td>0.061656</td>\n",
       "      <td>26.864907</td>\n",
       "      <td>0.393513</td>\n",
       "      <td>3.016832</td>\n",
       "      <td>1.876552</td>\n",
       "    </tr>\n",
       "  </tbody>\n",
       "</table>\n",
       "</div>"
      ],
      "text/plain": [
       "                 Axis_1     Axis_2     Axis_3     Axis_4     Axis_5    Axis_6  \\\n",
       "Estrategia_1                                                                    \n",
       "AL            51.884179  14.142411   5.946834   1.091355  23.957686  2.973326   \n",
       "Co             0.229866  23.078176  55.168274  15.938716   0.939654  4.089411   \n",
       "Con           69.080515  14.768045   6.127555   0.427989   0.657519  0.678749   \n",
       "Dicc          45.713724   5.979666  23.836016  11.749445   6.022685  5.342799   \n",
       "L1             1.009047  51.807002  17.139436  15.917145  12.835932  0.775949   \n",
       "LE            66.894951   0.419790  19.282638   0.544386   0.849939  9.029388   \n",
       "Prof           3.969138  63.817401   0.061656  26.864907   0.393513  3.016832   \n",
       "\n",
       "                Axis_7  \n",
       "Estrategia_1            \n",
       "AL            0.004209  \n",
       "Co            0.555903  \n",
       "Con           8.259628  \n",
       "Dicc          1.355666  \n",
       "L1            0.515489  \n",
       "LE            2.978909  \n",
       "Prof          1.876552  "
      ]
     },
     "execution_count": 59,
     "metadata": {},
     "output_type": "execute_result"
    }
   ],
   "source": [
    "pd.DataFrame(cc, columns = ['Axis_'+str(el+1) for el in range(7)], index = CTA1.columns[:-1])"
   ]
  },
  {
   "cell_type": "markdown",
   "metadata": {},
   "source": [
    "Interpretation:\n",
    "\n",
    "Um beispielsweise eine gute Repräsentation von Strategie \"AL\" zu erhalten, müssen für eine Darstellung in 2 Dimensionen Achse 1 und 5 gewählt werden. Für \"L1\" wären Achse 3 und 2 geeignet.\n",
    "(Für die Programmierung in Python ist zu beachten, dass \"1\" dem Wert \"0\" entspricht usw.)"
   ]
  },
  {
   "cell_type": "markdown",
   "metadata": {},
   "source": [
    "#### Cluster-Analyse Studenten - verwendete Strategien (A1)\n",
    "\n",
    "Mit den Werten der Kreuztabelle können auch Cluster berechnet werden, um Gruppen differenzieren zu können.\n",
    "\n",
    "Diese können in der Folge in einer Grafik mit den Ergebnissen des Biplots dargestellt werden."
   ]
  },
  {
   "cell_type": "code",
   "execution_count": 60,
   "metadata": {},
   "outputs": [],
   "source": [
    "#kmeans = KMeans(n_clusters=5, random_state=0).fit(CTA1.values[:-1,:-1])\n",
    "#ward = AgglomerativeClustering(n_clusters=5).fit(CTA1.values[:-1,:-1])"
   ]
  },
  {
   "cell_type": "markdown",
   "metadata": {},
   "source": [
    "Beide Berechnungsarten führen zu ähnlichen Ergebnissen, in der Folge wird \"ward\" verwendet.\n",
    "\n",
    "Tests mit unterschiedlicher Anzahl an Clustern zeigen, dass 5 bis 6 Gruppen unterschieden werden können, wobei 2 dieser \"Gruppen\" von jeweils nur einem TN gebildet werden."
   ]
  },
  {
   "cell_type": "markdown",
   "metadata": {},
   "source": [
    "##### Darstellung Biplot + Cluster"
   ]
  },
  {
   "cell_type": "code",
   "execution_count": 61,
   "metadata": {},
   "outputs": [],
   "source": [
    "def vector_to_shape(v):\n",
    "    markers = [\",\" , \"o\" , \"v\" , \"^\", \"x\", \"D\", \"*\"]\n",
    "    return [markers[el] for el in v]"
   ]
  },
  {
   "cell_type": "code",
   "execution_count": 62,
   "metadata": {},
   "outputs": [],
   "source": [
    "def vector_to_color(v):\n",
    "    col = ['b', 'g', 'r', 'c', 'm', 'k', 'y']\n",
    "    return [col[el] for el in v]"
   ]
  },
  {
   "cell_type": "code",
   "execution_count": 63,
   "metadata": {},
   "outputs": [],
   "source": [
    "def graf_cplot(data, dim, nclust, dim1 = 0, dim2 = 1, sx = 10, sy = 10):\n",
    "    \n",
    "    B = biplot.Classic(data, dim, method = 1) \n",
    "    R = B.RowCoord\n",
    "    C = B.ColCoord\n",
    "    \n",
    "    ward = AgglomerativeClustering(n_clusters=nclust).fit(data)\n",
    "    \n",
    "    fig = plt.figure(figsize=(sx,sy))\n",
    "    ax = fig.add_subplot(111)\n",
    "\n",
    "    sh_v = vector_to_shape(ward.labels_)\n",
    "    color_v = vector_to_color(ward.labels_)\n",
    "\n",
    "    for i in range(C.shape[0]):\n",
    "        ax.arrow(0,0,C[i,dim1],C[i,dim2], alpha = 0.7)\n",
    "        #ax.scatter(C[i,dim1],C[i,dim2]) # Hier würden Linien nicht angezeigt.\n",
    "        ax.text(C[i,dim1],C[i,dim2],data.columns[i],fontsize=20, alpha = 0.7)\n",
    "\n",
    "    for i in range(R.shape[0]):\n",
    "        ax.scatter(R[i,dim1],R[i,dim2], s = 20, c = color_v[i] ,marker = sh_v[i])\n",
    "    \n",
    "    texts = [plt.text(R[i,dim1],R[i,dim2], data.index[i], ha='center', va='center') for i in range(len(R[:,0]))]\n",
    "    adjust_text(texts);"
   ]
  },
  {
   "cell_type": "code",
   "execution_count": 62,
   "metadata": {},
   "outputs": [],
   "source": [
    "def graf_cplot1(data, dim, nclust, dim1 = 0, dim2 = 1, sx = 10, sy = 10):\n",
    "    \n",
    "    B = biplot.CA(data, dim, method = 1) \n",
    "    R = B.RowCoordinates\n",
    "    C = B.ColCoordinates\n",
    "    \n",
    "    ward = AgglomerativeClustering(n_clusters=nclust).fit(data)\n",
    "    \n",
    "    fig = plt.figure(figsize=(sx,sy))\n",
    "    ax = fig.add_subplot(111)\n",
    "\n",
    "    sh_v = vector_to_shape(ward.labels_)\n",
    "    color_v = vector_to_color(ward.labels_)\n",
    "\n",
    "    for i in range(C.shape[0]):\n",
    "        ax.arrow(0,0,C[i,dim1],C[i,dim2], alpha = 0.7)\n",
    "        #ax.scatter(C[i,dim1],C[i,dim2]) # Hier würden Linien nicht angezeigt.\n",
    "        ax.text(C[i,dim1],C[i,dim2],data.columns[i],fontsize=20, alpha = 0.7)\n",
    "\n",
    "    for i in range(R.shape[0]):\n",
    "        ax.scatter(R[i,dim1],R[i,dim2], s = 20, c = color_v[i] ,marker = sh_v[i])\n",
    "    \n",
    "    texts = [plt.text(R[i,dim1],R[i,dim2], data.index[i], ha='center', va='center') for i in range(len(R[:,0]))]\n",
    "    adjust_text(texts);"
   ]
  },
  {
   "cell_type": "markdown",
   "metadata": {},
   "source": [
    "Die bevorzugte Form der Visualisierung wird als Funktion definiert (vgl. \"Datenanalyse_Voc_Valencia\") und in der Folge für alle weiteren Biplot/Cluster-Darstellungen verwendet. (Die Funktion beinhaltet bereits die Berechnung des Biplots bzw. der Korrespondenzanalyse sowie der Cluster.)"
   ]
  },
  {
   "cell_type": "code",
   "execution_count": 66,
   "metadata": {},
   "outputs": [
    {
     "data": {
      "image/png": "[encoded data removed]",
      "text/plain": [
       "<matplotlib.figure.Figure at 0xd393630>"
      ]
     },
     "metadata": {},
     "output_type": "display_data"
    }
   ],
   "source": [
    "graf_cplot(CTA1.iloc[:-1,:-1], 7, 6)"
   ]
  },
  {
   "cell_type": "markdown",
   "metadata": {},
   "source": [
    "#### Kreuztabelle Wörter - verwendete Strategien (A1)"
   ]
  },
  {
   "cell_type": "code",
   "execution_count": 71,
   "metadata": {},
   "outputs": [],
   "source": [
    "Pal_Es_A1 = pd.crosstab(A1.Palabra, A1.Estrategia_1, margins = True)\n",
    "Pal_Es_A1_2 = pd.crosstab(A1.Palabra, A1.Estrategia_2, margins = True)"
   ]
  },
  {
   "cell_type": "code",
   "execution_count": 72,
   "metadata": {},
   "outputs": [],
   "source": [
    "for val in Pal_Es_A1_2.index:\n",
    "    for col in Pal_Es_A1_2.columns:\n",
    "        if Pal_Es_A1_2.loc[val,col]!=0:\n",
    "            Pal_Es_A1.loc[val,col] = Pal_Es_A1.loc[val,col]+ Pal_Es_A1_2.loc[val,col]"
   ]
  },
  {
   "cell_type": "code",
   "execution_count": 73,
   "metadata": {},
   "outputs": [
    {
     "data": {
      "text/html": [
       "<div>\n",
       "<style>\n",
       "    .dataframe thead tr:only-child th {\n",
       "        text-align: right;\n",
       "    }\n",
       "\n",
       "    .dataframe thead th {\n",
       "        text-align: left;\n",
       "    }\n",
       "\n",
       "    .dataframe tbody tr th {\n",
       "        vertical-align: top;\n",
       "    }\n",
       "</style>\n",
       "<table border=\"1\" class=\"dataframe\">\n",
       "  <thead>\n",
       "    <tr style=\"text-align: right;\">\n",
       "      <th>Estrategia_1</th>\n",
       "      <th>AL</th>\n",
       "      <th>Co</th>\n",
       "      <th>Con</th>\n",
       "      <th>Dicc</th>\n",
       "      <th>L1</th>\n",
       "      <th>LE</th>\n",
       "      <th>Prof</th>\n",
       "      <th>All</th>\n",
       "    </tr>\n",
       "    <tr>\n",
       "      <th>Palabra</th>\n",
       "      <th></th>\n",
       "      <th></th>\n",
       "      <th></th>\n",
       "      <th></th>\n",
       "      <th></th>\n",
       "      <th></th>\n",
       "      <th></th>\n",
       "      <th></th>\n",
       "    </tr>\n",
       "  </thead>\n",
       "  <tbody>\n",
       "    <tr>\n",
       "      <th>All</th>\n",
       "      <td>44</td>\n",
       "      <td>25</td>\n",
       "      <td>63</td>\n",
       "      <td>97</td>\n",
       "      <td>4</td>\n",
       "      <td>25</td>\n",
       "      <td>7</td>\n",
       "      <td>265</td>\n",
       "    </tr>\n",
       "    <tr>\n",
       "      <th>scheint</th>\n",
       "      <td>0</td>\n",
       "      <td>2</td>\n",
       "      <td>7</td>\n",
       "      <td>0</td>\n",
       "      <td>0</td>\n",
       "      <td>7</td>\n",
       "      <td>0</td>\n",
       "      <td>16</td>\n",
       "    </tr>\n",
       "    <tr>\n",
       "      <th>jaulen</th>\n",
       "      <td>0</td>\n",
       "      <td>1</td>\n",
       "      <td>6</td>\n",
       "      <td>4</td>\n",
       "      <td>0</td>\n",
       "      <td>0</td>\n",
       "      <td>0</td>\n",
       "      <td>11</td>\n",
       "    </tr>\n",
       "    <tr>\n",
       "      <th>Schnee</th>\n",
       "      <td>0</td>\n",
       "      <td>1</td>\n",
       "      <td>1</td>\n",
       "      <td>7</td>\n",
       "      <td>0</td>\n",
       "      <td>1</td>\n",
       "      <td>0</td>\n",
       "      <td>10</td>\n",
       "    </tr>\n",
       "    <tr>\n",
       "      <th>überall</th>\n",
       "      <td>1</td>\n",
       "      <td>0</td>\n",
       "      <td>1</td>\n",
       "      <td>2</td>\n",
       "      <td>0</td>\n",
       "      <td>4</td>\n",
       "      <td>1</td>\n",
       "      <td>9</td>\n",
       "    </tr>\n",
       "  </tbody>\n",
       "</table>\n",
       "</div>"
      ],
      "text/plain": [
       "Estrategia_1  AL  Co  Con  Dicc  L1  LE  Prof  All\n",
       "Palabra                                           \n",
       "All           44  25   63    97   4  25     7  265\n",
       "scheint        0   2    7     0   0   7     0   16\n",
       "jaulen         0   1    6     4   0   0     0   11\n",
       "Schnee         0   1    1     7   0   1     0   10\n",
       "überall        1   0    1     2   0   4     1    9"
      ]
     },
     "execution_count": 73,
     "metadata": {},
     "output_type": "execute_result"
    }
   ],
   "source": [
    "Pal_Es_A1.sort_values(['All'], ascending=[0]).head()"
   ]
  },
  {
   "cell_type": "markdown",
   "metadata": {},
   "source": [
    "In dieser Kreuztabelle werden als neu identifizierte Wörter mit den angegebenen Strategien in absteigender Frequenz dargestellt."
   ]
  },
  {
   "cell_type": "markdown",
   "metadata": {},
   "source": [
    "#### Korrespondenzanalyse und Biplot Wörter - verwendete Strategien (A1)"
   ]
  },
  {
   "cell_type": "code",
   "execution_count": 67,
   "metadata": {},
   "outputs": [],
   "source": [
    "#Biplot_A1W = biplot.Classic(Pal_Es_A1.values[:-1,:-1], 7, method = 1)"
   ]
  },
  {
   "cell_type": "code",
   "execution_count": 68,
   "metadata": {},
   "outputs": [],
   "source": [
    "#R = Biplot_A1W.RowCoord\n",
    "#C = Biplot_A1W.ColCoord\n",
    "#cr = Biplot_A1W.RowCont\n",
    "#cc = Biplot_A1W.ColCont"
   ]
  },
  {
   "cell_type": "markdown",
   "metadata": {},
   "source": [
    "#### Cluster"
   ]
  },
  {
   "cell_type": "code",
   "execution_count": 69,
   "metadata": {},
   "outputs": [],
   "source": [
    "#kmeans = KMeans(n_clusters=4, random_state=0).fit(Pal_Es_A1.values[:-1,:-1])\n",
    "#ward = AgglomerativeClustering(n_clusters=4).fit(Pal_Es_A1.values[:-1,:-1])"
   ]
  },
  {
   "cell_type": "markdown",
   "metadata": {},
   "source": [
    "Beide Berechnungsarten führen zu ähnlichen Ergebnissen, in der Folge wird \"ward\" verwendet."
   ]
  },
  {
   "cell_type": "markdown",
   "metadata": {},
   "source": [
    "##### Darstellung Biplot + Cluster"
   ]
  },
  {
   "cell_type": "code",
   "execution_count": 74,
   "metadata": {},
   "outputs": [],
   "source": [
    "def graf_cplot2(data, dim, nclust, dim1 = 0, dim2 = 1, sx = 10, sy = 10):\n",
    "    \n",
    "    B = biplot.Classic(data, dim, method = 1) \n",
    "    R = B.RowCoord\n",
    "    C = B.ColCoord\n",
    "    \n",
    "    ward = AgglomerativeClustering(n_clusters=nclust).fit(data)\n",
    "    \n",
    "    fig = plt.figure(figsize=(sx,sy))\n",
    "    ax = fig.add_subplot(111)\n",
    "    \n",
    "    color_v = vector_to_color(ward.labels_)\n",
    "\n",
    "    for i in range(C.shape[0]):\n",
    "        ax.arrow(0,0,C[i,dim1],C[i,dim2], alpha = 0.7)\n",
    "        #ax.scatter(C[i,0],C[i,1])\n",
    "        ax.text(C[i,dim1],C[i,dim2],data.columns[i],fontsize=20, alpha = 0.7)\n",
    "        \n",
    "    ax.scatter(R[:,dim1],R[:,dim2], s = 0.5, c = color_v[i])\n",
    "    \n",
    "    texts = [plt.text(R[i,dim1],R[i,dim2], data.index[i], ha='center', va='center', color=color_v[i]) for i in range(len(R[:,0]))]\n",
    "    adjust_text(texts);"
   ]
  },
  {
   "cell_type": "code",
   "execution_count": 77,
   "metadata": {},
   "outputs": [
    {
     "data": {
      "image/png": "[encoded data removed]",
      "text/plain": [
       "<matplotlib.figure.Figure at 0xd09e470>"
      ]
     },
     "metadata": {},
     "output_type": "display_data"
    }
   ],
   "source": [
    "graf_cplot2(Pal_Es_A1.iloc[:-1,:-1],7, 5)"
   ]
  },
  {
   "cell_type": "markdown",
   "metadata": {},
   "source": [
    "Die Gruppierung der als \"neu\" identifizierten Wörtern in Hinblick auf die zu ihrer Erschließung eingesetzten Strategien zeigt, dass bestimmte Wörter (vermutlich abhängig von Wortart, Ko- und Kontext) den Einsatz bestimmter Strategien nahe legen."
   ]
  },
  {
   "cell_type": "code",
   "execution_count": null,
   "metadata": {},
   "outputs": [],
   "source": []
  }
 ],
 "metadata": {
  "kernelspec": {
   "display_name": "Python 3",
   "language": "python",
   "name": "python3"
  },
  "language_info": {
   "codemirror_mode": {
    "name": "ipython",
    "version": 3
   },
   "file_extension": ".py",
   "mimetype": "text/x-python",
   "name": "python",
   "nbconvert_exporter": "python",
   "pygments_lexer": "ipython3",
   "version": "3.6.3"
  }
 },
 "nbformat": 4,
 "nbformat_minor": 2
}
