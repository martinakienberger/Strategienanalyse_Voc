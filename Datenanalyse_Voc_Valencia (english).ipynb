{
 "cells": [
  {
   "cell_type": "markdown",
   "metadata": {},
   "source": [
    "# Analyzing students' use of vocabulary determination strategies"
   ]
  },
  {
   "cell_type": "markdown",
   "metadata": {},
   "source": [
    "On March 2, 2018, at the University of Valencia, data on students' use of vocabulary determination strategies was collected in two different groups of German L3 learners (A2, B2).\n",
    "The students were asked to read a text, chosen for their level by their German teachers, and mark every word they considered new for them (no matter whether they could unterstand it immediately or not). After reading the text a second time, they should write down the words in a list and indicate the strategies they have used for identifying their meaning.\n",
    "Part of the students had participated (voluntarily) in a survey about Spanish university students' use of vocabulary determination strategies in German. (See: http://diarium.usal.es/martinakienberger/proyecto-de-investigacion-2017-2019-estrategias-de-inferencia/)\n",
    "For all students, the topic was briefly explained and examples of strategy use were given."
   ]
  },
  {
   "cell_type": "markdown",
   "metadata": {},
   "source": [
    "### Preparation - data cleansing"
   ]
  },
  {
   "cell_type": "code",
   "execution_count": 1,
   "metadata": {},
   "outputs": [
    {
     "name": "stdout",
     "output_type": "stream",
     "text": [
      "Populating the interactive namespace from numpy and matplotlib\n"
     ]
    }
   ],
   "source": [
    "import pandas as pd\n",
    "import numpy as np\n",
    "from biofes import biplot\n",
    "from sklearn.utils.extmath import randomized_svd\n",
    "from sklearn.cluster import KMeans, AgglomerativeClustering\n",
    "from adjustText import adjust_text\n",
    "% pylab inline"
   ]
  },
  {
   "cell_type": "code",
   "execution_count": 2,
   "metadata": {},
   "outputs": [],
   "source": [
    "Rohdaten = pd.read_excel('D:\\Daten\\DISS\\Daten\\Valencia.xlsx')"
   ]
  },
  {
   "cell_type": "code",
   "execution_count": 3,
   "metadata": {},
   "outputs": [
    {
     "data": {
      "text/html": [
       "<div>\n",
       "<style>\n",
       "    .dataframe thead tr:only-child th {\n",
       "        text-align: right;\n",
       "    }\n",
       "\n",
       "    .dataframe thead th {\n",
       "        text-align: left;\n",
       "    }\n",
       "\n",
       "    .dataframe tbody tr th {\n",
       "        vertical-align: top;\n",
       "    }\n",
       "</style>\n",
       "<table border=\"1\" class=\"dataframe\">\n",
       "  <thead>\n",
       "    <tr style=\"text-align: right;\">\n",
       "      <th></th>\n",
       "      <th>Grupo</th>\n",
       "      <th>ID_alumno</th>\n",
       "      <th>Encuesta</th>\n",
       "      <th>Palabra</th>\n",
       "      <th>Estrategia_1</th>\n",
       "      <th>Estrategia_2</th>\n",
       "      <th>Estrategia_Esp_1</th>\n",
       "      <th>Estrategia_Esp_2</th>\n",
       "      <th>Comentario</th>\n",
       "    </tr>\n",
       "  </thead>\n",
       "  <tbody>\n",
       "    <tr>\n",
       "      <th>0</th>\n",
       "      <td>A2</td>\n",
       "      <td>1</td>\n",
       "      <td>1</td>\n",
       "      <td>lebendiger</td>\n",
       "      <td>AL</td>\n",
       "      <td>NaN</td>\n",
       "      <td>Comp</td>\n",
       "      <td>NaN</td>\n",
       "      <td>NaN</td>\n",
       "    </tr>\n",
       "    <tr>\n",
       "      <th>1</th>\n",
       "      <td>A2</td>\n",
       "      <td>1</td>\n",
       "      <td>1</td>\n",
       "      <td>langen</td>\n",
       "      <td>Con</td>\n",
       "      <td>NaN</td>\n",
       "      <td>NaN</td>\n",
       "      <td>NaN</td>\n",
       "      <td>NaN</td>\n",
       "    </tr>\n",
       "    <tr>\n",
       "      <th>2</th>\n",
       "      <td>A2</td>\n",
       "      <td>1</td>\n",
       "      <td>1</td>\n",
       "      <td>eigene</td>\n",
       "      <td>Dicc</td>\n",
       "      <td>NaN</td>\n",
       "      <td>NaN</td>\n",
       "      <td>NaN</td>\n",
       "      <td>NaN</td>\n",
       "    </tr>\n",
       "  </tbody>\n",
       "</table>\n",
       "</div>"
      ],
      "text/plain": [
       "  Grupo  ID_alumno  Encuesta     Palabra Estrategia_1 Estrategia_2  \\\n",
       "0    A2          1         1  lebendiger           AL          NaN   \n",
       "1    A2          1         1      langen          Con          NaN   \n",
       "2    A2          1         1      eigene         Dicc          NaN   \n",
       "\n",
       "  Estrategia_Esp_1 Estrategia_Esp_2 Comentario  \n",
       "0             Comp              NaN        NaN  \n",
       "1              NaN              NaN        NaN  \n",
       "2              NaN              NaN        NaN  "
      ]
     },
     "execution_count": 3,
     "metadata": {},
     "output_type": "execute_result"
    }
   ],
   "source": [
    "Rohdaten.head(3)"
   ]
  },
  {
   "cell_type": "markdown",
   "metadata": {},
   "source": [
    "#### Deleting inappropiate elements"
   ]
  },
  {
   "cell_type": "code",
   "execution_count": 4,
   "metadata": {},
   "outputs": [
    {
     "data": {
      "text/plain": [
       "Grupo                          A2\n",
       "ID_alumno                       9\n",
       "Encuesta                        2\n",
       "Palabra                      Imis\n",
       "Estrategia_1                  Con\n",
       "Estrategia_2                  NaN\n",
       "Estrategia_Esp_1              NaN\n",
       "Estrategia_Esp_2              NaN\n",
       "Comentario          L1 = Deutsch!\n",
       "Name: 117, dtype: object"
      ]
     },
     "execution_count": 4,
     "metadata": {},
     "output_type": "execute_result"
    }
   ],
   "source": [
    "Rohdaten.loc[117]"
   ]
  },
  {
   "cell_type": "code",
   "execution_count": 5,
   "metadata": {},
   "outputs": [],
   "source": [
    "Daten = Rohdaten.drop([117,372])"
   ]
  },
  {
   "cell_type": "markdown",
   "metadata": {},
   "source": [
    "ID 9 and ID 30 were considered inappropiate for being part of the analysis:\n",
    "ID 9 was German native speaker.\n",
    "ID 30 didn't understand the task right and didn't indicate any strategy (but translations)."
   ]
  },
  {
   "cell_type": "markdown",
   "metadata": {},
   "source": [
    "#### Choosing data for the analysis"
   ]
  },
  {
   "cell_type": "code",
   "execution_count": 6,
   "metadata": {},
   "outputs": [],
   "source": [
    "cols = ['Grupo','ID_alumno','Encuesta','Palabra','Estrategia_1','Estrategia_2']"
   ]
  },
  {
   "cell_type": "code",
   "execution_count": 7,
   "metadata": {},
   "outputs": [],
   "source": [
    "data = Daten[cols]"
   ]
  },
  {
   "cell_type": "code",
   "execution_count": 8,
   "metadata": {},
   "outputs": [
    {
     "data": {
      "text/plain": [
       "Grupo                   A2\n",
       "ID_alumno               10\n",
       "Encuesta                 2\n",
       "Palabra         lebendiger\n",
       "Estrategia_1          Dicc\n",
       "Estrategia_2           NaN\n",
       "Name: 118, dtype: object"
      ]
     },
     "execution_count": 8,
     "metadata": {},
     "output_type": "execute_result"
    }
   ],
   "source": [
    "data.loc[118]"
   ]
  },
  {
   "cell_type": "markdown",
   "metadata": {},
   "source": [
    "(Further information collected in the Excel spreadsheet was used to decide whether to include certain elements in the analysis or exclude them from it and, on the other hand, can be used for later, more detailed analyzes.)"
   ]
  },
  {
   "cell_type": "markdown",
   "metadata": {},
   "source": [
    "## Analyzing strategy use"
   ]
  },
  {
   "cell_type": "markdown",
   "metadata": {},
   "source": [
    "##### Dividing subgroups"
   ]
  },
  {
   "cell_type": "code",
   "execution_count": 9,
   "metadata": {},
   "outputs": [],
   "source": [
    "A2 = data[data.Grupo == 'A2']"
   ]
  },
  {
   "cell_type": "code",
   "execution_count": 10,
   "metadata": {},
   "outputs": [],
   "source": [
    "B2 = data[data.Grupo == 'B2']"
   ]
  },
  {
   "cell_type": "markdown",
   "metadata": {},
   "source": [
    "### Group A2"
   ]
  },
  {
   "cell_type": "code",
   "execution_count": 11,
   "metadata": {},
   "outputs": [
    {
     "name": "stdout",
     "output_type": "stream",
     "text": [
      "Participants: 28\n",
      "TN + Online-Survey: 6\n",
      "TN - Online-Survey: 18\n",
      "TN ? Online-Survey: 4\n"
     ]
    }
   ],
   "source": [
    "print(r'Participants: ' + str(len(A2.ID_alumno.unique()))+'\\n'+\n",
    "      r'TN + Online-Survey: ' + str(len(A2[A2.Encuesta == 1].ID_alumno.unique()))+'\\n'+\n",
    "      r'TN - Online-Survey: ' + str(len(A2[A2.Encuesta == 2].ID_alumno.unique()))+'\\n'+\n",
    "      r'TN ? Online-Survey: ' + str(len(A2[A2.Encuesta == 0].ID_alumno.unique())))"
   ]
  },
  {
   "cell_type": "markdown",
   "metadata": {},
   "source": [
    "Group A2 consists of 28 participants. 6 had taken part in the online survey on strategy use, 18 had not, 4 didn't indicate whether they had participated or not."
   ]
  },
  {
   "cell_type": "markdown",
   "metadata": {},
   "source": [
    "#### Words indicated as \"new\" (A2)"
   ]
  },
  {
   "cell_type": "code",
   "execution_count": 12,
   "metadata": {},
   "outputs": [
    {
     "data": {
      "text/plain": [
       "47"
      ]
     },
     "execution_count": 12,
     "metadata": {},
     "output_type": "execute_result"
    }
   ],
   "source": [
    "len(A2.Palabra.unique())"
   ]
  },
  {
   "cell_type": "markdown",
   "metadata": {},
   "source": [
    "Learners wrote down 47 different words as \"new\" for them. When transferring data from the task sheets to Excel, we corrected orthographic errors. The words were taken from the textbook text in their respective spellings of the original text (even if learners indicated some other form, such as infinitive, instead) In the case of the word \"bietet ... an\", there were two forms accepted, \"bietet\" and \"bietet an\", according to the learners, who sometimes did, sometimes did not recognize the word as a separable verb."
   ]
  },
  {
   "cell_type": "code",
   "execution_count": 13,
   "metadata": {},
   "outputs": [
    {
     "data": {
      "image/png": "[encoded data removed]",
      "text/plain": [
       "<matplotlib.figure.Figure at 0xca10198>"
      ]
     },
     "metadata": {},
     "output_type": "display_data"
    }
   ],
   "source": [
    "A2.Palabra.value_counts(ascending = True).plot(kind = 'barh', figsize = (5,12));"
   ]
  },
  {
   "cell_type": "markdown",
   "metadata": {},
   "source": [
    "#### Crosstab students - new words (A2)"
   ]
  },
  {
   "cell_type": "code",
   "execution_count": 14,
   "metadata": {},
   "outputs": [],
   "source": [
    "Al_Pal_A2 = pd.crosstab(A2.ID_alumno, A2.Palabra, margins = True)"
   ]
  },
  {
   "cell_type": "code",
   "execution_count": 15,
   "metadata": {},
   "outputs": [
    {
     "data": {
      "text/html": [
       "<div>\n",
       "<style>\n",
       "    .dataframe thead tr:only-child th {\n",
       "        text-align: right;\n",
       "    }\n",
       "\n",
       "    .dataframe thead th {\n",
       "        text-align: left;\n",
       "    }\n",
       "\n",
       "    .dataframe tbody tr th {\n",
       "        vertical-align: top;\n",
       "    }\n",
       "</style>\n",
       "<table border=\"1\" class=\"dataframe\">\n",
       "  <thead>\n",
       "    <tr style=\"text-align: right;\">\n",
       "      <th>ID_alumno</th>\n",
       "      <th>1</th>\n",
       "      <th>2</th>\n",
       "      <th>3</th>\n",
       "      <th>4</th>\n",
       "      <th>5</th>\n",
       "      <th>6</th>\n",
       "      <th>7</th>\n",
       "      <th>8</th>\n",
       "      <th>10</th>\n",
       "      <th>11</th>\n",
       "      <th>...</th>\n",
       "      <th>21</th>\n",
       "      <th>22</th>\n",
       "      <th>23</th>\n",
       "      <th>24</th>\n",
       "      <th>25</th>\n",
       "      <th>26</th>\n",
       "      <th>27</th>\n",
       "      <th>28</th>\n",
       "      <th>29</th>\n",
       "      <th>All</th>\n",
       "    </tr>\n",
       "    <tr>\n",
       "      <th>Palabra</th>\n",
       "      <th></th>\n",
       "      <th></th>\n",
       "      <th></th>\n",
       "      <th></th>\n",
       "      <th></th>\n",
       "      <th></th>\n",
       "      <th></th>\n",
       "      <th></th>\n",
       "      <th></th>\n",
       "      <th></th>\n",
       "      <th></th>\n",
       "      <th></th>\n",
       "      <th></th>\n",
       "      <th></th>\n",
       "      <th></th>\n",
       "      <th></th>\n",
       "      <th></th>\n",
       "      <th></th>\n",
       "      <th></th>\n",
       "      <th></th>\n",
       "      <th></th>\n",
       "    </tr>\n",
       "  </thead>\n",
       "  <tbody>\n",
       "    <tr>\n",
       "      <th>Abitur</th>\n",
       "      <td>0</td>\n",
       "      <td>0</td>\n",
       "      <td>0</td>\n",
       "      <td>0</td>\n",
       "      <td>0</td>\n",
       "      <td>0</td>\n",
       "      <td>1</td>\n",
       "      <td>1</td>\n",
       "      <td>0</td>\n",
       "      <td>0</td>\n",
       "      <td>...</td>\n",
       "      <td>0</td>\n",
       "      <td>0</td>\n",
       "      <td>0</td>\n",
       "      <td>0</td>\n",
       "      <td>0</td>\n",
       "      <td>0</td>\n",
       "      <td>0</td>\n",
       "      <td>0</td>\n",
       "      <td>1</td>\n",
       "      <td>4</td>\n",
       "    </tr>\n",
       "    <tr>\n",
       "      <th>Abschlusstest</th>\n",
       "      <td>1</td>\n",
       "      <td>1</td>\n",
       "      <td>1</td>\n",
       "      <td>0</td>\n",
       "      <td>0</td>\n",
       "      <td>1</td>\n",
       "      <td>0</td>\n",
       "      <td>1</td>\n",
       "      <td>1</td>\n",
       "      <td>1</td>\n",
       "      <td>...</td>\n",
       "      <td>1</td>\n",
       "      <td>1</td>\n",
       "      <td>1</td>\n",
       "      <td>0</td>\n",
       "      <td>0</td>\n",
       "      <td>1</td>\n",
       "      <td>1</td>\n",
       "      <td>1</td>\n",
       "      <td>1</td>\n",
       "      <td>18</td>\n",
       "    </tr>\n",
       "    <tr>\n",
       "      <th>Akademie</th>\n",
       "      <td>0</td>\n",
       "      <td>0</td>\n",
       "      <td>0</td>\n",
       "      <td>0</td>\n",
       "      <td>0</td>\n",
       "      <td>0</td>\n",
       "      <td>0</td>\n",
       "      <td>0</td>\n",
       "      <td>0</td>\n",
       "      <td>0</td>\n",
       "      <td>...</td>\n",
       "      <td>0</td>\n",
       "      <td>0</td>\n",
       "      <td>0</td>\n",
       "      <td>1</td>\n",
       "      <td>0</td>\n",
       "      <td>0</td>\n",
       "      <td>0</td>\n",
       "      <td>0</td>\n",
       "      <td>0</td>\n",
       "      <td>1</td>\n",
       "    </tr>\n",
       "    <tr>\n",
       "      <th>Außerdem</th>\n",
       "      <td>1</td>\n",
       "      <td>0</td>\n",
       "      <td>0</td>\n",
       "      <td>0</td>\n",
       "      <td>0</td>\n",
       "      <td>1</td>\n",
       "      <td>0</td>\n",
       "      <td>1</td>\n",
       "      <td>0</td>\n",
       "      <td>0</td>\n",
       "      <td>...</td>\n",
       "      <td>0</td>\n",
       "      <td>1</td>\n",
       "      <td>1</td>\n",
       "      <td>0</td>\n",
       "      <td>0</td>\n",
       "      <td>0</td>\n",
       "      <td>0</td>\n",
       "      <td>0</td>\n",
       "      <td>1</td>\n",
       "      <td>11</td>\n",
       "    </tr>\n",
       "    <tr>\n",
       "      <th>Bibliothek</th>\n",
       "      <td>1</td>\n",
       "      <td>0</td>\n",
       "      <td>1</td>\n",
       "      <td>0</td>\n",
       "      <td>0</td>\n",
       "      <td>0</td>\n",
       "      <td>0</td>\n",
       "      <td>0</td>\n",
       "      <td>0</td>\n",
       "      <td>0</td>\n",
       "      <td>...</td>\n",
       "      <td>0</td>\n",
       "      <td>0</td>\n",
       "      <td>0</td>\n",
       "      <td>0</td>\n",
       "      <td>0</td>\n",
       "      <td>0</td>\n",
       "      <td>0</td>\n",
       "      <td>0</td>\n",
       "      <td>0</td>\n",
       "      <td>2</td>\n",
       "    </tr>\n",
       "  </tbody>\n",
       "</table>\n",
       "<p>5 rows × 29 columns</p>\n",
       "</div>"
      ],
      "text/plain": [
       "ID_alumno      1  2  3  4  5  6  7  8  10  11 ...   21  22  23  24  25  26  \\\n",
       "Palabra                                       ...                            \n",
       "Abitur         0  0  0  0  0  0  1  1   0   0 ...    0   0   0   0   0   0   \n",
       "Abschlusstest  1  1  1  0  0  1  0  1   1   1 ...    1   1   1   0   0   1   \n",
       "Akademie       0  0  0  0  0  0  0  0   0   0 ...    0   0   0   1   0   0   \n",
       "Außerdem       1  0  0  0  0  1  0  1   0   0 ...    0   1   1   0   0   0   \n",
       "Bibliothek     1  0  1  0  0  0  0  0   0   0 ...    0   0   0   0   0   0   \n",
       "\n",
       "ID_alumno      27  28  29  All  \n",
       "Palabra                         \n",
       "Abitur          0   0   1    4  \n",
       "Abschlusstest   1   1   1   18  \n",
       "Akademie        0   0   0    1  \n",
       "Außerdem        0   0   1   11  \n",
       "Bibliothek      0   0   0    2  \n",
       "\n",
       "[5 rows x 29 columns]"
      ]
     },
     "execution_count": 15,
     "metadata": {},
     "output_type": "execute_result"
    }
   ],
   "source": [
    "Al_Pal_A2.T.head()"
   ]
  },
  {
   "cell_type": "code",
   "execution_count": 16,
   "metadata": {
    "scrolled": true
   },
   "outputs": [
    {
     "name": "stdout",
     "output_type": "stream",
     "text": [
      "Mean of as \"new\" identified words: 13.25\n"
     ]
    }
   ],
   "source": [
    "print(r'Mean of as \"new\" identified words: '+str(Al_Pal_A2['All'][:-1].mean()))"
   ]
  },
  {
   "cell_type": "code",
   "execution_count": 17,
   "metadata": {
    "scrolled": true
   },
   "outputs": [
    {
     "name": "stdout",
     "output_type": "stream",
     "text": [
      "Minimum of as \"new\" identified words: 4\n",
      "Maximum of as \"new\" identified words: 27\n"
     ]
    }
   ],
   "source": [
    "print(r'Minimum of as \"new\" identified words: '+str(A2.ID_alumno.value_counts().min()) + '\\n' +\n",
    "      r'Maximum of as \"new\" identified words: '+str(A2.ID_alumno.value_counts().max()))"
   ]
  },
  {
   "cell_type": "markdown",
   "metadata": {},
   "source": [
    "The average number of \"new\" words written down was 13. Large variation: 4 - 27."
   ]
  },
  {
   "cell_type": "markdown",
   "metadata": {},
   "source": [
    "##### Histogram"
   ]
  },
  {
   "cell_type": "code",
   "execution_count": 18,
   "metadata": {},
   "outputs": [
    {
     "data": {
      "text/plain": [
       "1     27\n",
       "2     13\n",
       "3     10\n",
       "4      4\n",
       "5      5\n",
       "6     20\n",
       "7     19\n",
       "8     19\n",
       "10    10\n",
       "11    10\n",
       "12    20\n",
       "13    13\n",
       "14     7\n",
       "15    14\n",
       "16    16\n",
       "17    11\n",
       "18     9\n",
       "19    15\n",
       "20     9\n",
       "21    17\n",
       "22    10\n",
       "23    13\n",
       "24     9\n",
       "25     5\n",
       "26    20\n",
       "27    14\n",
       "28    12\n",
       "29    20\n",
       "Name: ID_alumno, dtype: int64"
      ]
     },
     "execution_count": 18,
     "metadata": {},
     "output_type": "execute_result"
    }
   ],
   "source": [
    "A2.ID_alumno.value_counts().sort_index()"
   ]
  },
  {
   "cell_type": "code",
   "execution_count": 19,
   "metadata": {},
   "outputs": [
    {
     "data": {
      "image/png": "[encoded data removed]",
      "text/plain": [
       "<matplotlib.figure.Figure at 0xce095c0>"
      ]
     },
     "metadata": {},
     "output_type": "display_data"
    }
   ],
   "source": [
    "A2.ID_alumno.value_counts().plot(kind = 'hist',\n",
    "                                bins = 10);"
   ]
  },
  {
   "cell_type": "markdown",
   "metadata": {},
   "source": [
    "The histogram shows the frequency of words written down by participant - no normal distribution."
   ]
  },
  {
   "cell_type": "markdown",
   "metadata": {},
   "source": [
    "#### Use of vocabulary determination strategies (A2)"
   ]
  },
  {
   "cell_type": "markdown",
   "metadata": {},
   "source": [
    "The strategies written down in free text by the learners were classified using the main categories of the online survey on Spanish university students' use of vocabulary determination strategies in German (See http://diarium.usal.es/martinakienberger/proyecto-de-investigacion-2017-2019-estrategias-de-inferencia/):\n",
    "\n",
    "* L1 = Descubro el significado o la función de palabras nuevas en alemán gracias a mi lengua materna. (I identify the meaning or function of an unknown german word with the help of my mother tongue.)\n",
    "* LE = Descubro el significado o la función de palabras nuevas en alemán con la ayuda de otras lenguas. (I identify the meaning or function of an unknown german word with the help of other languages.)\n",
    "* AL = Utilizo mis conocimientos de alemán, p. ej. otras palabras conocidas, clases de palabras o la formación de palabras compuestas. (I use my knowlege about German, e. g. other known words, word classes or rules for compound words.)\n",
    "* Con = Utilizo información extraída del contexto, p. ej. la posición de una palabra en la frase o el formato del texto. (I use context information, e. g. position of a word in a sentence or the text design.)\n",
    "* Prof = Pido ayuda a mi profesor/a. (I ask my teacher for help.)\n",
    "* Co = Pido ayuda a mis compañeros/as de clase. (I ask my classmates for help.)\n",
    "* Dicc = Consulto un diccionario u otra fuente (en papel o digital). (I consult a dictionary or another source (printed or digital version).)\n",
    "\n",
    "In most cases, it was posible to identify clearly the category of strategy use. However, in some cases it was difficult to differentiate between \"ask teacher for help\" and \"ask classmates for help\" (e. g. when students wrote down \"he preguntado a otra persona\" or just \"he preguntado\"). It should also be noted that although students' L1 mostly was Spanish (or Valenciano, another Romance language), in some cases it was English or another European language.\n",
    "\n",
    "Sometimes, students wrote down two, rarely three strategies for one word. If we could classify two different main categories, we entered the data that way.\n",
    "\n",
    "Examples:\n",
    "\n",
    "\"por el contexto y por la palabra Farbe\" (\"using context and because of the word Farbe\") -> Context + Knowledge about German (2 Strategies: Con, AL)\n",
    "\n",
    "\"He separado la palabra y sabía que \"Hoch\" era alto y \"deutsch\" alemán.\" (\"I separated the word and knew that \"Hoch\" was big and \"deutsch\" german.\") -> Knowledge about German (1 Strategy: AL)"
   ]
  },
  {
   "cell_type": "code",
   "execution_count": 20,
   "metadata": {},
   "outputs": [],
   "source": [
    "v1 = A2.Estrategia_1.value_counts()\n",
    "v2 = A2.Estrategia_2.value_counts()"
   ]
  },
  {
   "cell_type": "code",
   "execution_count": 21,
   "metadata": {},
   "outputs": [
    {
     "data": {
      "text/plain": [
       "AL       75.0\n",
       "Co       31.0\n",
       "Con      62.0\n",
       "Dicc    177.0\n",
       "L1       13.0\n",
       "LE       11.0\n",
       "Prof      5.0\n",
       "dtype: float64"
      ]
     },
     "execution_count": 21,
     "metadata": {},
     "output_type": "execute_result"
    }
   ],
   "source": [
    "v = v1 + v2\n",
    "v['L1'] = v1['L1']\n",
    "v['LE'] = v1['LE']\n",
    "v['Co'] = v1['Co']\n",
    "v"
   ]
  },
  {
   "cell_type": "code",
   "execution_count": 22,
   "metadata": {},
   "outputs": [
    {
     "data": {
      "text/plain": [
       "Dicc    177.0\n",
       "AL       75.0\n",
       "Con      62.0\n",
       "Co       31.0\n",
       "L1       13.0\n",
       "LE       11.0\n",
       "Prof      5.0\n",
       "dtype: float64"
      ]
     },
     "execution_count": 22,
     "metadata": {},
     "output_type": "execute_result"
    }
   ],
   "source": [
    "v.sort_values(ascending = False)"
   ]
  },
  {
   "cell_type": "markdown",
   "metadata": {},
   "source": [
    "Since some students' answers can be assigned to two different strategy groups the total number of strategies used (columns \"Estrategia_1\" and \"Estrategia_2\") had to be calculated. "
   ]
  },
  {
   "cell_type": "code",
   "execution_count": 23,
   "metadata": {},
   "outputs": [
    {
     "data": {
      "image/png": "[encoded data removed]",
      "text/plain": [
       "<matplotlib.figure.Figure at 0xce09320>"
      ]
     },
     "metadata": {},
     "output_type": "display_data"
    }
   ],
   "source": [
    "v.sort_values(ascending = False).plot(kind = 'bar', \n",
    "                                      #title = 'Angaben zu eingesetzten Strategien',\n",
    "                                     figsize = (10,6));"
   ]
  },
  {
   "cell_type": "code",
   "execution_count": 24,
   "metadata": {},
   "outputs": [
    {
     "data": {
      "image/png": "[encoded data removed]",
      "text/plain": [
       "<matplotlib.figure.Figure at 0xce6fd30>"
      ]
     },
     "metadata": {},
     "output_type": "display_data"
    }
   ],
   "source": [
    "ax = v.sort_values(ascending = False).plot(kind = 'pie', \n",
    "                                           #title = 'Angaben zu eingesetzten Strategien', \n",
    "                                           figsize = (10,10),\n",
    "                                           autopct='%.1f', startangle = -20);\n",
    "\n",
    "ax.set_ylabel(\"\");"
   ]
  },
  {
   "cell_type": "markdown",
   "metadata": {},
   "source": [
    "The two diagrams show the frequency with which the different types of strategies were used in the whole group.\n",
    "\n",
    "Subsequently, it is examined how the strategic behavior of the individual learners differs. The analysis uses a crosstab and a biplot. Finally, an attempt is made to form groups of individuals with a similar strategy using a cluster analysis."
   ]
  },
  {
   "cell_type": "markdown",
   "metadata": {},
   "source": [
    "#### Crosstab students  - strategy use (A2)"
   ]
  },
  {
   "cell_type": "code",
   "execution_count": 25,
   "metadata": {},
   "outputs": [],
   "source": [
    "CTA2 = pd.crosstab(A2.ID_alumno, A2.Estrategia_1, margins = True)\n",
    "\n",
    "CTA2_2 = pd.crosstab(A2.ID_alumno, A2.Estrategia_2, margins = True)"
   ]
  },
  {
   "cell_type": "code",
   "execution_count": 26,
   "metadata": {},
   "outputs": [],
   "source": [
    "for val in CTA2_2.index:\n",
    "    for col in CTA2_2.columns:\n",
    "        if CTA2_2.loc[val,col]!=0:\n",
    "            CTA2.loc[val,col] = CTA2.loc[val,col]+ CTA2_2.loc[val,col]"
   ]
  },
  {
   "cell_type": "code",
   "execution_count": 27,
   "metadata": {},
   "outputs": [
    {
     "data": {
      "text/html": [
       "<div>\n",
       "<style>\n",
       "    .dataframe thead tr:only-child th {\n",
       "        text-align: right;\n",
       "    }\n",
       "\n",
       "    .dataframe thead th {\n",
       "        text-align: left;\n",
       "    }\n",
       "\n",
       "    .dataframe tbody tr th {\n",
       "        vertical-align: top;\n",
       "    }\n",
       "</style>\n",
       "<table border=\"1\" class=\"dataframe\">\n",
       "  <thead>\n",
       "    <tr style=\"text-align: right;\">\n",
       "      <th>Estrategia_1</th>\n",
       "      <th>AL</th>\n",
       "      <th>Co</th>\n",
       "      <th>Con</th>\n",
       "      <th>Dicc</th>\n",
       "      <th>L1</th>\n",
       "      <th>LE</th>\n",
       "      <th>Prof</th>\n",
       "      <th>All</th>\n",
       "    </tr>\n",
       "    <tr>\n",
       "      <th>ID_alumno</th>\n",
       "      <th></th>\n",
       "      <th></th>\n",
       "      <th></th>\n",
       "      <th></th>\n",
       "      <th></th>\n",
       "      <th></th>\n",
       "      <th></th>\n",
       "      <th></th>\n",
       "    </tr>\n",
       "  </thead>\n",
       "  <tbody>\n",
       "    <tr>\n",
       "      <th>1</th>\n",
       "      <td>7</td>\n",
       "      <td>0</td>\n",
       "      <td>3</td>\n",
       "      <td>15</td>\n",
       "      <td>1</td>\n",
       "      <td>0</td>\n",
       "      <td>0</td>\n",
       "      <td>26</td>\n",
       "    </tr>\n",
       "    <tr>\n",
       "      <th>2</th>\n",
       "      <td>3</td>\n",
       "      <td>0</td>\n",
       "      <td>6</td>\n",
       "      <td>2</td>\n",
       "      <td>1</td>\n",
       "      <td>1</td>\n",
       "      <td>0</td>\n",
       "      <td>13</td>\n",
       "    </tr>\n",
       "    <tr>\n",
       "      <th>3</th>\n",
       "      <td>1</td>\n",
       "      <td>0</td>\n",
       "      <td>3</td>\n",
       "      <td>5</td>\n",
       "      <td>1</td>\n",
       "      <td>0</td>\n",
       "      <td>0</td>\n",
       "      <td>10</td>\n",
       "    </tr>\n",
       "    <tr>\n",
       "      <th>4</th>\n",
       "      <td>4</td>\n",
       "      <td>0</td>\n",
       "      <td>0</td>\n",
       "      <td>0</td>\n",
       "      <td>0</td>\n",
       "      <td>0</td>\n",
       "      <td>0</td>\n",
       "      <td>4</td>\n",
       "    </tr>\n",
       "    <tr>\n",
       "      <th>5</th>\n",
       "      <td>2</td>\n",
       "      <td>0</td>\n",
       "      <td>2</td>\n",
       "      <td>1</td>\n",
       "      <td>0</td>\n",
       "      <td>0</td>\n",
       "      <td>0</td>\n",
       "      <td>5</td>\n",
       "    </tr>\n",
       "    <tr>\n",
       "      <th>6</th>\n",
       "      <td>6</td>\n",
       "      <td>1</td>\n",
       "      <td>0</td>\n",
       "      <td>11</td>\n",
       "      <td>2</td>\n",
       "      <td>0</td>\n",
       "      <td>0</td>\n",
       "      <td>20</td>\n",
       "    </tr>\n",
       "    <tr>\n",
       "      <th>7</th>\n",
       "      <td>0</td>\n",
       "      <td>0</td>\n",
       "      <td>6</td>\n",
       "      <td>13</td>\n",
       "      <td>0</td>\n",
       "      <td>0</td>\n",
       "      <td>0</td>\n",
       "      <td>19</td>\n",
       "    </tr>\n",
       "    <tr>\n",
       "      <th>8</th>\n",
       "      <td>0</td>\n",
       "      <td>0</td>\n",
       "      <td>6</td>\n",
       "      <td>13</td>\n",
       "      <td>0</td>\n",
       "      <td>0</td>\n",
       "      <td>0</td>\n",
       "      <td>19</td>\n",
       "    </tr>\n",
       "    <tr>\n",
       "      <th>10</th>\n",
       "      <td>4</td>\n",
       "      <td>0</td>\n",
       "      <td>2</td>\n",
       "      <td>3</td>\n",
       "      <td>0</td>\n",
       "      <td>2</td>\n",
       "      <td>0</td>\n",
       "      <td>11</td>\n",
       "    </tr>\n",
       "    <tr>\n",
       "      <th>11</th>\n",
       "      <td>5</td>\n",
       "      <td>0</td>\n",
       "      <td>1</td>\n",
       "      <td>3</td>\n",
       "      <td>0</td>\n",
       "      <td>2</td>\n",
       "      <td>0</td>\n",
       "      <td>11</td>\n",
       "    </tr>\n",
       "    <tr>\n",
       "      <th>12</th>\n",
       "      <td>5</td>\n",
       "      <td>0</td>\n",
       "      <td>4</td>\n",
       "      <td>10</td>\n",
       "      <td>0</td>\n",
       "      <td>0</td>\n",
       "      <td>2</td>\n",
       "      <td>21</td>\n",
       "    </tr>\n",
       "    <tr>\n",
       "      <th>13</th>\n",
       "      <td>4</td>\n",
       "      <td>0</td>\n",
       "      <td>2</td>\n",
       "      <td>6</td>\n",
       "      <td>0</td>\n",
       "      <td>0</td>\n",
       "      <td>1</td>\n",
       "      <td>13</td>\n",
       "    </tr>\n",
       "    <tr>\n",
       "      <th>14</th>\n",
       "      <td>0</td>\n",
       "      <td>0</td>\n",
       "      <td>4</td>\n",
       "      <td>3</td>\n",
       "      <td>0</td>\n",
       "      <td>0</td>\n",
       "      <td>0</td>\n",
       "      <td>7</td>\n",
       "    </tr>\n",
       "    <tr>\n",
       "      <th>15</th>\n",
       "      <td>2</td>\n",
       "      <td>0</td>\n",
       "      <td>6</td>\n",
       "      <td>3</td>\n",
       "      <td>0</td>\n",
       "      <td>0</td>\n",
       "      <td>0</td>\n",
       "      <td>11</td>\n",
       "    </tr>\n",
       "    <tr>\n",
       "      <th>16</th>\n",
       "      <td>2</td>\n",
       "      <td>12</td>\n",
       "      <td>1</td>\n",
       "      <td>0</td>\n",
       "      <td>0</td>\n",
       "      <td>1</td>\n",
       "      <td>0</td>\n",
       "      <td>16</td>\n",
       "    </tr>\n",
       "    <tr>\n",
       "      <th>17</th>\n",
       "      <td>6</td>\n",
       "      <td>0</td>\n",
       "      <td>0</td>\n",
       "      <td>3</td>\n",
       "      <td>1</td>\n",
       "      <td>1</td>\n",
       "      <td>0</td>\n",
       "      <td>11</td>\n",
       "    </tr>\n",
       "    <tr>\n",
       "      <th>18</th>\n",
       "      <td>0</td>\n",
       "      <td>0</td>\n",
       "      <td>0</td>\n",
       "      <td>6</td>\n",
       "      <td>3</td>\n",
       "      <td>0</td>\n",
       "      <td>0</td>\n",
       "      <td>9</td>\n",
       "    </tr>\n",
       "    <tr>\n",
       "      <th>19</th>\n",
       "      <td>0</td>\n",
       "      <td>2</td>\n",
       "      <td>2</td>\n",
       "      <td>10</td>\n",
       "      <td>0</td>\n",
       "      <td>0</td>\n",
       "      <td>1</td>\n",
       "      <td>15</td>\n",
       "    </tr>\n",
       "    <tr>\n",
       "      <th>20</th>\n",
       "      <td>3</td>\n",
       "      <td>0</td>\n",
       "      <td>0</td>\n",
       "      <td>6</td>\n",
       "      <td>0</td>\n",
       "      <td>2</td>\n",
       "      <td>0</td>\n",
       "      <td>11</td>\n",
       "    </tr>\n",
       "    <tr>\n",
       "      <th>21</th>\n",
       "      <td>2</td>\n",
       "      <td>0</td>\n",
       "      <td>2</td>\n",
       "      <td>13</td>\n",
       "      <td>0</td>\n",
       "      <td>1</td>\n",
       "      <td>0</td>\n",
       "      <td>18</td>\n",
       "    </tr>\n",
       "    <tr>\n",
       "      <th>22</th>\n",
       "      <td>2</td>\n",
       "      <td>3</td>\n",
       "      <td>1</td>\n",
       "      <td>4</td>\n",
       "      <td>0</td>\n",
       "      <td>0</td>\n",
       "      <td>0</td>\n",
       "      <td>10</td>\n",
       "    </tr>\n",
       "    <tr>\n",
       "      <th>23</th>\n",
       "      <td>2</td>\n",
       "      <td>3</td>\n",
       "      <td>2</td>\n",
       "      <td>6</td>\n",
       "      <td>0</td>\n",
       "      <td>0</td>\n",
       "      <td>0</td>\n",
       "      <td>13</td>\n",
       "    </tr>\n",
       "    <tr>\n",
       "      <th>24</th>\n",
       "      <td>1</td>\n",
       "      <td>2</td>\n",
       "      <td>2</td>\n",
       "      <td>2</td>\n",
       "      <td>2</td>\n",
       "      <td>0</td>\n",
       "      <td>0</td>\n",
       "      <td>9</td>\n",
       "    </tr>\n",
       "    <tr>\n",
       "      <th>25</th>\n",
       "      <td>3</td>\n",
       "      <td>0</td>\n",
       "      <td>0</td>\n",
       "      <td>4</td>\n",
       "      <td>0</td>\n",
       "      <td>0</td>\n",
       "      <td>0</td>\n",
       "      <td>7</td>\n",
       "    </tr>\n",
       "    <tr>\n",
       "      <th>26</th>\n",
       "      <td>1</td>\n",
       "      <td>0</td>\n",
       "      <td>4</td>\n",
       "      <td>12</td>\n",
       "      <td>2</td>\n",
       "      <td>0</td>\n",
       "      <td>1</td>\n",
       "      <td>20</td>\n",
       "    </tr>\n",
       "    <tr>\n",
       "      <th>27</th>\n",
       "      <td>4</td>\n",
       "      <td>0</td>\n",
       "      <td>2</td>\n",
       "      <td>9</td>\n",
       "      <td>0</td>\n",
       "      <td>0</td>\n",
       "      <td>0</td>\n",
       "      <td>15</td>\n",
       "    </tr>\n",
       "    <tr>\n",
       "      <th>28</th>\n",
       "      <td>5</td>\n",
       "      <td>0</td>\n",
       "      <td>1</td>\n",
       "      <td>5</td>\n",
       "      <td>0</td>\n",
       "      <td>1</td>\n",
       "      <td>0</td>\n",
       "      <td>12</td>\n",
       "    </tr>\n",
       "    <tr>\n",
       "      <th>29</th>\n",
       "      <td>1</td>\n",
       "      <td>8</td>\n",
       "      <td>0</td>\n",
       "      <td>9</td>\n",
       "      <td>0</td>\n",
       "      <td>0</td>\n",
       "      <td>0</td>\n",
       "      <td>18</td>\n",
       "    </tr>\n",
       "    <tr>\n",
       "      <th>All</th>\n",
       "      <td>75</td>\n",
       "      <td>31</td>\n",
       "      <td>62</td>\n",
       "      <td>177</td>\n",
       "      <td>13</td>\n",
       "      <td>11</td>\n",
       "      <td>5</td>\n",
       "      <td>374</td>\n",
       "    </tr>\n",
       "  </tbody>\n",
       "</table>\n",
       "</div>"
      ],
      "text/plain": [
       "Estrategia_1  AL  Co  Con  Dicc  L1  LE  Prof  All\n",
       "ID_alumno                                         \n",
       "1              7   0    3    15   1   0     0   26\n",
       "2              3   0    6     2   1   1     0   13\n",
       "3              1   0    3     5   1   0     0   10\n",
       "4              4   0    0     0   0   0     0    4\n",
       "5              2   0    2     1   0   0     0    5\n",
       "6              6   1    0    11   2   0     0   20\n",
       "7              0   0    6    13   0   0     0   19\n",
       "8              0   0    6    13   0   0     0   19\n",
       "10             4   0    2     3   0   2     0   11\n",
       "11             5   0    1     3   0   2     0   11\n",
       "12             5   0    4    10   0   0     2   21\n",
       "13             4   0    2     6   0   0     1   13\n",
       "14             0   0    4     3   0   0     0    7\n",
       "15             2   0    6     3   0   0     0   11\n",
       "16             2  12    1     0   0   1     0   16\n",
       "17             6   0    0     3   1   1     0   11\n",
       "18             0   0    0     6   3   0     0    9\n",
       "19             0   2    2    10   0   0     1   15\n",
       "20             3   0    0     6   0   2     0   11\n",
       "21             2   0    2    13   0   1     0   18\n",
       "22             2   3    1     4   0   0     0   10\n",
       "23             2   3    2     6   0   0     0   13\n",
       "24             1   2    2     2   2   0     0    9\n",
       "25             3   0    0     4   0   0     0    7\n",
       "26             1   0    4    12   2   0     1   20\n",
       "27             4   0    2     9   0   0     0   15\n",
       "28             5   0    1     5   0   1     0   12\n",
       "29             1   8    0     9   0   0     0   18\n",
       "All           75  31   62   177  13  11     5  374"
      ]
     },
     "execution_count": 27,
     "metadata": {},
     "output_type": "execute_result"
    }
   ],
   "source": [
    "CTA2"
   ]
  },
  {
   "cell_type": "markdown",
   "metadata": {},
   "source": [
    "#### Correspondence analysis and biplot students - strategy use (A2)"
   ]
  },
  {
   "cell_type": "code",
   "execution_count": 28,
   "metadata": {},
   "outputs": [],
   "source": [
    "CA_A2L = biplot.CA(CTA2.values[:-1,:-1], 7, method = 1)"
   ]
  },
  {
   "cell_type": "markdown",
   "metadata": {},
   "source": [
    "Using the data of the crosstab, correspondence analysis can be performed to graphically represent the relationships between elements and variables.\n",
    "\n",
    "An alternative is the biplot, which is better suited to reduce the dimensions of the presentation."
   ]
  },
  {
   "cell_type": "code",
   "execution_count": 29,
   "metadata": {},
   "outputs": [],
   "source": [
    "Biplot_A2L = biplot.Classic(CTA2.values[:-1,:-1], 7, method = 1)"
   ]
  },
  {
   "cell_type": "code",
   "execution_count": 30,
   "metadata": {},
   "outputs": [],
   "source": [
    "R = Biplot_A2L.RowCoord\n",
    "C = Biplot_A2L.ColCoord\n",
    "cr = Biplot_A2L.RowCont\n",
    "cc = Biplot_A2L.ColCont"
   ]
  },
  {
   "cell_type": "markdown",
   "metadata": {},
   "source": [
    "##### Quality of the representation of the elements and variables on the axes of the biplot"
   ]
  },
  {
   "cell_type": "code",
   "execution_count": 31,
   "metadata": {},
   "outputs": [
    {
     "data": {
      "text/plain": [
       "array([ 27.4862713 ,  19.30682653,  16.16280832,  13.94912583,\n",
       "         9.54467983,   7.89842503,   5.65186318])"
      ]
     },
     "execution_count": 31,
     "metadata": {},
     "output_type": "execute_result"
    }
   ],
   "source": [
    "Biplot_A2L.Inert"
   ]
  },
  {
   "cell_type": "markdown",
   "metadata": {},
   "source": [
    "Overview of information content of the individual axes of the biplot (here 7)"
   ]
  },
  {
   "cell_type": "code",
   "execution_count": 32,
   "metadata": {},
   "outputs": [
    {
     "data": {
      "text/html": [
       "<div>\n",
       "<style>\n",
       "    .dataframe thead tr:only-child th {\n",
       "        text-align: right;\n",
       "    }\n",
       "\n",
       "    .dataframe thead th {\n",
       "        text-align: left;\n",
       "    }\n",
       "\n",
       "    .dataframe tbody tr th {\n",
       "        vertical-align: top;\n",
       "    }\n",
       "</style>\n",
       "<table border=\"1\" class=\"dataframe\">\n",
       "  <thead>\n",
       "    <tr style=\"text-align: right;\">\n",
       "      <th></th>\n",
       "      <th>Axis_1</th>\n",
       "      <th>Axis_2</th>\n",
       "      <th>Axis_3</th>\n",
       "      <th>Axis_4</th>\n",
       "      <th>Axis_5</th>\n",
       "      <th>Axis_6</th>\n",
       "      <th>Axis_7</th>\n",
       "    </tr>\n",
       "    <tr>\n",
       "      <th>ID_alumno</th>\n",
       "      <th></th>\n",
       "      <th></th>\n",
       "      <th></th>\n",
       "      <th></th>\n",
       "      <th></th>\n",
       "      <th></th>\n",
       "      <th></th>\n",
       "    </tr>\n",
       "  </thead>\n",
       "  <tbody>\n",
       "    <tr>\n",
       "      <th>1</th>\n",
       "      <td>7.812657</td>\n",
       "      <td>36.536490</td>\n",
       "      <td>6.926975</td>\n",
       "      <td>0.850467</td>\n",
       "      <td>27.001013</td>\n",
       "      <td>5.564122</td>\n",
       "      <td>15.308276</td>\n",
       "    </tr>\n",
       "    <tr>\n",
       "      <th>2</th>\n",
       "      <td>0.010366</td>\n",
       "      <td>0.699793</td>\n",
       "      <td>3.234423</td>\n",
       "      <td>45.925108</td>\n",
       "      <td>7.964813</td>\n",
       "      <td>14.725019</td>\n",
       "      <td>27.440478</td>\n",
       "    </tr>\n",
       "    <tr>\n",
       "      <th>3</th>\n",
       "      <td>18.657148</td>\n",
       "      <td>20.652116</td>\n",
       "      <td>16.126947</td>\n",
       "      <td>36.177166</td>\n",
       "      <td>7.638956</td>\n",
       "      <td>0.341211</td>\n",
       "      <td>0.406455</td>\n",
       "    </tr>\n",
       "    <tr>\n",
       "      <th>4</th>\n",
       "      <td>34.195345</td>\n",
       "      <td>0.177427</td>\n",
       "      <td>0.699517</td>\n",
       "      <td>0.075264</td>\n",
       "      <td>21.827818</td>\n",
       "      <td>41.760687</td>\n",
       "      <td>1.263942</td>\n",
       "    </tr>\n",
       "    <tr>\n",
       "      <th>5</th>\n",
       "      <td>5.823619</td>\n",
       "      <td>12.295133</td>\n",
       "      <td>2.803339</td>\n",
       "      <td>11.209405</td>\n",
       "      <td>34.039329</td>\n",
       "      <td>31.757832</td>\n",
       "      <td>2.071343</td>\n",
       "    </tr>\n",
       "    <tr>\n",
       "      <th>6</th>\n",
       "      <td>0.088265</td>\n",
       "      <td>17.544577</td>\n",
       "      <td>63.437258</td>\n",
       "      <td>4.699720</td>\n",
       "      <td>8.617749</td>\n",
       "      <td>1.610364</td>\n",
       "      <td>4.002066</td>\n",
       "    </tr>\n",
       "    <tr>\n",
       "      <th>7</th>\n",
       "      <td>56.006589</td>\n",
       "      <td>5.207512</td>\n",
       "      <td>11.749963</td>\n",
       "      <td>12.624630</td>\n",
       "      <td>14.408201</td>\n",
       "      <td>0.000066</td>\n",
       "      <td>0.003039</td>\n",
       "    </tr>\n",
       "    <tr>\n",
       "      <th>8</th>\n",
       "      <td>56.006589</td>\n",
       "      <td>5.207512</td>\n",
       "      <td>11.749963</td>\n",
       "      <td>12.624630</td>\n",
       "      <td>14.408201</td>\n",
       "      <td>0.000066</td>\n",
       "      <td>0.003039</td>\n",
       "    </tr>\n",
       "    <tr>\n",
       "      <th>10</th>\n",
       "      <td>48.563984</td>\n",
       "      <td>15.074722</td>\n",
       "      <td>13.816001</td>\n",
       "      <td>8.973837</td>\n",
       "      <td>0.000008</td>\n",
       "      <td>13.295822</td>\n",
       "      <td>0.275626</td>\n",
       "    </tr>\n",
       "    <tr>\n",
       "      <th>11</th>\n",
       "      <td>60.358838</td>\n",
       "      <td>23.081637</td>\n",
       "      <td>6.974712</td>\n",
       "      <td>2.767064</td>\n",
       "      <td>0.033088</td>\n",
       "      <td>6.457268</td>\n",
       "      <td>0.327393</td>\n",
       "    </tr>\n",
       "    <tr>\n",
       "      <th>12</th>\n",
       "      <td>27.406382</td>\n",
       "      <td>21.481967</td>\n",
       "      <td>8.531495</td>\n",
       "      <td>30.414733</td>\n",
       "      <td>10.336584</td>\n",
       "      <td>1.331971</td>\n",
       "      <td>0.496868</td>\n",
       "    </tr>\n",
       "    <tr>\n",
       "      <th>13</th>\n",
       "      <td>10.534715</td>\n",
       "      <td>20.287462</td>\n",
       "      <td>6.756363</td>\n",
       "      <td>34.013193</td>\n",
       "      <td>24.777568</td>\n",
       "      <td>3.122290</td>\n",
       "      <td>0.508410</td>\n",
       "    </tr>\n",
       "    <tr>\n",
       "      <th>14</th>\n",
       "      <td>9.045829</td>\n",
       "      <td>33.219866</td>\n",
       "      <td>12.298711</td>\n",
       "      <td>29.073927</td>\n",
       "      <td>11.122302</td>\n",
       "      <td>3.646216</td>\n",
       "      <td>1.593150</td>\n",
       "    </tr>\n",
       "    <tr>\n",
       "      <th>15</th>\n",
       "      <td>12.769933</td>\n",
       "      <td>5.715124</td>\n",
       "      <td>22.030035</td>\n",
       "      <td>31.163857</td>\n",
       "      <td>8.382735</td>\n",
       "      <td>4.026126</td>\n",
       "      <td>15.912190</td>\n",
       "    </tr>\n",
       "    <tr>\n",
       "      <th>16</th>\n",
       "      <td>30.962897</td>\n",
       "      <td>37.398532</td>\n",
       "      <td>1.891235</td>\n",
       "      <td>15.794717</td>\n",
       "      <td>0.240469</td>\n",
       "      <td>5.835412</td>\n",
       "      <td>7.876738</td>\n",
       "    </tr>\n",
       "    <tr>\n",
       "      <th>17</th>\n",
       "      <td>51.962908</td>\n",
       "      <td>32.380440</td>\n",
       "      <td>12.968817</td>\n",
       "      <td>0.031473</td>\n",
       "      <td>1.380536</td>\n",
       "      <td>0.055552</td>\n",
       "      <td>1.220274</td>\n",
       "    </tr>\n",
       "    <tr>\n",
       "      <th>18</th>\n",
       "      <td>1.606975</td>\n",
       "      <td>4.072163</td>\n",
       "      <td>80.115013</td>\n",
       "      <td>3.106035</td>\n",
       "      <td>1.461966</td>\n",
       "      <td>4.763761</td>\n",
       "      <td>4.874088</td>\n",
       "    </tr>\n",
       "    <tr>\n",
       "      <th>19</th>\n",
       "      <td>36.056759</td>\n",
       "      <td>5.810781</td>\n",
       "      <td>5.926544</td>\n",
       "      <td>29.204657</td>\n",
       "      <td>0.857315</td>\n",
       "      <td>3.092147</td>\n",
       "      <td>19.051797</td>\n",
       "    </tr>\n",
       "    <tr>\n",
       "      <th>20</th>\n",
       "      <td>48.076585</td>\n",
       "      <td>11.355677</td>\n",
       "      <td>4.373064</td>\n",
       "      <td>1.744974</td>\n",
       "      <td>4.371080</td>\n",
       "      <td>12.616237</td>\n",
       "      <td>17.462383</td>\n",
       "    </tr>\n",
       "    <tr>\n",
       "      <th>21</th>\n",
       "      <td>1.255069</td>\n",
       "      <td>6.475875</td>\n",
       "      <td>7.223929</td>\n",
       "      <td>1.966583</td>\n",
       "      <td>59.717746</td>\n",
       "      <td>3.708675</td>\n",
       "      <td>19.652123</td>\n",
       "    </tr>\n",
       "    <tr>\n",
       "      <th>22</th>\n",
       "      <td>15.455385</td>\n",
       "      <td>50.733209</td>\n",
       "      <td>0.189263</td>\n",
       "      <td>8.699231</td>\n",
       "      <td>0.450036</td>\n",
       "      <td>23.234988</td>\n",
       "      <td>1.237888</td>\n",
       "    </tr>\n",
       "    <tr>\n",
       "      <th>23</th>\n",
       "      <td>0.646807</td>\n",
       "      <td>62.099873</td>\n",
       "      <td>4.341665</td>\n",
       "      <td>6.611461</td>\n",
       "      <td>4.353561</td>\n",
       "      <td>21.581940</td>\n",
       "      <td>0.364692</td>\n",
       "    </tr>\n",
       "    <tr>\n",
       "      <th>24</th>\n",
       "      <td>0.013300</td>\n",
       "      <td>23.121861</td>\n",
       "      <td>53.043301</td>\n",
       "      <td>5.182906</td>\n",
       "      <td>13.542834</td>\n",
       "      <td>3.437578</td>\n",
       "      <td>1.658220</td>\n",
       "    </tr>\n",
       "    <tr>\n",
       "      <th>25</th>\n",
       "      <td>19.031747</td>\n",
       "      <td>0.022248</td>\n",
       "      <td>1.673679</td>\n",
       "      <td>0.691288</td>\n",
       "      <td>3.801905</td>\n",
       "      <td>56.689566</td>\n",
       "      <td>18.089567</td>\n",
       "    </tr>\n",
       "    <tr>\n",
       "      <th>26</th>\n",
       "      <td>65.864928</td>\n",
       "      <td>1.128680</td>\n",
       "      <td>11.622807</td>\n",
       "      <td>1.436183</td>\n",
       "      <td>1.093678</td>\n",
       "      <td>18.804012</td>\n",
       "      <td>0.049712</td>\n",
       "    </tr>\n",
       "    <tr>\n",
       "      <th>27</th>\n",
       "      <td>2.586867</td>\n",
       "      <td>15.843656</td>\n",
       "      <td>0.965776</td>\n",
       "      <td>0.177884</td>\n",
       "      <td>19.719609</td>\n",
       "      <td>60.650852</td>\n",
       "      <td>0.055357</td>\n",
       "    </tr>\n",
       "    <tr>\n",
       "      <th>28</th>\n",
       "      <td>55.334419</td>\n",
       "      <td>37.112207</td>\n",
       "      <td>3.752708</td>\n",
       "      <td>0.310037</td>\n",
       "      <td>0.844948</td>\n",
       "      <td>2.587401</td>\n",
       "      <td>0.058280</td>\n",
       "    </tr>\n",
       "    <tr>\n",
       "      <th>29</th>\n",
       "      <td>3.157485</td>\n",
       "      <td>47.171625</td>\n",
       "      <td>0.150475</td>\n",
       "      <td>32.650267</td>\n",
       "      <td>16.566268</td>\n",
       "      <td>0.163288</td>\n",
       "      <td>0.140593</td>\n",
       "    </tr>\n",
       "  </tbody>\n",
       "</table>\n",
       "</div>"
      ],
      "text/plain": [
       "              Axis_1     Axis_2     Axis_3     Axis_4     Axis_5     Axis_6  \\\n",
       "ID_alumno                                                                     \n",
       "1           7.812657  36.536490   6.926975   0.850467  27.001013   5.564122   \n",
       "2           0.010366   0.699793   3.234423  45.925108   7.964813  14.725019   \n",
       "3          18.657148  20.652116  16.126947  36.177166   7.638956   0.341211   \n",
       "4          34.195345   0.177427   0.699517   0.075264  21.827818  41.760687   \n",
       "5           5.823619  12.295133   2.803339  11.209405  34.039329  31.757832   \n",
       "6           0.088265  17.544577  63.437258   4.699720   8.617749   1.610364   \n",
       "7          56.006589   5.207512  11.749963  12.624630  14.408201   0.000066   \n",
       "8          56.006589   5.207512  11.749963  12.624630  14.408201   0.000066   \n",
       "10         48.563984  15.074722  13.816001   8.973837   0.000008  13.295822   \n",
       "11         60.358838  23.081637   6.974712   2.767064   0.033088   6.457268   \n",
       "12         27.406382  21.481967   8.531495  30.414733  10.336584   1.331971   \n",
       "13         10.534715  20.287462   6.756363  34.013193  24.777568   3.122290   \n",
       "14          9.045829  33.219866  12.298711  29.073927  11.122302   3.646216   \n",
       "15         12.769933   5.715124  22.030035  31.163857   8.382735   4.026126   \n",
       "16         30.962897  37.398532   1.891235  15.794717   0.240469   5.835412   \n",
       "17         51.962908  32.380440  12.968817   0.031473   1.380536   0.055552   \n",
       "18          1.606975   4.072163  80.115013   3.106035   1.461966   4.763761   \n",
       "19         36.056759   5.810781   5.926544  29.204657   0.857315   3.092147   \n",
       "20         48.076585  11.355677   4.373064   1.744974   4.371080  12.616237   \n",
       "21          1.255069   6.475875   7.223929   1.966583  59.717746   3.708675   \n",
       "22         15.455385  50.733209   0.189263   8.699231   0.450036  23.234988   \n",
       "23          0.646807  62.099873   4.341665   6.611461   4.353561  21.581940   \n",
       "24          0.013300  23.121861  53.043301   5.182906  13.542834   3.437578   \n",
       "25         19.031747   0.022248   1.673679   0.691288   3.801905  56.689566   \n",
       "26         65.864928   1.128680  11.622807   1.436183   1.093678  18.804012   \n",
       "27          2.586867  15.843656   0.965776   0.177884  19.719609  60.650852   \n",
       "28         55.334419  37.112207   3.752708   0.310037   0.844948   2.587401   \n",
       "29          3.157485  47.171625   0.150475  32.650267  16.566268   0.163288   \n",
       "\n",
       "              Axis_7  \n",
       "ID_alumno             \n",
       "1          15.308276  \n",
       "2          27.440478  \n",
       "3           0.406455  \n",
       "4           1.263942  \n",
       "5           2.071343  \n",
       "6           4.002066  \n",
       "7           0.003039  \n",
       "8           0.003039  \n",
       "10          0.275626  \n",
       "11          0.327393  \n",
       "12          0.496868  \n",
       "13          0.508410  \n",
       "14          1.593150  \n",
       "15         15.912190  \n",
       "16          7.876738  \n",
       "17          1.220274  \n",
       "18          4.874088  \n",
       "19         19.051797  \n",
       "20         17.462383  \n",
       "21         19.652123  \n",
       "22          1.237888  \n",
       "23          0.364692  \n",
       "24          1.658220  \n",
       "25         18.089567  \n",
       "26          0.049712  \n",
       "27          0.055357  \n",
       "28          0.058280  \n",
       "29          0.140593  "
      ]
     },
     "execution_count": 32,
     "metadata": {},
     "output_type": "execute_result"
    }
   ],
   "source": [
    "pd.DataFrame(cr, columns = ['Axis_'+str(el+1) for el in range(7)], index = CTA2.index[:-1])"
   ]
  },
  {
   "cell_type": "code",
   "execution_count": 33,
   "metadata": {},
   "outputs": [
    {
     "data": {
      "text/html": [
       "<div>\n",
       "<style>\n",
       "    .dataframe thead tr:only-child th {\n",
       "        text-align: right;\n",
       "    }\n",
       "\n",
       "    .dataframe thead th {\n",
       "        text-align: left;\n",
       "    }\n",
       "\n",
       "    .dataframe tbody tr th {\n",
       "        vertical-align: top;\n",
       "    }\n",
       "</style>\n",
       "<table border=\"1\" class=\"dataframe\">\n",
       "  <thead>\n",
       "    <tr style=\"text-align: right;\">\n",
       "      <th></th>\n",
       "      <th>Axis_1</th>\n",
       "      <th>Axis_2</th>\n",
       "      <th>Axis_3</th>\n",
       "      <th>Axis_4</th>\n",
       "      <th>Axis_5</th>\n",
       "      <th>Axis_6</th>\n",
       "      <th>Axis_7</th>\n",
       "    </tr>\n",
       "    <tr>\n",
       "      <th>Estrategia_1</th>\n",
       "      <th></th>\n",
       "      <th></th>\n",
       "      <th></th>\n",
       "      <th></th>\n",
       "      <th></th>\n",
       "      <th></th>\n",
       "      <th></th>\n",
       "    </tr>\n",
       "  </thead>\n",
       "  <tbody>\n",
       "    <tr>\n",
       "      <th>AL</th>\n",
       "      <td>15.689785</td>\n",
       "      <td>61.371663</td>\n",
       "      <td>0.249228</td>\n",
       "      <td>5.121841</td>\n",
       "      <td>0.220113</td>\n",
       "      <td>4.462114</td>\n",
       "      <td>12.885255</td>\n",
       "    </tr>\n",
       "    <tr>\n",
       "      <th>Co</th>\n",
       "      <td>10.479118</td>\n",
       "      <td>45.177895</td>\n",
       "      <td>0.119282</td>\n",
       "      <td>29.692279</td>\n",
       "      <td>3.804277</td>\n",
       "      <td>3.056069</td>\n",
       "      <td>7.671081</td>\n",
       "    </tr>\n",
       "    <tr>\n",
       "      <th>Con</th>\n",
       "      <td>46.409671</td>\n",
       "      <td>0.294683</td>\n",
       "      <td>19.373320</td>\n",
       "      <td>16.907469</td>\n",
       "      <td>0.152620</td>\n",
       "      <td>2.263675</td>\n",
       "      <td>14.598562</td>\n",
       "    </tr>\n",
       "    <tr>\n",
       "      <th>Dicc</th>\n",
       "      <td>44.223958</td>\n",
       "      <td>7.422729</td>\n",
       "      <td>0.283094</td>\n",
       "      <td>3.926806</td>\n",
       "      <td>42.750016</td>\n",
       "      <td>0.355825</td>\n",
       "      <td>1.037571</td>\n",
       "    </tr>\n",
       "    <tr>\n",
       "      <th>L1</th>\n",
       "      <td>3.775677</td>\n",
       "      <td>0.343985</td>\n",
       "      <td>81.258791</td>\n",
       "      <td>2.028646</td>\n",
       "      <td>0.858523</td>\n",
       "      <td>9.821616</td>\n",
       "      <td>1.912763</td>\n",
       "    </tr>\n",
       "    <tr>\n",
       "      <th>LE</th>\n",
       "      <td>45.220487</td>\n",
       "      <td>10.952911</td>\n",
       "      <td>8.356553</td>\n",
       "      <td>3.859678</td>\n",
       "      <td>2.030123</td>\n",
       "      <td>28.865090</td>\n",
       "      <td>0.715159</td>\n",
       "    </tr>\n",
       "    <tr>\n",
       "      <th>Prof</th>\n",
       "      <td>26.605204</td>\n",
       "      <td>9.583920</td>\n",
       "      <td>3.499390</td>\n",
       "      <td>36.107162</td>\n",
       "      <td>16.997088</td>\n",
       "      <td>6.464586</td>\n",
       "      <td>0.742650</td>\n",
       "    </tr>\n",
       "  </tbody>\n",
       "</table>\n",
       "</div>"
      ],
      "text/plain": [
       "                 Axis_1     Axis_2     Axis_3     Axis_4     Axis_5  \\\n",
       "Estrategia_1                                                          \n",
       "AL            15.689785  61.371663   0.249228   5.121841   0.220113   \n",
       "Co            10.479118  45.177895   0.119282  29.692279   3.804277   \n",
       "Con           46.409671   0.294683  19.373320  16.907469   0.152620   \n",
       "Dicc          44.223958   7.422729   0.283094   3.926806  42.750016   \n",
       "L1             3.775677   0.343985  81.258791   2.028646   0.858523   \n",
       "LE            45.220487  10.952911   8.356553   3.859678   2.030123   \n",
       "Prof          26.605204   9.583920   3.499390  36.107162  16.997088   \n",
       "\n",
       "                 Axis_6     Axis_7  \n",
       "Estrategia_1                        \n",
       "AL             4.462114  12.885255  \n",
       "Co             3.056069   7.671081  \n",
       "Con            2.263675  14.598562  \n",
       "Dicc           0.355825   1.037571  \n",
       "L1             9.821616   1.912763  \n",
       "LE            28.865090   0.715159  \n",
       "Prof           6.464586   0.742650  "
      ]
     },
     "execution_count": 33,
     "metadata": {},
     "output_type": "execute_result"
    }
   ],
   "source": [
    "pd.DataFrame(cc, columns = ['Axis_'+str(el+1) for el in range(7)], index = CTA2.columns[:-1])"
   ]
  },
  {
   "cell_type": "markdown",
   "metadata": {},
   "source": [
    "Interpretation:\n",
    "\n",
    "For example, to get a good representation of strategy \"AL\", axis 1 and 2 must be chosen for a representation in 2 dimensions. For \"L1\" axis 3 and 6 would be suitable. (For programming in Python, note that \"1\" equals \"0\", etc.)"
   ]
  },
  {
   "cell_type": "markdown",
   "metadata": {},
   "source": [
    "###### Visualization of the biplot\n",
    "\n",
    "To represent the results of the biplot, axes must be chosen (see above), as only 2 (or a maximum of 3) dimensions can be captured in graphics."
   ]
  },
  {
   "cell_type": "code",
   "execution_count": 34,
   "metadata": {},
   "outputs": [
    {
     "data": {
      "image/png": "[encoded data removed]",
      "text/plain": [
       "<matplotlib.figure.Figure at 0xd096198>"
      ]
     },
     "metadata": {},
     "output_type": "display_data"
    }
   ],
   "source": [
    "fig = plt.figure(figsize=(10,10))\n",
    "ax1 = fig.add_subplot(111)\n",
    "\n",
    "ax1.scatter(R[:,0],R[:,1], s = 9)\n",
    "for i in range(R.shape[0]):\n",
    "    ax1.text(R[i,0],R[i,1], str(CTA2.index[:-1][i]), fontsize=12 )\n",
    "for i in range(C.shape[0]):\n",
    "    ax1.arrow(0,0,C[i,0],C[i,1])\n",
    "    #ax1.scatter(C[i,0],C[i,1])\n",
    "    ax1.text(C[i,0],C[i,1],CTA2.columns[:-1][i],fontsize=20)\n",
    "    \n",
    "plt.show()"
   ]
  },
  {
   "cell_type": "markdown",
   "metadata": {},
   "source": [
    "#### Cluster analysis students - strategy use (A2)\n",
    "\n",
    "With the values of the crosstab, clusters can also be computed to differentiate groups.\n",
    "\n",
    "These can subsequently be displayed in a graphic with the results of the biplot."
   ]
  },
  {
   "cell_type": "code",
   "execution_count": 35,
   "metadata": {},
   "outputs": [],
   "source": [
    "#X = CTA2.values[:-1,:-1]"
   ]
  },
  {
   "cell_type": "code",
   "execution_count": 36,
   "metadata": {},
   "outputs": [],
   "source": [
    "#kmeans = KMeans(n_clusters=5, random_state=0).fit(X)\n",
    "ward = AgglomerativeClustering(n_clusters=5).fit(CTA2.values[:-1,:-1])"
   ]
  },
  {
   "cell_type": "markdown",
   "metadata": {},
   "source": [
    "Both types of calculation lead to similar results, here \"ward\" is used.\n",
    "\n",
    "Tests with different numbers of clusters show that 5 provides meaningful results."
   ]
  },
  {
   "cell_type": "markdown",
   "metadata": {},
   "source": [
    "##### Visualization biplot + cluster"
   ]
  },
  {
   "cell_type": "code",
   "execution_count": 37,
   "metadata": {},
   "outputs": [
    {
     "data": {
      "image/png": "[encoded data removed]",
      "text/plain": [
       "<matplotlib.figure.Figure at 0xd19a0f0>"
      ]
     },
     "metadata": {},
     "output_type": "display_data"
    }
   ],
   "source": [
    "fig = plt.figure(figsize=(10,10))\n",
    "ax = fig.add_subplot(111)\n",
    "\n",
    "for i in range(C.shape[0]):\n",
    "    ax.arrow(0,0,C[i,0],C[i,1], alpha = 0.7)\n",
    "    #ax.scatter(C[i,0],C[i,1]) # Hier würden Linien nicht angezeigt.\n",
    "    ax.text(C[i,0],C[i,1],CTA2.columns[:-1][i],fontsize=20, alpha = 0.7)\n",
    "\n",
    "ax.scatter(R[:,0],R[:,1], s = 12, c = ward.labels_)\n",
    "texts = [plt.text(R[i,0],R[i,1], CTA2.index[:-1][i], ha='center', va='center') for i in range(len(R[:,0]))]\n",
    "adjust_text(texts);"
   ]
  },
  {
   "cell_type": "markdown",
   "metadata": {},
   "source": [
    "simple graphics, highlighting the clusters in color - the representation can be improved by using other colors and symbols"
   ]
  },
  {
   "cell_type": "code",
   "execution_count": 38,
   "metadata": {},
   "outputs": [],
   "source": [
    "def vector_to_shape(v):\n",
    "    markers = [\",\" , \"o\" , \"v\" , \"^\", \"x\", \"D\", \"*\"]\n",
    "    return [markers[el] for el in v]"
   ]
  },
  {
   "cell_type": "code",
   "execution_count": 39,
   "metadata": {},
   "outputs": [],
   "source": [
    "def vector_to_color(v):\n",
    "    col = ['b', 'g', 'r', 'c', 'm', 'k', 'y']\n",
    "    return [col[el] for el in v]"
   ]
  },
  {
   "cell_type": "code",
   "execution_count": 40,
   "metadata": {},
   "outputs": [],
   "source": [
    "def graf_cplot(data, dim, nclust, dim1 = 0, dim2 = 1, sx = 10, sy = 10):\n",
    "    \n",
    "    B = biplot.Classic(data, dim, method = 1) \n",
    "    R = B.RowCoord\n",
    "    C = B.ColCoord\n",
    "    \n",
    "    ward = AgglomerativeClustering(n_clusters=nclust).fit(data)\n",
    "    \n",
    "    fig = plt.figure(figsize=(sx,sy))\n",
    "    ax = fig.add_subplot(111)\n",
    "\n",
    "    sh_v = vector_to_shape(ward.labels_)\n",
    "    color_v = vector_to_color(ward.labels_)\n",
    "\n",
    "    for i in range(C.shape[0]):\n",
    "        ax.arrow(0,0,C[i,dim1],C[i,dim2], alpha = 0.7)\n",
    "        #ax.scatter(C[i,dim1],C[i,dim2]) # Hier würden Linien nicht angezeigt.\n",
    "        ax.text(C[i,dim1],C[i,dim2],data.columns[i],fontsize=20, alpha = 0.7)\n",
    "\n",
    "    for i in range(R.shape[0]):\n",
    "        ax.scatter(R[i,dim1],R[i,dim2], s = 20, c = color_v[i] ,marker = sh_v[i])\n",
    "    \n",
    "    texts = [plt.text(R[i,dim1],R[i,dim2], data.index[i], ha='center', va='center') for i in range(len(R[:,0]))]\n",
    "    adjust_text(texts);"
   ]
  },
  {
   "cell_type": "code",
   "execution_count": 41,
   "metadata": {},
   "outputs": [],
   "source": [
    "def graf_cplot1(data, dim, nclust, dim1 = 0, dim2 = 1, sx = 10, sy = 10):\n",
    "    \n",
    "    B = biplot.CA(data, dim, method = 1) \n",
    "    R = B.RowCoordinates\n",
    "    C = B.ColCoordinates\n",
    "    \n",
    "    ward = AgglomerativeClustering(n_clusters=nclust).fit(data)\n",
    "    \n",
    "    fig = plt.figure(figsize=(sx,sy))\n",
    "    ax = fig.add_subplot(111)\n",
    "\n",
    "    sh_v = vector_to_shape(ward.labels_)\n",
    "    color_v = vector_to_color(ward.labels_)\n",
    "\n",
    "    for i in range(C.shape[0]):\n",
    "        ax.arrow(0,0,C[i,dim1],C[i,dim2], alpha = 0.7)\n",
    "        #ax.scatter(C[i,dim1],C[i,dim2]) # Hier würden Linien nicht angezeigt.\n",
    "        ax.text(C[i,dim1],C[i,dim2],data.columns[i],fontsize=20, alpha = 0.7)\n",
    "\n",
    "    for i in range(R.shape[0]):\n",
    "        ax.scatter(R[i,dim1],R[i,dim2], s = 20, c = color_v[i] ,marker = sh_v[i])\n",
    "    \n",
    "    texts = [plt.text(R[i,dim1],R[i,dim2], data.index[i], ha='center', va='center') for i in range(len(R[:,0]))]\n",
    "    adjust_text(texts);"
   ]
  },
  {
   "cell_type": "markdown",
   "metadata": {},
   "source": [
    "The preferred form of visualization is defined as a function and subsequently used for all other biplot / cluster representations. (The function already includes the calculation of the biplot / correspondence analysis and the clusters.)"
   ]
  },
  {
   "cell_type": "code",
   "execution_count": 42,
   "metadata": {},
   "outputs": [
    {
     "data": {
      "image/png": "[encoded data removed]",
      "text/plain": [
       "<matplotlib.figure.Figure at 0xd257ac8>"
      ]
     },
     "metadata": {},
     "output_type": "display_data"
    }
   ],
   "source": [
    "graf_cplot(CTA2.iloc[:-1,:-1], 7, 5)"
   ]
  },
  {
   "cell_type": "markdown",
   "metadata": {},
   "source": [
    "#### Crosstab words - strategy use (A2)"
   ]
  },
  {
   "cell_type": "code",
   "execution_count": 43,
   "metadata": {},
   "outputs": [],
   "source": [
    "Pal_Es_A2 = pd.crosstab(A2.Palabra, A2.Estrategia_1, margins = True)\n",
    "Pal_Es_A2_2 = pd.crosstab(A2.Palabra, A2.Estrategia_2, margins = True)"
   ]
  },
  {
   "cell_type": "code",
   "execution_count": 44,
   "metadata": {},
   "outputs": [],
   "source": [
    "for val in Pal_Es_A2_2.index:\n",
    "    for col in Pal_Es_A2_2.columns:\n",
    "        if Pal_Es_A2_2.loc[val,col]!=0:\n",
    "            Pal_Es_A2.loc[val,col] = Pal_Es_A2.loc[val,col]+ Pal_Es_A2_2.loc[val,col]"
   ]
  },
  {
   "cell_type": "code",
   "execution_count": 45,
   "metadata": {},
   "outputs": [
    {
     "data": {
      "text/html": [
       "<div>\n",
       "<style>\n",
       "    .dataframe thead tr:only-child th {\n",
       "        text-align: right;\n",
       "    }\n",
       "\n",
       "    .dataframe thead th {\n",
       "        text-align: left;\n",
       "    }\n",
       "\n",
       "    .dataframe tbody tr th {\n",
       "        vertical-align: top;\n",
       "    }\n",
       "</style>\n",
       "<table border=\"1\" class=\"dataframe\">\n",
       "  <thead>\n",
       "    <tr style=\"text-align: right;\">\n",
       "      <th>Estrategia_1</th>\n",
       "      <th>AL</th>\n",
       "      <th>Co</th>\n",
       "      <th>Con</th>\n",
       "      <th>Dicc</th>\n",
       "      <th>L1</th>\n",
       "      <th>LE</th>\n",
       "      <th>Prof</th>\n",
       "      <th>All</th>\n",
       "    </tr>\n",
       "    <tr>\n",
       "      <th>Palabra</th>\n",
       "      <th></th>\n",
       "      <th></th>\n",
       "      <th></th>\n",
       "      <th></th>\n",
       "      <th></th>\n",
       "      <th></th>\n",
       "      <th></th>\n",
       "      <th></th>\n",
       "    </tr>\n",
       "  </thead>\n",
       "  <tbody>\n",
       "    <tr>\n",
       "      <th>All</th>\n",
       "      <td>75</td>\n",
       "      <td>31</td>\n",
       "      <td>62</td>\n",
       "      <td>177</td>\n",
       "      <td>13</td>\n",
       "      <td>11</td>\n",
       "      <td>5</td>\n",
       "      <td>374</td>\n",
       "    </tr>\n",
       "    <tr>\n",
       "      <th>Färbung</th>\n",
       "      <td>9</td>\n",
       "      <td>3</td>\n",
       "      <td>2</td>\n",
       "      <td>10</td>\n",
       "      <td>0</td>\n",
       "      <td>0</td>\n",
       "      <td>2</td>\n",
       "      <td>26</td>\n",
       "    </tr>\n",
       "    <tr>\n",
       "      <th>Stadtsparkasse</th>\n",
       "      <td>11</td>\n",
       "      <td>2</td>\n",
       "      <td>3</td>\n",
       "      <td>6</td>\n",
       "      <td>1</td>\n",
       "      <td>1</td>\n",
       "      <td>0</td>\n",
       "      <td>24</td>\n",
       "    </tr>\n",
       "    <tr>\n",
       "      <th>verwenden</th>\n",
       "      <td>0</td>\n",
       "      <td>2</td>\n",
       "      <td>7</td>\n",
       "      <td>14</td>\n",
       "      <td>0</td>\n",
       "      <td>0</td>\n",
       "      <td>0</td>\n",
       "      <td>23</td>\n",
       "    </tr>\n",
       "    <tr>\n",
       "      <th>lebendiger</th>\n",
       "      <td>9</td>\n",
       "      <td>2</td>\n",
       "      <td>1</td>\n",
       "      <td>10</td>\n",
       "      <td>0</td>\n",
       "      <td>0</td>\n",
       "      <td>0</td>\n",
       "      <td>22</td>\n",
       "    </tr>\n",
       "    <tr>\n",
       "      <th>eigene</th>\n",
       "      <td>0</td>\n",
       "      <td>1</td>\n",
       "      <td>5</td>\n",
       "      <td>14</td>\n",
       "      <td>0</td>\n",
       "      <td>0</td>\n",
       "      <td>0</td>\n",
       "      <td>20</td>\n",
       "    </tr>\n",
       "    <tr>\n",
       "      <th>alltägliches</th>\n",
       "      <td>7</td>\n",
       "      <td>2</td>\n",
       "      <td>3</td>\n",
       "      <td>5</td>\n",
       "      <td>0</td>\n",
       "      <td>0</td>\n",
       "      <td>1</td>\n",
       "      <td>18</td>\n",
       "    </tr>\n",
       "    <tr>\n",
       "      <th>Abschlusstest</th>\n",
       "      <td>7</td>\n",
       "      <td>0</td>\n",
       "      <td>0</td>\n",
       "      <td>11</td>\n",
       "      <td>0</td>\n",
       "      <td>0</td>\n",
       "      <td>0</td>\n",
       "      <td>18</td>\n",
       "    </tr>\n",
       "    <tr>\n",
       "      <th>Sammlung</th>\n",
       "      <td>0</td>\n",
       "      <td>1</td>\n",
       "      <td>7</td>\n",
       "      <td>8</td>\n",
       "      <td>1</td>\n",
       "      <td>0</td>\n",
       "      <td>0</td>\n",
       "      <td>17</td>\n",
       "    </tr>\n",
       "    <tr>\n",
       "      <th>gegründet</th>\n",
       "      <td>2</td>\n",
       "      <td>1</td>\n",
       "      <td>3</td>\n",
       "      <td>9</td>\n",
       "      <td>0</td>\n",
       "      <td>0</td>\n",
       "      <td>0</td>\n",
       "      <td>15</td>\n",
       "    </tr>\n",
       "    <tr>\n",
       "      <th>Zugezogene</th>\n",
       "      <td>0</td>\n",
       "      <td>4</td>\n",
       "      <td>1</td>\n",
       "      <td>9</td>\n",
       "      <td>0</td>\n",
       "      <td>0</td>\n",
       "      <td>0</td>\n",
       "      <td>14</td>\n",
       "    </tr>\n",
       "    <tr>\n",
       "      <th>meistens</th>\n",
       "      <td>0</td>\n",
       "      <td>3</td>\n",
       "      <td>0</td>\n",
       "      <td>11</td>\n",
       "      <td>0</td>\n",
       "      <td>0</td>\n",
       "      <td>0</td>\n",
       "      <td>14</td>\n",
       "    </tr>\n",
       "    <tr>\n",
       "      <th>Bürgern</th>\n",
       "      <td>1</td>\n",
       "      <td>0</td>\n",
       "      <td>0</td>\n",
       "      <td>10</td>\n",
       "      <td>0</td>\n",
       "      <td>2</td>\n",
       "      <td>0</td>\n",
       "      <td>13</td>\n",
       "    </tr>\n",
       "    <tr>\n",
       "      <th>Außerdem</th>\n",
       "      <td>1</td>\n",
       "      <td>1</td>\n",
       "      <td>1</td>\n",
       "      <td>8</td>\n",
       "      <td>0</td>\n",
       "      <td>0</td>\n",
       "      <td>0</td>\n",
       "      <td>11</td>\n",
       "    </tr>\n",
       "    <tr>\n",
       "      <th>Kommunikationsmittel</th>\n",
       "      <td>4</td>\n",
       "      <td>2</td>\n",
       "      <td>2</td>\n",
       "      <td>1</td>\n",
       "      <td>1</td>\n",
       "      <td>1</td>\n",
       "      <td>0</td>\n",
       "      <td>11</td>\n",
       "    </tr>\n",
       "    <tr>\n",
       "      <th>Hochdeutsch</th>\n",
       "      <td>7</td>\n",
       "      <td>0</td>\n",
       "      <td>1</td>\n",
       "      <td>1</td>\n",
       "      <td>0</td>\n",
       "      <td>0</td>\n",
       "      <td>1</td>\n",
       "      <td>10</td>\n",
       "    </tr>\n",
       "    <tr>\n",
       "      <th>echte</th>\n",
       "      <td>0</td>\n",
       "      <td>1</td>\n",
       "      <td>2</td>\n",
       "      <td>6</td>\n",
       "      <td>1</td>\n",
       "      <td>0</td>\n",
       "      <td>0</td>\n",
       "      <td>10</td>\n",
       "    </tr>\n",
       "    <tr>\n",
       "      <th>Imis</th>\n",
       "      <td>1</td>\n",
       "      <td>0</td>\n",
       "      <td>4</td>\n",
       "      <td>4</td>\n",
       "      <td>0</td>\n",
       "      <td>0</td>\n",
       "      <td>0</td>\n",
       "      <td>9</td>\n",
       "    </tr>\n",
       "    <tr>\n",
       "      <th>besonders</th>\n",
       "      <td>0</td>\n",
       "      <td>1</td>\n",
       "      <td>1</td>\n",
       "      <td>5</td>\n",
       "      <td>0</td>\n",
       "      <td>2</td>\n",
       "      <td>0</td>\n",
       "      <td>9</td>\n",
       "    </tr>\n",
       "    <tr>\n",
       "      <th>Lieder</th>\n",
       "      <td>4</td>\n",
       "      <td>1</td>\n",
       "      <td>0</td>\n",
       "      <td>4</td>\n",
       "      <td>0</td>\n",
       "      <td>0</td>\n",
       "      <td>0</td>\n",
       "      <td>9</td>\n",
       "    </tr>\n",
       "    <tr>\n",
       "      <th>klingt</th>\n",
       "      <td>0</td>\n",
       "      <td>2</td>\n",
       "      <td>1</td>\n",
       "      <td>5</td>\n",
       "      <td>0</td>\n",
       "      <td>0</td>\n",
       "      <td>0</td>\n",
       "      <td>8</td>\n",
       "    </tr>\n",
       "    <tr>\n",
       "      <th>Bildern</th>\n",
       "      <td>0</td>\n",
       "      <td>0</td>\n",
       "      <td>2</td>\n",
       "      <td>5</td>\n",
       "      <td>0</td>\n",
       "      <td>0</td>\n",
       "      <td>1</td>\n",
       "      <td>8</td>\n",
       "    </tr>\n",
       "    <tr>\n",
       "      <th>sondern</th>\n",
       "      <td>1</td>\n",
       "      <td>0</td>\n",
       "      <td>1</td>\n",
       "      <td>5</td>\n",
       "      <td>0</td>\n",
       "      <td>0</td>\n",
       "      <td>0</td>\n",
       "      <td>7</td>\n",
       "    </tr>\n",
       "    <tr>\n",
       "      <th>bietet</th>\n",
       "      <td>0</td>\n",
       "      <td>1</td>\n",
       "      <td>1</td>\n",
       "      <td>4</td>\n",
       "      <td>0</td>\n",
       "      <td>0</td>\n",
       "      <td>0</td>\n",
       "      <td>6</td>\n",
       "    </tr>\n",
       "    <tr>\n",
       "      <th>Sproch</th>\n",
       "      <td>1</td>\n",
       "      <td>0</td>\n",
       "      <td>3</td>\n",
       "      <td>0</td>\n",
       "      <td>1</td>\n",
       "      <td>0</td>\n",
       "      <td>0</td>\n",
       "      <td>5</td>\n",
       "    </tr>\n",
       "    <tr>\n",
       "      <th>besonderes</th>\n",
       "      <td>1</td>\n",
       "      <td>1</td>\n",
       "      <td>0</td>\n",
       "      <td>2</td>\n",
       "      <td>0</td>\n",
       "      <td>0</td>\n",
       "      <td>0</td>\n",
       "      <td>4</td>\n",
       "    </tr>\n",
       "    <tr>\n",
       "      <th>Abitur</th>\n",
       "      <td>0</td>\n",
       "      <td>0</td>\n",
       "      <td>1</td>\n",
       "      <td>3</td>\n",
       "      <td>0</td>\n",
       "      <td>0</td>\n",
       "      <td>0</td>\n",
       "      <td>4</td>\n",
       "    </tr>\n",
       "    <tr>\n",
       "      <th>Wortanfang</th>\n",
       "      <td>4</td>\n",
       "      <td>0</td>\n",
       "      <td>0</td>\n",
       "      <td>0</td>\n",
       "      <td>0</td>\n",
       "      <td>0</td>\n",
       "      <td>0</td>\n",
       "      <td>4</td>\n",
       "    </tr>\n",
       "    <tr>\n",
       "      <th>Kölsch-Abitur</th>\n",
       "      <td>0</td>\n",
       "      <td>0</td>\n",
       "      <td>1</td>\n",
       "      <td>2</td>\n",
       "      <td>0</td>\n",
       "      <td>0</td>\n",
       "      <td>0</td>\n",
       "      <td>3</td>\n",
       "    </tr>\n",
       "    <tr>\n",
       "      <th>bietet an</th>\n",
       "      <td>0</td>\n",
       "      <td>0</td>\n",
       "      <td>1</td>\n",
       "      <td>2</td>\n",
       "      <td>0</td>\n",
       "      <td>0</td>\n",
       "      <td>0</td>\n",
       "      <td>3</td>\n",
       "    </tr>\n",
       "    <tr>\n",
       "      <th>langen</th>\n",
       "      <td>0</td>\n",
       "      <td>0</td>\n",
       "      <td>1</td>\n",
       "      <td>0</td>\n",
       "      <td>2</td>\n",
       "      <td>0</td>\n",
       "      <td>0</td>\n",
       "      <td>3</td>\n",
       "    </tr>\n",
       "    <tr>\n",
       "      <th>Bibliothek</th>\n",
       "      <td>0</td>\n",
       "      <td>0</td>\n",
       "      <td>0</td>\n",
       "      <td>0</td>\n",
       "      <td>2</td>\n",
       "      <td>0</td>\n",
       "      <td>0</td>\n",
       "      <td>2</td>\n",
       "    </tr>\n",
       "    <tr>\n",
       "      <th>oft</th>\n",
       "      <td>0</td>\n",
       "      <td>0</td>\n",
       "      <td>0</td>\n",
       "      <td>0</td>\n",
       "      <td>0</td>\n",
       "      <td>2</td>\n",
       "      <td>0</td>\n",
       "      <td>2</td>\n",
       "    </tr>\n",
       "    <tr>\n",
       "      <th>Büchern</th>\n",
       "      <td>1</td>\n",
       "      <td>0</td>\n",
       "      <td>1</td>\n",
       "      <td>0</td>\n",
       "      <td>0</td>\n",
       "      <td>0</td>\n",
       "      <td>0</td>\n",
       "      <td>2</td>\n",
       "    </tr>\n",
       "    <tr>\n",
       "      <th>liere</th>\n",
       "      <td>1</td>\n",
       "      <td>0</td>\n",
       "      <td>1</td>\n",
       "      <td>0</td>\n",
       "      <td>0</td>\n",
       "      <td>0</td>\n",
       "      <td>0</td>\n",
       "      <td>2</td>\n",
       "    </tr>\n",
       "    <tr>\n",
       "      <th>Dialekt</th>\n",
       "      <td>0</td>\n",
       "      <td>0</td>\n",
       "      <td>0</td>\n",
       "      <td>0</td>\n",
       "      <td>2</td>\n",
       "      <td>0</td>\n",
       "      <td>0</td>\n",
       "      <td>2</td>\n",
       "    </tr>\n",
       "    <tr>\n",
       "      <th>Geschenk</th>\n",
       "      <td>0</td>\n",
       "      <td>0</td>\n",
       "      <td>0</td>\n",
       "      <td>2</td>\n",
       "      <td>0</td>\n",
       "      <td>0</td>\n",
       "      <td>0</td>\n",
       "      <td>2</td>\n",
       "    </tr>\n",
       "    <tr>\n",
       "      <th>hört</th>\n",
       "      <td>1</td>\n",
       "      <td>0</td>\n",
       "      <td>0</td>\n",
       "      <td>0</td>\n",
       "      <td>0</td>\n",
       "      <td>1</td>\n",
       "      <td>0</td>\n",
       "      <td>2</td>\n",
       "    </tr>\n",
       "    <tr>\n",
       "      <th>gemacht</th>\n",
       "      <td>0</td>\n",
       "      <td>0</td>\n",
       "      <td>1</td>\n",
       "      <td>1</td>\n",
       "      <td>0</td>\n",
       "      <td>0</td>\n",
       "      <td>0</td>\n",
       "      <td>2</td>\n",
       "    </tr>\n",
       "    <tr>\n",
       "      <th>för</th>\n",
       "      <td>1</td>\n",
       "      <td>0</td>\n",
       "      <td>0</td>\n",
       "      <td>0</td>\n",
       "      <td>0</td>\n",
       "      <td>1</td>\n",
       "      <td>0</td>\n",
       "      <td>2</td>\n",
       "    </tr>\n",
       "    <tr>\n",
       "      <th>Köln</th>\n",
       "      <td>0</td>\n",
       "      <td>0</td>\n",
       "      <td>1</td>\n",
       "      <td>0</td>\n",
       "      <td>0</td>\n",
       "      <td>0</td>\n",
       "      <td>0</td>\n",
       "      <td>1</td>\n",
       "    </tr>\n",
       "    <tr>\n",
       "      <th>Kölner</th>\n",
       "      <td>1</td>\n",
       "      <td>0</td>\n",
       "      <td>0</td>\n",
       "      <td>0</td>\n",
       "      <td>0</td>\n",
       "      <td>0</td>\n",
       "      <td>0</td>\n",
       "      <td>1</td>\n",
       "    </tr>\n",
       "    <tr>\n",
       "      <th>Kölns</th>\n",
       "      <td>0</td>\n",
       "      <td>0</td>\n",
       "      <td>1</td>\n",
       "      <td>0</td>\n",
       "      <td>0</td>\n",
       "      <td>0</td>\n",
       "      <td>0</td>\n",
       "      <td>1</td>\n",
       "    </tr>\n",
       "    <tr>\n",
       "      <th>Kölsch</th>\n",
       "      <td>0</td>\n",
       "      <td>0</td>\n",
       "      <td>1</td>\n",
       "      <td>0</td>\n",
       "      <td>0</td>\n",
       "      <td>0</td>\n",
       "      <td>0</td>\n",
       "      <td>1</td>\n",
       "    </tr>\n",
       "    <tr>\n",
       "      <th>typische</th>\n",
       "      <td>0</td>\n",
       "      <td>0</td>\n",
       "      <td>0</td>\n",
       "      <td>0</td>\n",
       "      <td>0</td>\n",
       "      <td>1</td>\n",
       "      <td>0</td>\n",
       "      <td>1</td>\n",
       "    </tr>\n",
       "    <tr>\n",
       "      <th>Akademie</th>\n",
       "      <td>0</td>\n",
       "      <td>0</td>\n",
       "      <td>0</td>\n",
       "      <td>0</td>\n",
       "      <td>1</td>\n",
       "      <td>0</td>\n",
       "      <td>0</td>\n",
       "      <td>1</td>\n",
       "    </tr>\n",
       "    <tr>\n",
       "      <th>wenn</th>\n",
       "      <td>0</td>\n",
       "      <td>0</td>\n",
       "      <td>1</td>\n",
       "      <td>0</td>\n",
       "      <td>0</td>\n",
       "      <td>0</td>\n",
       "      <td>0</td>\n",
       "      <td>1</td>\n",
       "    </tr>\n",
       "    <tr>\n",
       "      <th>Tradition</th>\n",
       "      <td>0</td>\n",
       "      <td>0</td>\n",
       "      <td>0</td>\n",
       "      <td>0</td>\n",
       "      <td>1</td>\n",
       "      <td>0</td>\n",
       "      <td>0</td>\n",
       "      <td>1</td>\n",
       "    </tr>\n",
       "  </tbody>\n",
       "</table>\n",
       "</div>"
      ],
      "text/plain": [
       "Estrategia_1          AL  Co  Con  Dicc  L1  LE  Prof  All\n",
       "Palabra                                                   \n",
       "All                   75  31   62   177  13  11     5  374\n",
       "Färbung                9   3    2    10   0   0     2   26\n",
       "Stadtsparkasse        11   2    3     6   1   1     0   24\n",
       "verwenden              0   2    7    14   0   0     0   23\n",
       "lebendiger             9   2    1    10   0   0     0   22\n",
       "eigene                 0   1    5    14   0   0     0   20\n",
       "alltägliches           7   2    3     5   0   0     1   18\n",
       "Abschlusstest          7   0    0    11   0   0     0   18\n",
       "Sammlung               0   1    7     8   1   0     0   17\n",
       "gegründet              2   1    3     9   0   0     0   15\n",
       "Zugezogene             0   4    1     9   0   0     0   14\n",
       "meistens               0   3    0    11   0   0     0   14\n",
       "Bürgern                1   0    0    10   0   2     0   13\n",
       "Außerdem               1   1    1     8   0   0     0   11\n",
       "Kommunikationsmittel   4   2    2     1   1   1     0   11\n",
       "Hochdeutsch            7   0    1     1   0   0     1   10\n",
       "echte                  0   1    2     6   1   0     0   10\n",
       "Imis                   1   0    4     4   0   0     0    9\n",
       "besonders              0   1    1     5   0   2     0    9\n",
       "Lieder                 4   1    0     4   0   0     0    9\n",
       "klingt                 0   2    1     5   0   0     0    8\n",
       "Bildern                0   0    2     5   0   0     1    8\n",
       "sondern                1   0    1     5   0   0     0    7\n",
       "bietet                 0   1    1     4   0   0     0    6\n",
       "Sproch                 1   0    3     0   1   0     0    5\n",
       "besonderes             1   1    0     2   0   0     0    4\n",
       "Abitur                 0   0    1     3   0   0     0    4\n",
       "Wortanfang             4   0    0     0   0   0     0    4\n",
       "Kölsch-Abitur          0   0    1     2   0   0     0    3\n",
       "bietet an              0   0    1     2   0   0     0    3\n",
       "langen                 0   0    1     0   2   0     0    3\n",
       "Bibliothek             0   0    0     0   2   0     0    2\n",
       "oft                    0   0    0     0   0   2     0    2\n",
       "Büchern                1   0    1     0   0   0     0    2\n",
       "liere                  1   0    1     0   0   0     0    2\n",
       "Dialekt                0   0    0     0   2   0     0    2\n",
       "Geschenk               0   0    0     2   0   0     0    2\n",
       "hört                   1   0    0     0   0   1     0    2\n",
       "gemacht                0   0    1     1   0   0     0    2\n",
       "för                    1   0    0     0   0   1     0    2\n",
       "Köln                   0   0    1     0   0   0     0    1\n",
       "Kölner                 1   0    0     0   0   0     0    1\n",
       "Kölns                  0   0    1     0   0   0     0    1\n",
       "Kölsch                 0   0    1     0   0   0     0    1\n",
       "typische               0   0    0     0   0   1     0    1\n",
       "Akademie               0   0    0     0   1   0     0    1\n",
       "wenn                   0   0    1     0   0   0     0    1\n",
       "Tradition              0   0    0     0   1   0     0    1"
      ]
     },
     "execution_count": 45,
     "metadata": {},
     "output_type": "execute_result"
    }
   ],
   "source": [
    "Pal_Es_A2.sort_values(['All'], ascending=[0])"
   ]
  },
  {
   "cell_type": "markdown",
   "metadata": {},
   "source": [
    "In this crosstab, words identified as \"new\" are displayed with the specified strategies in descending frequency."
   ]
  },
  {
   "cell_type": "markdown",
   "metadata": {},
   "source": [
    "#### Correspondence analysis and biplot words - strategy use (A2)"
   ]
  },
  {
   "cell_type": "code",
   "execution_count": 46,
   "metadata": {},
   "outputs": [],
   "source": [
    "#Biplot_A2W = biplot.Classic(Pal_Es_A2.values[:-1,:-1], 7, method = 1)"
   ]
  },
  {
   "cell_type": "code",
   "execution_count": 47,
   "metadata": {},
   "outputs": [],
   "source": [
    "#R = Biplot_A2W.RowCoord\n",
    "#C = Biplot_A2W.ColCoord\n",
    "#cr = Biplot_A2W.RowCont\n",
    "#cc = Biplot_A2W.ColCont"
   ]
  },
  {
   "cell_type": "markdown",
   "metadata": {},
   "source": [
    "#### Cluster"
   ]
  },
  {
   "cell_type": "code",
   "execution_count": 48,
   "metadata": {},
   "outputs": [],
   "source": [
    "#kmeans = KMeans(n_clusters=4, random_state=0).fit(X)\n",
    "#ward = AgglomerativeClustering(n_clusters=4).fit(Pal_Es_A2.values[:-1,:-1])"
   ]
  },
  {
   "cell_type": "markdown",
   "metadata": {},
   "source": [
    "Both types of calculation lead to similar results, here \"ward\" is used."
   ]
  },
  {
   "cell_type": "markdown",
   "metadata": {},
   "source": [
    "##### Visualization biplot + cluster"
   ]
  },
  {
   "cell_type": "code",
   "execution_count": 49,
   "metadata": {},
   "outputs": [],
   "source": [
    "def graf_cplot2(data, dim, nclust, dim1 = 0, dim2 = 1, sx = 10, sy = 10):\n",
    "    \n",
    "    B = biplot.Classic(data, dim, method = 1) \n",
    "    R = B.RowCoord\n",
    "    C = B.ColCoord\n",
    "    \n",
    "    ward = AgglomerativeClustering(n_clusters=nclust).fit(data)\n",
    "    \n",
    "    fig = plt.figure(figsize=(sx,sy))\n",
    "    ax = fig.add_subplot(111)\n",
    "    \n",
    "    color_v = vector_to_color(ward.labels_)\n",
    "\n",
    "    for i in range(C.shape[0]):\n",
    "        ax.arrow(0,0,C[i,dim1],C[i,dim2], alpha = 0.7)\n",
    "        #ax.scatter(C[i,0],C[i,1])\n",
    "        ax.text(C[i,dim1],C[i,dim2],data.columns[i],fontsize=20, alpha = 0.7)\n",
    "        \n",
    "    ax.scatter(R[:,dim1],R[:,dim2], s = 0.5, c = color_v[i])\n",
    "    \n",
    "    texts = [plt.text(R[i,dim1],R[i,dim2], data.index[i], ha='center', va='center', color=color_v[i]) for i in range(len(R[:,0]))]\n",
    "    adjust_text(texts);"
   ]
  },
  {
   "cell_type": "code",
   "execution_count": 50,
   "metadata": {},
   "outputs": [
    {
     "data": {
      "image/png": "[encoded data removed]",
      "text/plain": [
       "<matplotlib.figure.Figure at 0xd22f438>"
      ]
     },
     "metadata": {},
     "output_type": "display_data"
    }
   ],
   "source": [
    "graf_cplot2(Pal_Es_A2.iloc[:-1,:-1],7, 4)"
   ]
  },
  {
   "cell_type": "markdown",
   "metadata": {},
   "source": [
    "The grouping of words identified as \"new\" in terms of the strategies used to determine their meaning shows that certain words (presumably dependent on part of speech, co- and context) suggest the use of certain strategies."
   ]
  },
  {
   "cell_type": "markdown",
   "metadata": {},
   "source": [
    "### Group B2"
   ]
  },
  {
   "cell_type": "code",
   "execution_count": 85,
   "metadata": {},
   "outputs": [
    {
     "name": "stdout",
     "output_type": "stream",
     "text": [
      "Participants: 13\n",
      "TN + Online-Survey: 9\n",
      "TN - Online-Survey: 3\n",
      "TN ? Online-Survey: 1\n"
     ]
    }
   ],
   "source": [
    "print(r'Participants: ' + str(len(B2.ID_alumno.unique()))+'\\n'+\n",
    "      r'TN + Online-Survey: ' + str(len(B2[B2.Encuesta == 1].ID_alumno.unique()))+'\\n'+\n",
    "      r'TN - Online-Survey: ' + str(len(B2[B2.Encuesta == 2].ID_alumno.unique()))+'\\n'+\n",
    "      r'TN ? Online-Survey: ' + str(len(B2[B2.Encuesta == 0].ID_alumno.unique())))"
   ]
  },
  {
   "cell_type": "markdown",
   "metadata": {},
   "source": [
    "Group B2 consists of 13 participants. 9 had taken part in the online survey on strategy use, 3 had not, one student didn't indicate whether he had participated or not."
   ]
  },
  {
   "cell_type": "code",
   "execution_count": 52,
   "metadata": {},
   "outputs": [],
   "source": [
    "#B2_1 = B2.drop(data.index[514:563]) # Gezielt bestimmte Zeilen entfernen. (Muss dafür Zeilennummer kennen - und darf diese später nicht ändern.)\n",
    "B2_1 = B2[(B2.ID_alumno != 37) & (B2.ID_alumno != 38) & (B2.ID_alumno != 39)].reset_index(drop = True)"
   ]
  },
  {
   "cell_type": "markdown",
   "metadata": {},
   "source": [
    "3 participants (ID 37-39) didn't work the whole time foreseen for the task on it. Because of this, they could write down fewer words and strategies.\n",
    "\n",
    "For some calculations it may make sense to disregard these elements, in this case \"B2_1\" can be used."
   ]
  },
  {
   "cell_type": "markdown",
   "metadata": {},
   "source": [
    "#### Words indicated as \"new\" (B2)"
   ]
  },
  {
   "cell_type": "code",
   "execution_count": 53,
   "metadata": {},
   "outputs": [
    {
     "data": {
      "text/plain": [
       "71"
      ]
     },
     "execution_count": 53,
     "metadata": {},
     "output_type": "execute_result"
    }
   ],
   "source": [
    "len(B2.Palabra.unique())"
   ]
  },
  {
   "cell_type": "code",
   "execution_count": 54,
   "metadata": {},
   "outputs": [
    {
     "data": {
      "image/png": "[encoded data removed]",
      "text/plain": [
       "<matplotlib.figure.Figure at 0xdd817f0>"
      ]
     },
     "metadata": {},
     "output_type": "display_data"
    }
   ],
   "source": [
    "B2.Palabra.value_counts(ascending = True).plot(kind = 'barh', figsize = (5,18));"
   ]
  },
  {
   "cell_type": "markdown",
   "metadata": {},
   "source": [
    "One word could not be deciphered (illegible writing) and is marked as \"?\"."
   ]
  },
  {
   "cell_type": "markdown",
   "metadata": {},
   "source": [
    "#### Crosstab students - new words (B2)"
   ]
  },
  {
   "cell_type": "code",
   "execution_count": 55,
   "metadata": {},
   "outputs": [],
   "source": [
    "Al_Pal_B2 = pd.crosstab(B2.ID_alumno, B2.Palabra, margins = True)\n",
    "Al_Pal_B2_1 = pd.crosstab(B2_1.ID_alumno, B2_1.Palabra, margins = True)"
   ]
  },
  {
   "cell_type": "code",
   "execution_count": 56,
   "metadata": {},
   "outputs": [
    {
     "data": {
      "text/html": [
       "<div>\n",
       "<style>\n",
       "    .dataframe thead tr:only-child th {\n",
       "        text-align: right;\n",
       "    }\n",
       "\n",
       "    .dataframe thead th {\n",
       "        text-align: left;\n",
       "    }\n",
       "\n",
       "    .dataframe tbody tr th {\n",
       "        vertical-align: top;\n",
       "    }\n",
       "</style>\n",
       "<table border=\"1\" class=\"dataframe\">\n",
       "  <thead>\n",
       "    <tr style=\"text-align: right;\">\n",
       "      <th>ID_alumno</th>\n",
       "      <th>31</th>\n",
       "      <th>32</th>\n",
       "      <th>33</th>\n",
       "      <th>34</th>\n",
       "      <th>35</th>\n",
       "      <th>36</th>\n",
       "      <th>37</th>\n",
       "      <th>38</th>\n",
       "      <th>39</th>\n",
       "      <th>40</th>\n",
       "      <th>41</th>\n",
       "      <th>42</th>\n",
       "      <th>43</th>\n",
       "      <th>All</th>\n",
       "    </tr>\n",
       "    <tr>\n",
       "      <th>Palabra</th>\n",
       "      <th></th>\n",
       "      <th></th>\n",
       "      <th></th>\n",
       "      <th></th>\n",
       "      <th></th>\n",
       "      <th></th>\n",
       "      <th></th>\n",
       "      <th></th>\n",
       "      <th></th>\n",
       "      <th></th>\n",
       "      <th></th>\n",
       "      <th></th>\n",
       "      <th></th>\n",
       "      <th></th>\n",
       "    </tr>\n",
       "  </thead>\n",
       "  <tbody>\n",
       "    <tr>\n",
       "      <th>?</th>\n",
       "      <td>0</td>\n",
       "      <td>0</td>\n",
       "      <td>0</td>\n",
       "      <td>0</td>\n",
       "      <td>0</td>\n",
       "      <td>1</td>\n",
       "      <td>0</td>\n",
       "      <td>0</td>\n",
       "      <td>0</td>\n",
       "      <td>0</td>\n",
       "      <td>0</td>\n",
       "      <td>0</td>\n",
       "      <td>0</td>\n",
       "      <td>1</td>\n",
       "    </tr>\n",
       "    <tr>\n",
       "      <th>Bedeckung</th>\n",
       "      <td>0</td>\n",
       "      <td>0</td>\n",
       "      <td>0</td>\n",
       "      <td>0</td>\n",
       "      <td>0</td>\n",
       "      <td>0</td>\n",
       "      <td>0</td>\n",
       "      <td>1</td>\n",
       "      <td>0</td>\n",
       "      <td>0</td>\n",
       "      <td>0</td>\n",
       "      <td>0</td>\n",
       "      <td>0</td>\n",
       "      <td>1</td>\n",
       "    </tr>\n",
       "    <tr>\n",
       "      <th>Bevölkerung</th>\n",
       "      <td>0</td>\n",
       "      <td>0</td>\n",
       "      <td>0</td>\n",
       "      <td>1</td>\n",
       "      <td>1</td>\n",
       "      <td>0</td>\n",
       "      <td>0</td>\n",
       "      <td>0</td>\n",
       "      <td>0</td>\n",
       "      <td>1</td>\n",
       "      <td>0</td>\n",
       "      <td>0</td>\n",
       "      <td>1</td>\n",
       "      <td>4</td>\n",
       "    </tr>\n",
       "    <tr>\n",
       "      <th>Dicke</th>\n",
       "      <td>0</td>\n",
       "      <td>0</td>\n",
       "      <td>0</td>\n",
       "      <td>0</td>\n",
       "      <td>0</td>\n",
       "      <td>0</td>\n",
       "      <td>0</td>\n",
       "      <td>1</td>\n",
       "      <td>1</td>\n",
       "      <td>0</td>\n",
       "      <td>0</td>\n",
       "      <td>0</td>\n",
       "      <td>0</td>\n",
       "      <td>2</td>\n",
       "    </tr>\n",
       "    <tr>\n",
       "      <th>Einwohner</th>\n",
       "      <td>0</td>\n",
       "      <td>0</td>\n",
       "      <td>0</td>\n",
       "      <td>1</td>\n",
       "      <td>0</td>\n",
       "      <td>0</td>\n",
       "      <td>0</td>\n",
       "      <td>0</td>\n",
       "      <td>0</td>\n",
       "      <td>0</td>\n",
       "      <td>0</td>\n",
       "      <td>0</td>\n",
       "      <td>0</td>\n",
       "      <td>1</td>\n",
       "    </tr>\n",
       "  </tbody>\n",
       "</table>\n",
       "</div>"
      ],
      "text/plain": [
       "ID_alumno    31  32  33  34  35  36  37  38  39  40  41  42  43  All\n",
       "Palabra                                                             \n",
       "?             0   0   0   0   0   1   0   0   0   0   0   0   0    1\n",
       "Bedeckung     0   0   0   0   0   0   0   1   0   0   0   0   0    1\n",
       "Bevölkerung   0   0   0   1   1   0   0   0   0   1   0   0   1    4\n",
       "Dicke         0   0   0   0   0   0   0   1   1   0   0   0   0    2\n",
       "Einwohner     0   0   0   1   0   0   0   0   0   0   0   0   0    1"
      ]
     },
     "execution_count": 56,
     "metadata": {},
     "output_type": "execute_result"
    }
   ],
   "source": [
    "Al_Pal_B2.T.head()"
   ]
  },
  {
   "cell_type": "code",
   "execution_count": 86,
   "metadata": {
    "scrolled": true
   },
   "outputs": [
    {
     "name": "stdout",
     "output_type": "stream",
     "text": [
      "Mean of as \"new\" identified words: 20.53846153846154\n"
     ]
    }
   ],
   "source": [
    "print(r'Mean of as \"new\" identified words: '+str(Al_Pal_B2['All'][:-1].mean()))"
   ]
  },
  {
   "cell_type": "code",
   "execution_count": 87,
   "metadata": {
    "scrolled": true
   },
   "outputs": [
    {
     "name": "stdout",
     "output_type": "stream",
     "text": [
      "Mean of as \"new\" identified words: 21.8\n"
     ]
    }
   ],
   "source": [
    "print(r'Mean of as \"new\" identified words: '+str(Al_Pal_B2_1['All'][:-1].mean()))"
   ]
  },
  {
   "cell_type": "code",
   "execution_count": 88,
   "metadata": {
    "scrolled": true
   },
   "outputs": [
    {
     "name": "stdout",
     "output_type": "stream",
     "text": [
      "Minimum of as \"new\" identified words: 13\n",
      "Maximum of as \"new\" identified words: 34\n"
     ]
    }
   ],
   "source": [
    "print(r'Minimum of as \"new\" identified words: '+str(B2.ID_alumno.value_counts().min()) + '\\n' +\n",
    "      r'Maximum of as \"new\" identified words: '+str(B2.ID_alumno.value_counts().max()))"
   ]
  },
  {
   "cell_type": "markdown",
   "metadata": {},
   "source": [
    "The average number of \"new\" words written down was 20.5, nearly 22 if we disregard IDs 37-39. Variation: 13 - 34."
   ]
  },
  {
   "cell_type": "code",
   "execution_count": 60,
   "metadata": {},
   "outputs": [
    {
     "data": {
      "image/png": "[encoded data removed]",
      "text/plain": [
       "<matplotlib.figure.Figure at 0xdf0bda0>"
      ]
     },
     "metadata": {},
     "output_type": "display_data"
    }
   ],
   "source": [
    "B2_1.ID_alumno.value_counts().plot(kind = 'bar');"
   ]
  },
  {
   "cell_type": "markdown",
   "metadata": {},
   "source": [
    "##### Histogram"
   ]
  },
  {
   "cell_type": "code",
   "execution_count": 61,
   "metadata": {},
   "outputs": [
    {
     "data": {
      "text/plain": [
       "31    13\n",
       "32    30\n",
       "33    16\n",
       "34    34\n",
       "35    23\n",
       "36    27\n",
       "37    13\n",
       "38    20\n",
       "39    16\n",
       "40    15\n",
       "41    16\n",
       "42    20\n",
       "43    24\n",
       "Name: ID_alumno, dtype: int64"
      ]
     },
     "execution_count": 61,
     "metadata": {},
     "output_type": "execute_result"
    }
   ],
   "source": [
    "B2.ID_alumno.value_counts().sort_index()"
   ]
  },
  {
   "cell_type": "code",
   "execution_count": 62,
   "metadata": {},
   "outputs": [
    {
     "data": {
      "image/png": "[encoded data removed]",
      "text/plain": [
       "<matplotlib.figure.Figure at 0xdf110f0>"
      ]
     },
     "metadata": {},
     "output_type": "display_data"
    }
   ],
   "source": [
    "B2.ID_alumno.value_counts().plot(kind = 'hist',\n",
    "                                bins = 10);"
   ]
  },
  {
   "cell_type": "markdown",
   "metadata": {},
   "source": [
    "#### Use of vocabulary determination strategies (B2)"
   ]
  },
  {
   "cell_type": "markdown",
   "metadata": {},
   "source": [
    "Categories of strategies (see comments on group A2):\n",
    "\n",
    "* L1 = Descubro el significado o la función de palabras nuevas en alemán gracias a mi lengua materna. (I identify the meaning or function of an unknown german word with the help of my mother tongue.)\n",
    "* LE = Descubro el significado o la función de palabras nuevas en alemán con la ayuda de otras lenguas. (I identify the meaning or function of an unknown german word with the help of other languages.)\n",
    "* AL = Utilizo mis conocimientos de alemán, p. ej. otras palabras conocidas, clases de palabras o la formación de palabras compuestas. (I use my knowlege about German, e. g. other known words, word classes or rules for compound words.)\n",
    "* Con = Utilizo información extraída del contexto, p. ej. la posición de una palabra en la frase o el formato del texto. (I use context information, e. g. position of a word in a sentence or the text design.)\n",
    "* Prof = Pido ayuda a mi profesor/a. (I ask my teacher for help.)\n",
    "* Co = Pido ayuda a mis compañeros/as de clase. (I ask my classmates for help.)\n",
    "* Dicc = Consulto un diccionario u otra fuente (en papel o digital). (I consult a dictionary or another source (printed or digital version).)"
   ]
  },
  {
   "cell_type": "code",
   "execution_count": 63,
   "metadata": {},
   "outputs": [
    {
     "data": {
      "text/plain": [
       "Dicc    116\n",
       "AL       53\n",
       "Con      45\n",
       "Co       14\n",
       "Prof      3\n",
       "L1        3\n",
       "LE        1\n",
       "Name: Estrategia_1, dtype: int64"
      ]
     },
     "execution_count": 63,
     "metadata": {},
     "output_type": "execute_result"
    }
   ],
   "source": [
    "B2.Estrategia_1.value_counts()"
   ]
  },
  {
   "cell_type": "code",
   "execution_count": 64,
   "metadata": {},
   "outputs": [
    {
     "data": {
      "text/plain": [
       "AL      10\n",
       "Dicc     9\n",
       "Con      7\n",
       "Co       1\n",
       "L1       1\n",
       "Name: Estrategia_2, dtype: int64"
      ]
     },
     "execution_count": 64,
     "metadata": {},
     "output_type": "execute_result"
    }
   ],
   "source": [
    "B2.Estrategia_2.value_counts()"
   ]
  },
  {
   "cell_type": "code",
   "execution_count": 65,
   "metadata": {},
   "outputs": [],
   "source": [
    "w1 = B2.Estrategia_1.value_counts()\n",
    "w2 = B2.Estrategia_2.value_counts()\n",
    "w = w1 + w2\n",
    "w['LE'] = w1['LE']\n",
    "w['Prof'] = w1['Prof']"
   ]
  },
  {
   "cell_type": "code",
   "execution_count": 66,
   "metadata": {},
   "outputs": [
    {
     "data": {
      "text/plain": [
       "Dicc    125.0\n",
       "AL       63.0\n",
       "Con      52.0\n",
       "Co       15.0\n",
       "L1        4.0\n",
       "Prof      3.0\n",
       "LE        1.0\n",
       "dtype: float64"
      ]
     },
     "execution_count": 66,
     "metadata": {},
     "output_type": "execute_result"
    }
   ],
   "source": [
    "w.sort_values(ascending = False)"
   ]
  },
  {
   "cell_type": "code",
   "execution_count": 67,
   "metadata": {},
   "outputs": [
    {
     "data": {
      "image/png": "[encoded data removed]",
      "text/plain": [
       "<matplotlib.figure.Figure at 0xdcfc630>"
      ]
     },
     "metadata": {},
     "output_type": "display_data"
    }
   ],
   "source": [
    "w.sort_values(ascending = False).plot(kind = 'bar', \n",
    "                                      #title = 'B2 - Eingesetzte Strategien (eigene Angaben)',\n",
    "                                     figsize = (10,6));"
   ]
  },
  {
   "cell_type": "code",
   "execution_count": 68,
   "metadata": {},
   "outputs": [
    {
     "data": {
      "image/png": "[encoded data removed]",
      "text/plain": [
       "<matplotlib.figure.Figure at 0xcea58d0>"
      ]
     },
     "metadata": {},
     "output_type": "display_data"
    }
   ],
   "source": [
    "ax1 = w.sort_values(ascending = False).plot(kind = 'pie',\n",
    "                                           #title = 'B2 - Eingesetzte Strategien (eigene Angaben)',\n",
    "                                           figsize = (10,10),\n",
    "                                           autopct='%.1f', startangle = -20)\n",
    "\n",
    "ax1.set_ylabel(\"\");"
   ]
  },
  {
   "cell_type": "markdown",
   "metadata": {},
   "source": [
    "#### Crosstab students - strategy use (B2)"
   ]
  },
  {
   "cell_type": "code",
   "execution_count": 69,
   "metadata": {},
   "outputs": [],
   "source": [
    "CTB2 = pd.crosstab(B2.ID_alumno, B2.Estrategia_1, margins = True)\n",
    "CTB2_2 = pd.crosstab(B2.ID_alumno, B2.Estrategia_2, margins = True)"
   ]
  },
  {
   "cell_type": "code",
   "execution_count": 70,
   "metadata": {},
   "outputs": [],
   "source": [
    "for val in CTB2_2.index:\n",
    "    for col in CTB2_2.columns:\n",
    "        if CTB2_2.loc[val,col]!=0:\n",
    "            CTB2.loc[val,col] = CTB2.loc[val,col]+ CTB2_2.loc[val,col]"
   ]
  },
  {
   "cell_type": "code",
   "execution_count": 71,
   "metadata": {},
   "outputs": [
    {
     "data": {
      "text/html": [
       "<div>\n",
       "<style>\n",
       "    .dataframe thead tr:only-child th {\n",
       "        text-align: right;\n",
       "    }\n",
       "\n",
       "    .dataframe thead th {\n",
       "        text-align: left;\n",
       "    }\n",
       "\n",
       "    .dataframe tbody tr th {\n",
       "        vertical-align: top;\n",
       "    }\n",
       "</style>\n",
       "<table border=\"1\" class=\"dataframe\">\n",
       "  <thead>\n",
       "    <tr style=\"text-align: right;\">\n",
       "      <th>Estrategia_1</th>\n",
       "      <th>AL</th>\n",
       "      <th>Co</th>\n",
       "      <th>Con</th>\n",
       "      <th>Dicc</th>\n",
       "      <th>L1</th>\n",
       "      <th>LE</th>\n",
       "      <th>Prof</th>\n",
       "      <th>All</th>\n",
       "    </tr>\n",
       "    <tr>\n",
       "      <th>ID_alumno</th>\n",
       "      <th></th>\n",
       "      <th></th>\n",
       "      <th></th>\n",
       "      <th></th>\n",
       "      <th></th>\n",
       "      <th></th>\n",
       "      <th></th>\n",
       "      <th></th>\n",
       "    </tr>\n",
       "  </thead>\n",
       "  <tbody>\n",
       "    <tr>\n",
       "      <th>31</th>\n",
       "      <td>4</td>\n",
       "      <td>2</td>\n",
       "      <td>7</td>\n",
       "      <td>5</td>\n",
       "      <td>2</td>\n",
       "      <td>0</td>\n",
       "      <td>0</td>\n",
       "      <td>20</td>\n",
       "    </tr>\n",
       "    <tr>\n",
       "      <th>32</th>\n",
       "      <td>7</td>\n",
       "      <td>0</td>\n",
       "      <td>12</td>\n",
       "      <td>12</td>\n",
       "      <td>0</td>\n",
       "      <td>0</td>\n",
       "      <td>1</td>\n",
       "      <td>32</td>\n",
       "    </tr>\n",
       "    <tr>\n",
       "      <th>33</th>\n",
       "      <td>1</td>\n",
       "      <td>1</td>\n",
       "      <td>2</td>\n",
       "      <td>11</td>\n",
       "      <td>0</td>\n",
       "      <td>1</td>\n",
       "      <td>0</td>\n",
       "      <td>16</td>\n",
       "    </tr>\n",
       "    <tr>\n",
       "      <th>34</th>\n",
       "      <td>8</td>\n",
       "      <td>5</td>\n",
       "      <td>9</td>\n",
       "      <td>19</td>\n",
       "      <td>0</td>\n",
       "      <td>0</td>\n",
       "      <td>0</td>\n",
       "      <td>41</td>\n",
       "    </tr>\n",
       "    <tr>\n",
       "      <th>35</th>\n",
       "      <td>4</td>\n",
       "      <td>3</td>\n",
       "      <td>1</td>\n",
       "      <td>16</td>\n",
       "      <td>0</td>\n",
       "      <td>0</td>\n",
       "      <td>0</td>\n",
       "      <td>24</td>\n",
       "    </tr>\n",
       "    <tr>\n",
       "      <th>36</th>\n",
       "      <td>4</td>\n",
       "      <td>0</td>\n",
       "      <td>1</td>\n",
       "      <td>13</td>\n",
       "      <td>0</td>\n",
       "      <td>0</td>\n",
       "      <td>1</td>\n",
       "      <td>19</td>\n",
       "    </tr>\n",
       "    <tr>\n",
       "      <th>37</th>\n",
       "      <td>2</td>\n",
       "      <td>0</td>\n",
       "      <td>0</td>\n",
       "      <td>7</td>\n",
       "      <td>0</td>\n",
       "      <td>0</td>\n",
       "      <td>0</td>\n",
       "      <td>9</td>\n",
       "    </tr>\n",
       "    <tr>\n",
       "      <th>38</th>\n",
       "      <td>4</td>\n",
       "      <td>0</td>\n",
       "      <td>5</td>\n",
       "      <td>0</td>\n",
       "      <td>0</td>\n",
       "      <td>0</td>\n",
       "      <td>0</td>\n",
       "      <td>9</td>\n",
       "    </tr>\n",
       "    <tr>\n",
       "      <th>39</th>\n",
       "      <td>3</td>\n",
       "      <td>0</td>\n",
       "      <td>1</td>\n",
       "      <td>2</td>\n",
       "      <td>1</td>\n",
       "      <td>0</td>\n",
       "      <td>0</td>\n",
       "      <td>7</td>\n",
       "    </tr>\n",
       "    <tr>\n",
       "      <th>40</th>\n",
       "      <td>5</td>\n",
       "      <td>0</td>\n",
       "      <td>0</td>\n",
       "      <td>9</td>\n",
       "      <td>1</td>\n",
       "      <td>0</td>\n",
       "      <td>1</td>\n",
       "      <td>16</td>\n",
       "    </tr>\n",
       "    <tr>\n",
       "      <th>41</th>\n",
       "      <td>3</td>\n",
       "      <td>0</td>\n",
       "      <td>11</td>\n",
       "      <td>6</td>\n",
       "      <td>0</td>\n",
       "      <td>0</td>\n",
       "      <td>0</td>\n",
       "      <td>20</td>\n",
       "    </tr>\n",
       "    <tr>\n",
       "      <th>42</th>\n",
       "      <td>9</td>\n",
       "      <td>2</td>\n",
       "      <td>0</td>\n",
       "      <td>13</td>\n",
       "      <td>0</td>\n",
       "      <td>0</td>\n",
       "      <td>0</td>\n",
       "      <td>24</td>\n",
       "    </tr>\n",
       "    <tr>\n",
       "      <th>43</th>\n",
       "      <td>9</td>\n",
       "      <td>2</td>\n",
       "      <td>3</td>\n",
       "      <td>12</td>\n",
       "      <td>0</td>\n",
       "      <td>0</td>\n",
       "      <td>0</td>\n",
       "      <td>26</td>\n",
       "    </tr>\n",
       "    <tr>\n",
       "      <th>All</th>\n",
       "      <td>63</td>\n",
       "      <td>15</td>\n",
       "      <td>52</td>\n",
       "      <td>125</td>\n",
       "      <td>4</td>\n",
       "      <td>1</td>\n",
       "      <td>3</td>\n",
       "      <td>263</td>\n",
       "    </tr>\n",
       "  </tbody>\n",
       "</table>\n",
       "</div>"
      ],
      "text/plain": [
       "Estrategia_1  AL  Co  Con  Dicc  L1  LE  Prof  All\n",
       "ID_alumno                                         \n",
       "31             4   2    7     5   2   0     0   20\n",
       "32             7   0   12    12   0   0     1   32\n",
       "33             1   1    2    11   0   1     0   16\n",
       "34             8   5    9    19   0   0     0   41\n",
       "35             4   3    1    16   0   0     0   24\n",
       "36             4   0    1    13   0   0     1   19\n",
       "37             2   0    0     7   0   0     0    9\n",
       "38             4   0    5     0   0   0     0    9\n",
       "39             3   0    1     2   1   0     0    7\n",
       "40             5   0    0     9   1   0     1   16\n",
       "41             3   0   11     6   0   0     0   20\n",
       "42             9   2    0    13   0   0     0   24\n",
       "43             9   2    3    12   0   0     0   26\n",
       "All           63  15   52   125   4   1     3  263"
      ]
     },
     "execution_count": 71,
     "metadata": {},
     "output_type": "execute_result"
    }
   ],
   "source": [
    "CTB2"
   ]
  },
  {
   "cell_type": "markdown",
   "metadata": {},
   "source": [
    "#### Correspondence analysis and biplot students - strategy use (B2)"
   ]
  },
  {
   "cell_type": "code",
   "execution_count": 72,
   "metadata": {},
   "outputs": [],
   "source": [
    "Biplot_B2L = biplot.Classic(CTB2.values[:-1,:-1], 7, method = 1)"
   ]
  },
  {
   "cell_type": "code",
   "execution_count": 73,
   "metadata": {},
   "outputs": [],
   "source": [
    "R = Biplot_B2L.RowCoord\n",
    "C = Biplot_B2L.ColCoord\n",
    "cr = Biplot_B2L.RowCont\n",
    "cc = Biplot_B2L.ColCont"
   ]
  },
  {
   "cell_type": "markdown",
   "metadata": {},
   "source": [
    "##### Quality of the representation of the elements and variables on the axes of the biplot"
   ]
  },
  {
   "cell_type": "code",
   "execution_count": 74,
   "metadata": {},
   "outputs": [
    {
     "data": {
      "text/html": [
       "<div>\n",
       "<style>\n",
       "    .dataframe thead tr:only-child th {\n",
       "        text-align: right;\n",
       "    }\n",
       "\n",
       "    .dataframe thead th {\n",
       "        text-align: left;\n",
       "    }\n",
       "\n",
       "    .dataframe tbody tr th {\n",
       "        vertical-align: top;\n",
       "    }\n",
       "</style>\n",
       "<table border=\"1\" class=\"dataframe\">\n",
       "  <thead>\n",
       "    <tr style=\"text-align: right;\">\n",
       "      <th></th>\n",
       "      <th>Axis_1</th>\n",
       "      <th>Axis_2</th>\n",
       "      <th>Axis_3</th>\n",
       "      <th>Axis_4</th>\n",
       "      <th>Axis_5</th>\n",
       "      <th>Axis_6</th>\n",
       "      <th>Axis_7</th>\n",
       "    </tr>\n",
       "    <tr>\n",
       "      <th>ID_alumno</th>\n",
       "      <th></th>\n",
       "      <th></th>\n",
       "      <th></th>\n",
       "      <th></th>\n",
       "      <th></th>\n",
       "      <th></th>\n",
       "      <th></th>\n",
       "    </tr>\n",
       "  </thead>\n",
       "  <tbody>\n",
       "    <tr>\n",
       "      <th>31</th>\n",
       "      <td>8.968198</td>\n",
       "      <td>5.489462</td>\n",
       "      <td>60.470256</td>\n",
       "      <td>0.109073</td>\n",
       "      <td>24.900864</td>\n",
       "      <td>0.003126</td>\n",
       "      <td>0.059021</td>\n",
       "    </tr>\n",
       "    <tr>\n",
       "      <th>32</th>\n",
       "      <td>5.610648</td>\n",
       "      <td>40.074366</td>\n",
       "      <td>22.383349</td>\n",
       "      <td>27.876098</td>\n",
       "      <td>2.904750</td>\n",
       "      <td>1.057388</td>\n",
       "      <td>0.093402</td>\n",
       "    </tr>\n",
       "    <tr>\n",
       "      <th>33</th>\n",
       "      <td>8.364033</td>\n",
       "      <td>71.427200</td>\n",
       "      <td>7.142251</td>\n",
       "      <td>2.806743</td>\n",
       "      <td>8.294630</td>\n",
       "      <td>1.964749</td>\n",
       "      <td>0.000394</td>\n",
       "    </tr>\n",
       "    <tr>\n",
       "      <th>34</th>\n",
       "      <td>87.687508</td>\n",
       "      <td>1.067894</td>\n",
       "      <td>5.049525</td>\n",
       "      <td>2.546664</td>\n",
       "      <td>1.983516</td>\n",
       "      <td>1.211331</td>\n",
       "      <td>0.453563</td>\n",
       "    </tr>\n",
       "    <tr>\n",
       "      <th>35</th>\n",
       "      <td>36.788197</td>\n",
       "      <td>24.089213</td>\n",
       "      <td>0.206386</td>\n",
       "      <td>12.565437</td>\n",
       "      <td>0.481460</td>\n",
       "      <td>25.868408</td>\n",
       "      <td>0.000900</td>\n",
       "    </tr>\n",
       "    <tr>\n",
       "      <th>36</th>\n",
       "      <td>0.936664</td>\n",
       "      <td>10.224015</td>\n",
       "      <td>74.108344</td>\n",
       "      <td>8.411288</td>\n",
       "      <td>0.655552</td>\n",
       "      <td>5.588929</td>\n",
       "      <td>0.075209</td>\n",
       "    </tr>\n",
       "    <tr>\n",
       "      <th>37</th>\n",
       "      <td>42.035796</td>\n",
       "      <td>9.264822</td>\n",
       "      <td>1.030248</td>\n",
       "      <td>5.133748</td>\n",
       "      <td>30.358012</td>\n",
       "      <td>11.472540</td>\n",
       "      <td>0.704836</td>\n",
       "    </tr>\n",
       "    <tr>\n",
       "      <th>38</th>\n",
       "      <td>40.617060</td>\n",
       "      <td>0.948597</td>\n",
       "      <td>4.566652</td>\n",
       "      <td>10.291191</td>\n",
       "      <td>35.935723</td>\n",
       "      <td>2.303104</td>\n",
       "      <td>5.337673</td>\n",
       "    </tr>\n",
       "    <tr>\n",
       "      <th>39</th>\n",
       "      <td>71.361940</td>\n",
       "      <td>0.663486</td>\n",
       "      <td>18.915359</td>\n",
       "      <td>7.805057</td>\n",
       "      <td>1.098655</td>\n",
       "      <td>0.136059</td>\n",
       "      <td>0.019443</td>\n",
       "    </tr>\n",
       "    <tr>\n",
       "      <th>40</th>\n",
       "      <td>13.460701</td>\n",
       "      <td>29.090764</td>\n",
       "      <td>13.411917</td>\n",
       "      <td>28.809916</td>\n",
       "      <td>14.655017</td>\n",
       "      <td>0.367296</td>\n",
       "      <td>0.204389</td>\n",
       "    </tr>\n",
       "    <tr>\n",
       "      <th>41</th>\n",
       "      <td>10.758793</td>\n",
       "      <td>1.877565</td>\n",
       "      <td>2.266509</td>\n",
       "      <td>72.595199</td>\n",
       "      <td>7.831117</td>\n",
       "      <td>3.248192</td>\n",
       "      <td>1.422626</td>\n",
       "    </tr>\n",
       "    <tr>\n",
       "      <th>42</th>\n",
       "      <td>50.052699</td>\n",
       "      <td>0.696257</td>\n",
       "      <td>0.159332</td>\n",
       "      <td>23.239639</td>\n",
       "      <td>12.239435</td>\n",
       "      <td>12.969171</td>\n",
       "      <td>0.643467</td>\n",
       "    </tr>\n",
       "    <tr>\n",
       "      <th>43</th>\n",
       "      <td>63.715630</td>\n",
       "      <td>0.045273</td>\n",
       "      <td>1.864803</td>\n",
       "      <td>4.234820</td>\n",
       "      <td>12.132866</td>\n",
       "      <td>17.648162</td>\n",
       "      <td>0.358446</td>\n",
       "    </tr>\n",
       "  </tbody>\n",
       "</table>\n",
       "</div>"
      ],
      "text/plain": [
       "              Axis_1     Axis_2     Axis_3     Axis_4     Axis_5     Axis_6  \\\n",
       "ID_alumno                                                                     \n",
       "31          8.968198   5.489462  60.470256   0.109073  24.900864   0.003126   \n",
       "32          5.610648  40.074366  22.383349  27.876098   2.904750   1.057388   \n",
       "33          8.364033  71.427200   7.142251   2.806743   8.294630   1.964749   \n",
       "34         87.687508   1.067894   5.049525   2.546664   1.983516   1.211331   \n",
       "35         36.788197  24.089213   0.206386  12.565437   0.481460  25.868408   \n",
       "36          0.936664  10.224015  74.108344   8.411288   0.655552   5.588929   \n",
       "37         42.035796   9.264822   1.030248   5.133748  30.358012  11.472540   \n",
       "38         40.617060   0.948597   4.566652  10.291191  35.935723   2.303104   \n",
       "39         71.361940   0.663486  18.915359   7.805057   1.098655   0.136059   \n",
       "40         13.460701  29.090764  13.411917  28.809916  14.655017   0.367296   \n",
       "41         10.758793   1.877565   2.266509  72.595199   7.831117   3.248192   \n",
       "42         50.052699   0.696257   0.159332  23.239639  12.239435  12.969171   \n",
       "43         63.715630   0.045273   1.864803   4.234820  12.132866  17.648162   \n",
       "\n",
       "             Axis_7  \n",
       "ID_alumno            \n",
       "31         0.059021  \n",
       "32         0.093402  \n",
       "33         0.000394  \n",
       "34         0.453563  \n",
       "35         0.000900  \n",
       "36         0.075209  \n",
       "37         0.704836  \n",
       "38         5.337673  \n",
       "39         0.019443  \n",
       "40         0.204389  \n",
       "41         1.422626  \n",
       "42         0.643467  \n",
       "43         0.358446  "
      ]
     },
     "execution_count": 74,
     "metadata": {},
     "output_type": "execute_result"
    }
   ],
   "source": [
    "pd.DataFrame(cr, columns = ['Axis_'+str(el+1) for el in range(7)], index = CTB2.index[:-1])"
   ]
  },
  {
   "cell_type": "code",
   "execution_count": 75,
   "metadata": {},
   "outputs": [
    {
     "data": {
      "text/html": [
       "<div>\n",
       "<style>\n",
       "    .dataframe thead tr:only-child th {\n",
       "        text-align: right;\n",
       "    }\n",
       "\n",
       "    .dataframe thead th {\n",
       "        text-align: left;\n",
       "    }\n",
       "\n",
       "    .dataframe tbody tr th {\n",
       "        vertical-align: top;\n",
       "    }\n",
       "</style>\n",
       "<table border=\"1\" class=\"dataframe\">\n",
       "  <thead>\n",
       "    <tr style=\"text-align: right;\">\n",
       "      <th></th>\n",
       "      <th>Axis_1</th>\n",
       "      <th>Axis_2</th>\n",
       "      <th>Axis_3</th>\n",
       "      <th>Axis_4</th>\n",
       "      <th>Axis_5</th>\n",
       "      <th>Axis_6</th>\n",
       "      <th>Axis_7</th>\n",
       "    </tr>\n",
       "    <tr>\n",
       "      <th>Estrategia_1</th>\n",
       "      <th></th>\n",
       "      <th></th>\n",
       "      <th></th>\n",
       "      <th></th>\n",
       "      <th></th>\n",
       "      <th></th>\n",
       "      <th></th>\n",
       "    </tr>\n",
       "  </thead>\n",
       "  <tbody>\n",
       "    <tr>\n",
       "      <th>AL</th>\n",
       "      <td>63.663589</td>\n",
       "      <td>15.101895</td>\n",
       "      <td>0.343060</td>\n",
       "      <td>1.701733</td>\n",
       "      <td>1.341139</td>\n",
       "      <td>17.835295</td>\n",
       "      <td>0.013289</td>\n",
       "    </tr>\n",
       "    <tr>\n",
       "      <th>Co</th>\n",
       "      <td>66.218798</td>\n",
       "      <td>8.748707</td>\n",
       "      <td>16.907600</td>\n",
       "      <td>0.914208</td>\n",
       "      <td>4.178644</td>\n",
       "      <td>1.531498</td>\n",
       "      <td>1.500545</td>\n",
       "    </tr>\n",
       "    <tr>\n",
       "      <th>Con</th>\n",
       "      <td>5.407192</td>\n",
       "      <td>11.416491</td>\n",
       "      <td>3.647164</td>\n",
       "      <td>76.352900</td>\n",
       "      <td>3.091078</td>\n",
       "      <td>0.063794</td>\n",
       "      <td>0.021381</td>\n",
       "    </tr>\n",
       "    <tr>\n",
       "      <th>Dicc</th>\n",
       "      <td>72.564988</td>\n",
       "      <td>3.497957</td>\n",
       "      <td>11.764290</td>\n",
       "      <td>1.363677</td>\n",
       "      <td>6.249765</td>\n",
       "      <td>3.197401</td>\n",
       "      <td>1.361921</td>\n",
       "    </tr>\n",
       "    <tr>\n",
       "      <th>L1</th>\n",
       "      <td>16.048446</td>\n",
       "      <td>9.990214</td>\n",
       "      <td>32.721725</td>\n",
       "      <td>8.373854</td>\n",
       "      <td>32.427984</td>\n",
       "      <td>0.212880</td>\n",
       "      <td>0.224897</td>\n",
       "    </tr>\n",
       "    <tr>\n",
       "      <th>LE</th>\n",
       "      <td>4.636349</td>\n",
       "      <td>61.866778</td>\n",
       "      <td>7.366720</td>\n",
       "      <td>3.819315</td>\n",
       "      <td>14.250857</td>\n",
       "      <td>8.046747</td>\n",
       "      <td>0.013235</td>\n",
       "    </tr>\n",
       "    <tr>\n",
       "      <th>Prof</th>\n",
       "      <td>0.274761</td>\n",
       "      <td>35.814461</td>\n",
       "      <td>50.220845</td>\n",
       "      <td>0.683840</td>\n",
       "      <td>12.284825</td>\n",
       "      <td>0.081589</td>\n",
       "      <td>0.639680</td>\n",
       "    </tr>\n",
       "  </tbody>\n",
       "</table>\n",
       "</div>"
      ],
      "text/plain": [
       "                 Axis_1     Axis_2     Axis_3     Axis_4     Axis_5  \\\n",
       "Estrategia_1                                                          \n",
       "AL            63.663589  15.101895   0.343060   1.701733   1.341139   \n",
       "Co            66.218798   8.748707  16.907600   0.914208   4.178644   \n",
       "Con            5.407192  11.416491   3.647164  76.352900   3.091078   \n",
       "Dicc          72.564988   3.497957  11.764290   1.363677   6.249765   \n",
       "L1            16.048446   9.990214  32.721725   8.373854  32.427984   \n",
       "LE             4.636349  61.866778   7.366720   3.819315  14.250857   \n",
       "Prof           0.274761  35.814461  50.220845   0.683840  12.284825   \n",
       "\n",
       "                 Axis_6    Axis_7  \n",
       "Estrategia_1                       \n",
       "AL            17.835295  0.013289  \n",
       "Co             1.531498  1.500545  \n",
       "Con            0.063794  0.021381  \n",
       "Dicc           3.197401  1.361921  \n",
       "L1             0.212880  0.224897  \n",
       "LE             8.046747  0.013235  \n",
       "Prof           0.081589  0.639680  "
      ]
     },
     "execution_count": 75,
     "metadata": {},
     "output_type": "execute_result"
    }
   ],
   "source": [
    "pd.DataFrame(cc, columns = ['Axis_'+str(el+1) for el in range(7)], index = CTB2.columns[:-1])"
   ]
  },
  {
   "cell_type": "markdown",
   "metadata": {},
   "source": [
    "#### Cluster analysis students - strategy use (B2)"
   ]
  },
  {
   "cell_type": "code",
   "execution_count": 76,
   "metadata": {},
   "outputs": [],
   "source": [
    "#kmeans = KMeans(n_clusters=5, random_state=0).fit(X)\n",
    "#ward = AgglomerativeClustering(n_clusters=5).fit(X)"
   ]
  },
  {
   "cell_type": "markdown",
   "metadata": {},
   "source": [
    "Tests have shown that the assumption of 5 groups gives the best results. However, it should be noted that the group B2 consists of only 13 participants and some elements and variables in the biplot can not be well represented (see dimensions/axes above)."
   ]
  },
  {
   "cell_type": "markdown",
   "metadata": {},
   "source": [
    "##### Visualization biplot + cluster"
   ]
  },
  {
   "cell_type": "code",
   "execution_count": 77,
   "metadata": {},
   "outputs": [
    {
     "data": {
      "image/png": "[encoded data removed]",
      "text/plain": [
       "<matplotlib.figure.Figure at 0xce50940>"
      ]
     },
     "metadata": {},
     "output_type": "display_data"
    }
   ],
   "source": [
    "graf_cplot(CTB2.iloc[:-1,:-1], 7, 5)"
   ]
  },
  {
   "cell_type": "markdown",
   "metadata": {},
   "source": [
    "#### Crosstab words - strategy use (B2)"
   ]
  },
  {
   "cell_type": "code",
   "execution_count": 78,
   "metadata": {},
   "outputs": [],
   "source": [
    "Pal_Es_B2 = pd.crosstab(B2.Palabra, B2.Estrategia_1, margins = True)\n",
    "Pal_Es_B2_2 = pd.crosstab(B2.Palabra, B2.Estrategia_2, margins = True)"
   ]
  },
  {
   "cell_type": "code",
   "execution_count": 79,
   "metadata": {},
   "outputs": [],
   "source": [
    "for val in Pal_Es_B2_2.index:\n",
    "    for col in Pal_Es_B2_2.columns:\n",
    "        if Pal_Es_B2_2.loc[val,col]!=0:\n",
    "            Pal_Es_B2.loc[val,col] = Pal_Es_B2.loc[val,col]+ Pal_Es_B2_2.loc[val,col]"
   ]
  },
  {
   "cell_type": "code",
   "execution_count": 80,
   "metadata": {},
   "outputs": [
    {
     "data": {
      "text/html": [
       "<div>\n",
       "<style>\n",
       "    .dataframe thead tr:only-child th {\n",
       "        text-align: right;\n",
       "    }\n",
       "\n",
       "    .dataframe thead th {\n",
       "        text-align: left;\n",
       "    }\n",
       "\n",
       "    .dataframe tbody tr th {\n",
       "        vertical-align: top;\n",
       "    }\n",
       "</style>\n",
       "<table border=\"1\" class=\"dataframe\">\n",
       "  <thead>\n",
       "    <tr style=\"text-align: right;\">\n",
       "      <th>Estrategia_1</th>\n",
       "      <th>AL</th>\n",
       "      <th>Co</th>\n",
       "      <th>Con</th>\n",
       "      <th>Dicc</th>\n",
       "      <th>L1</th>\n",
       "      <th>LE</th>\n",
       "      <th>Prof</th>\n",
       "      <th>All</th>\n",
       "    </tr>\n",
       "    <tr>\n",
       "      <th>Palabra</th>\n",
       "      <th></th>\n",
       "      <th></th>\n",
       "      <th></th>\n",
       "      <th></th>\n",
       "      <th></th>\n",
       "      <th></th>\n",
       "      <th></th>\n",
       "      <th></th>\n",
       "    </tr>\n",
       "  </thead>\n",
       "  <tbody>\n",
       "    <tr>\n",
       "      <th>All</th>\n",
       "      <td>63</td>\n",
       "      <td>15</td>\n",
       "      <td>52</td>\n",
       "      <td>125</td>\n",
       "      <td>4</td>\n",
       "      <td>1</td>\n",
       "      <td>3</td>\n",
       "      <td>263</td>\n",
       "    </tr>\n",
       "    <tr>\n",
       "      <th>Wohlstand</th>\n",
       "      <td>6</td>\n",
       "      <td>1</td>\n",
       "      <td>1</td>\n",
       "      <td>5</td>\n",
       "      <td>0</td>\n",
       "      <td>0</td>\n",
       "      <td>0</td>\n",
       "      <td>13</td>\n",
       "    </tr>\n",
       "    <tr>\n",
       "      <th>Hautaufhellung</th>\n",
       "      <td>8</td>\n",
       "      <td>2</td>\n",
       "      <td>3</td>\n",
       "      <td>0</td>\n",
       "      <td>0</td>\n",
       "      <td>0</td>\n",
       "      <td>0</td>\n",
       "      <td>13</td>\n",
       "    </tr>\n",
       "    <tr>\n",
       "      <th>Rundungen</th>\n",
       "      <td>2</td>\n",
       "      <td>0</td>\n",
       "      <td>2</td>\n",
       "      <td>5</td>\n",
       "      <td>3</td>\n",
       "      <td>0</td>\n",
       "      <td>0</td>\n",
       "      <td>12</td>\n",
       "    </tr>\n",
       "    <tr>\n",
       "      <th>Hautton</th>\n",
       "      <td>8</td>\n",
       "      <td>1</td>\n",
       "      <td>1</td>\n",
       "      <td>2</td>\n",
       "      <td>0</td>\n",
       "      <td>0</td>\n",
       "      <td>0</td>\n",
       "      <td>12</td>\n",
       "    </tr>\n",
       "  </tbody>\n",
       "</table>\n",
       "</div>"
      ],
      "text/plain": [
       "Estrategia_1    AL  Co  Con  Dicc  L1  LE  Prof  All\n",
       "Palabra                                             \n",
       "All             63  15   52   125   4   1     3  263\n",
       "Wohlstand        6   1    1     5   0   0     0   13\n",
       "Hautaufhellung   8   2    3     0   0   0     0   13\n",
       "Rundungen        2   0    2     5   3   0     0   12\n",
       "Hautton          8   1    1     2   0   0     0   12"
      ]
     },
     "execution_count": 80,
     "metadata": {},
     "output_type": "execute_result"
    }
   ],
   "source": [
    "Pal_Es_B2.sort_values(['All'], ascending=[0]).head()"
   ]
  },
  {
   "cell_type": "markdown",
   "metadata": {},
   "source": [
    "#### Correspondence analysis and biplot words - strategy use (B2)"
   ]
  },
  {
   "cell_type": "code",
   "execution_count": 81,
   "metadata": {},
   "outputs": [],
   "source": [
    "#Biplot_B2W = biplot.Classic(Pal_Es_A2.values[:-1,:-1], 7, method = 1)"
   ]
  },
  {
   "cell_type": "code",
   "execution_count": 82,
   "metadata": {},
   "outputs": [],
   "source": [
    "#R = Biplot_A2W.RowCoord\n",
    "#C = Biplot_A2W.ColCoord\n",
    "#cr = Biplot_A2W.RowCont\n",
    "#cc = Biplot_A2W.ColCont"
   ]
  },
  {
   "cell_type": "markdown",
   "metadata": {},
   "source": [
    "#### Cluster"
   ]
  },
  {
   "cell_type": "code",
   "execution_count": 83,
   "metadata": {},
   "outputs": [],
   "source": [
    "#kmeans = KMeans(n_clusters=5, random_state=0).fit(X)\n",
    "#ward = AgglomerativeClustering(n_clusters=5).fit(X)"
   ]
  },
  {
   "cell_type": "markdown",
   "metadata": {},
   "source": [
    "Eventually instead of 5 only 4 different groups can be distinguished."
   ]
  },
  {
   "cell_type": "markdown",
   "metadata": {},
   "source": [
    "##### Visualization biplot + cluster"
   ]
  },
  {
   "cell_type": "code",
   "execution_count": 84,
   "metadata": {},
   "outputs": [
    {
     "data": {
      "image/png": "[encoded data removed]",
      "text/plain": [
       "<matplotlib.figure.Figure at 0xce0acf8>"
      ]
     },
     "metadata": {},
     "output_type": "display_data"
    }
   ],
   "source": [
    "graf_cplot2(Pal_Es_B2.iloc[:-1,:-1],7, 5)"
   ]
  },
  {
   "cell_type": "code",
   "execution_count": null,
   "metadata": {},
   "outputs": [],
   "source": []
  }
 ],
 "metadata": {
  "kernelspec": {
   "display_name": "Python 3",
   "language": "python",
   "name": "python3"
  },
  "language_info": {
   "codemirror_mode": {
    "name": "ipython",
    "version": 3
   },
   "file_extension": ".py",
   "mimetype": "text/x-python",
   "name": "python",
   "nbconvert_exporter": "python",
   "pygments_lexer": "ipython3",
   "version": "3.6.3"
  }
 },
 "nbformat": 4,
 "nbformat_minor": 2
}
