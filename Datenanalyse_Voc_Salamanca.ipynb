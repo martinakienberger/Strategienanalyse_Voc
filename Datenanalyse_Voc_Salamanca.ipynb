{
 "cells": [
  {
   "cell_type": "markdown",
   "metadata": {},
   "source": [
    "# Analyse des Einsatzes von Erschließungsstrategien beim Lesen"
   ]
  },
  {
   "cell_type": "markdown",
   "metadata": {},
   "source": [
    "Am 9. 5. 2018 wurden an der Universität Salamanca in zwei DaF-Gruppen (A2, B1+) Daten zum wahrgenommenen Strategieneinsatz der Lernenden bei der Bearbeitung einer Aufgabe zum Lesen und Verstehen des neuen Wortschatzes erhoben.\n",
    "Die Studierenden wurden gebeten, beim Lesen eines Textes aus dem Lehrwerk zunächst alle für sie neuen Wörter zu markieren (unabhängig von deren Verständnis). Nach einem zweiten Lesedurchgang sollten sie diese in eine Liste eintragen und angeben, welche Strategien sie angewendet hätten, um deren Bedeutung zu erkennen. \n",
    "Ein Teil der Lernenden hatte zuvor (freiwillig) an der Befragung zum Thema Erschließungsstrategien für unbekannten Wortschatz im Deutschen durch Lernende an spanischen Universitäten teilgenommen (siehe: http://diarium.usal.es/martinakienberger/200-2/?lang=de). Für alle Studierenden wurde kurz das Thema erklärt und Beispiele für Strategien gegeben. "
   ]
  },
  {
   "cell_type": "markdown",
   "metadata": {},
   "source": [
    "### Vorbereitung - Datenreinigung"
   ]
  },
  {
   "cell_type": "code",
   "execution_count": 1,
   "metadata": {},
   "outputs": [
    {
     "name": "stdout",
     "output_type": "stream",
     "text": [
      "Populating the interactive namespace from numpy and matplotlib\n"
     ]
    }
   ],
   "source": [
    "import pandas as pd\n",
    "import numpy as np\n",
    "from biofes import biplot\n",
    "from sklearn.utils.extmath import randomized_svd\n",
    "from sklearn.cluster import KMeans, AgglomerativeClustering\n",
    "from adjustText import adjust_text\n",
    "% pylab inline"
   ]
  },
  {
   "cell_type": "code",
   "execution_count": 2,
   "metadata": {},
   "outputs": [],
   "source": [
    "Rohdaten = pd.read_excel('D:\\Daten\\DISS\\Daten\\Salamanca.xlsx')"
   ]
  },
  {
   "cell_type": "code",
   "execution_count": 3,
   "metadata": {},
   "outputs": [
    {
     "data": {
      "text/html": [
       "<div>\n",
       "<style>\n",
       "    .dataframe thead tr:only-child th {\n",
       "        text-align: right;\n",
       "    }\n",
       "\n",
       "    .dataframe thead th {\n",
       "        text-align: left;\n",
       "    }\n",
       "\n",
       "    .dataframe tbody tr th {\n",
       "        vertical-align: top;\n",
       "    }\n",
       "</style>\n",
       "<table border=\"1\" class=\"dataframe\">\n",
       "  <thead>\n",
       "    <tr style=\"text-align: right;\">\n",
       "      <th></th>\n",
       "      <th>Grupo</th>\n",
       "      <th>ID_alumno</th>\n",
       "      <th>Encuesta</th>\n",
       "      <th>Palabra</th>\n",
       "      <th>Estrategia_1</th>\n",
       "      <th>Estrategia_2</th>\n",
       "      <th>Estrategia_Esp_1</th>\n",
       "      <th>Estrategia_Esp_2</th>\n",
       "      <th>Comentario</th>\n",
       "    </tr>\n",
       "  </thead>\n",
       "  <tbody>\n",
       "    <tr>\n",
       "      <th>0</th>\n",
       "      <td>A2.1</td>\n",
       "      <td>1</td>\n",
       "      <td>1</td>\n",
       "      <td>wärmsten</td>\n",
       "      <td>Dicc</td>\n",
       "      <td>NaN</td>\n",
       "      <td>NaN</td>\n",
       "      <td>NaN</td>\n",
       "      <td>NaN</td>\n",
       "    </tr>\n",
       "    <tr>\n",
       "      <th>1</th>\n",
       "      <td>A2.1</td>\n",
       "      <td>1</td>\n",
       "      <td>1</td>\n",
       "      <td>Chefsekretärin</td>\n",
       "      <td>Dicc</td>\n",
       "      <td>Con</td>\n",
       "      <td>Trad</td>\n",
       "      <td>NaN</td>\n",
       "      <td>NaN</td>\n",
       "    </tr>\n",
       "    <tr>\n",
       "      <th>2</th>\n",
       "      <td>A2.1</td>\n",
       "      <td>1</td>\n",
       "      <td>1</td>\n",
       "      <td>Speditionsunternehmen</td>\n",
       "      <td>Dicc</td>\n",
       "      <td>Con</td>\n",
       "      <td>Trad</td>\n",
       "      <td>NaN</td>\n",
       "      <td>NaN</td>\n",
       "    </tr>\n",
       "  </tbody>\n",
       "</table>\n",
       "</div>"
      ],
      "text/plain": [
       "  Grupo  ID_alumno  Encuesta                Palabra Estrategia_1 Estrategia_2  \\\n",
       "0  A2.1          1         1               wärmsten         Dicc          NaN   \n",
       "1  A2.1          1         1         Chefsekretärin         Dicc          Con   \n",
       "2  A2.1          1         1  Speditionsunternehmen         Dicc          Con   \n",
       "\n",
       "  Estrategia_Esp_1 Estrategia_Esp_2 Comentario  \n",
       "0              NaN              NaN        NaN  \n",
       "1             Trad              NaN        NaN  \n",
       "2             Trad              NaN        NaN  "
      ]
     },
     "execution_count": 3,
     "metadata": {},
     "output_type": "execute_result"
    }
   ],
   "source": [
    "Rohdaten.head(3)"
   ]
  },
  {
   "cell_type": "code",
   "execution_count": 4,
   "metadata": {},
   "outputs": [],
   "source": [
    "Daten = Rohdaten"
   ]
  },
  {
   "cell_type": "markdown",
   "metadata": {},
   "source": [
    "In den beiden Gruppen aus Salamanca mussten keine Teilnehmer von der Analyse ausgeschlossen werden."
   ]
  },
  {
   "cell_type": "markdown",
   "metadata": {},
   "source": [
    "#### Auswahl der für die Analyse relevanten Teile der Erhebung"
   ]
  },
  {
   "cell_type": "code",
   "execution_count": 5,
   "metadata": {},
   "outputs": [],
   "source": [
    "cols = ['Grupo','ID_alumno','Encuesta','Palabra','Estrategia_1','Estrategia_2']"
   ]
  },
  {
   "cell_type": "code",
   "execution_count": 6,
   "metadata": {},
   "outputs": [],
   "source": [
    "data = Daten[cols]"
   ]
  },
  {
   "cell_type": "code",
   "execution_count": 7,
   "metadata": {},
   "outputs": [
    {
     "data": {
      "text/plain": [
       "Grupo                            A2.1\n",
       "ID_alumno                           1\n",
       "Encuesta                            1\n",
       "Palabra         Speditionsunternehmen\n",
       "Estrategia_1                     Dicc\n",
       "Estrategia_2                      Con\n",
       "Name: 2, dtype: object"
      ]
     },
     "execution_count": 7,
     "metadata": {},
     "output_type": "execute_result"
    }
   ],
   "source": [
    "data.loc[2]"
   ]
  },
  {
   "cell_type": "markdown",
   "metadata": {},
   "source": [
    "(Weitere in der Excel-Tabelle erfasste Informationen dienten einerseits zur Entscheidung für Aufnahme in oder Ausschluss aus der Analyse und können andererseits für spätere, detaillierte Analysen herangezogen werden.)"
   ]
  },
  {
   "cell_type": "markdown",
   "metadata": {},
   "source": [
    "## Analyse des Strategieneinsatzes"
   ]
  },
  {
   "cell_type": "markdown",
   "metadata": {},
   "source": [
    "##### Unterteilung der beiden Gruppen"
   ]
  },
  {
   "cell_type": "code",
   "execution_count": 8,
   "metadata": {},
   "outputs": [],
   "source": [
    "A2 = data[data.Grupo == 'A2.1']"
   ]
  },
  {
   "cell_type": "code",
   "execution_count": 9,
   "metadata": {},
   "outputs": [],
   "source": [
    "B1 = data[data.Grupo == 'B1.2']"
   ]
  },
  {
   "cell_type": "markdown",
   "metadata": {},
   "source": [
    "### Gruppe A2"
   ]
  },
  {
   "cell_type": "code",
   "execution_count": 10,
   "metadata": {},
   "outputs": [
    {
     "name": "stdout",
     "output_type": "stream",
     "text": [
      "Teilnehmer: 23\n",
      "TN + Online-Befragung: 4\n",
      "TN - Online-Befragung: 13\n",
      "TN ? Online-Befragung: 6\n"
     ]
    }
   ],
   "source": [
    "print(r'Teilnehmer: ' + str(len(A2.ID_alumno.unique()))+'\\n'+\n",
    "      r'TN + Online-Befragung: ' + str(len(A2[A2.Encuesta == 1].ID_alumno.unique()))+'\\n'+\n",
    "      r'TN - Online-Befragung: ' + str(len(A2[A2.Encuesta == 2].ID_alumno.unique()))+'\\n'+\n",
    "      r'TN ? Online-Befragung: ' + str(len(A2[A2.Encuesta == 0].ID_alumno.unique())))"
   ]
  },
  {
   "cell_type": "markdown",
   "metadata": {},
   "source": [
    "Die Gruppe besteht aus 23 Teilnehmern. 4 hatten an der Online-Befragung teilgenommen, 13 nicht, 6 hatten keine Angabe dazu gemacht."
   ]
  },
  {
   "cell_type": "markdown",
   "metadata": {},
   "source": [
    "#### Als \"neu\" identifizierte Wörter (A2)"
   ]
  },
  {
   "cell_type": "code",
   "execution_count": 11,
   "metadata": {},
   "outputs": [
    {
     "data": {
      "text/plain": [
       "68"
      ]
     },
     "execution_count": 11,
     "metadata": {},
     "output_type": "execute_result"
    }
   ],
   "source": [
    "len(A2.Palabra.unique())"
   ]
  },
  {
   "cell_type": "markdown",
   "metadata": {},
   "source": [
    "68 unterschiedliche Wörter wurden von den Lernenden als für sie \"neu\" angegeben. Bei der Datenübertragung von den Aufgabenblättern in Excel wurden orthographische Fehler berichtigt. Die Wörter wurden in der jeweiligen Schreibung des Originaltextes aus dem Lehrbuch übernommen (auch wenn die Lernenden teilweise stattdessen eine andere Form, z.B. Infinitiv, angegeben hatten)."
   ]
  },
  {
   "cell_type": "code",
   "execution_count": 12,
   "metadata": {},
   "outputs": [
    {
     "data": {
      "image/png": "[encoded data removed]",
      "text/plain": [
       "<matplotlib.figure.Figure at 0xc65ecf8>"
      ]
     },
     "metadata": {},
     "output_type": "display_data"
    }
   ],
   "source": [
    "#A2.Palabra.value_counts().plot(kind = 'bar', figsize = (15,5))\n",
    "A2.Palabra.value_counts(ascending = True).plot(kind = 'barh', figsize = (6,15));"
   ]
  },
  {
   "cell_type": "markdown",
   "metadata": {},
   "source": [
    "#### Kreuztabelle Studenten - neue Wörter (A2)"
   ]
  },
  {
   "cell_type": "code",
   "execution_count": 13,
   "metadata": {},
   "outputs": [],
   "source": [
    "Al_Pal_A2 = pd.crosstab(A2.ID_alumno, A2.Palabra, margins = True)"
   ]
  },
  {
   "cell_type": "code",
   "execution_count": 14,
   "metadata": {},
   "outputs": [
    {
     "data": {
      "text/html": [
       "<div>\n",
       "<style>\n",
       "    .dataframe thead tr:only-child th {\n",
       "        text-align: right;\n",
       "    }\n",
       "\n",
       "    .dataframe thead th {\n",
       "        text-align: left;\n",
       "    }\n",
       "\n",
       "    .dataframe tbody tr th {\n",
       "        vertical-align: top;\n",
       "    }\n",
       "</style>\n",
       "<table border=\"1\" class=\"dataframe\">\n",
       "  <thead>\n",
       "    <tr style=\"text-align: right;\">\n",
       "      <th>ID_alumno</th>\n",
       "      <th>1</th>\n",
       "      <th>2</th>\n",
       "      <th>3</th>\n",
       "      <th>4</th>\n",
       "      <th>5</th>\n",
       "      <th>6</th>\n",
       "      <th>7</th>\n",
       "      <th>8</th>\n",
       "      <th>9</th>\n",
       "      <th>10</th>\n",
       "      <th>...</th>\n",
       "      <th>15</th>\n",
       "      <th>16</th>\n",
       "      <th>17</th>\n",
       "      <th>18</th>\n",
       "      <th>19</th>\n",
       "      <th>20</th>\n",
       "      <th>21</th>\n",
       "      <th>22</th>\n",
       "      <th>23</th>\n",
       "      <th>All</th>\n",
       "    </tr>\n",
       "    <tr>\n",
       "      <th>Palabra</th>\n",
       "      <th></th>\n",
       "      <th></th>\n",
       "      <th></th>\n",
       "      <th></th>\n",
       "      <th></th>\n",
       "      <th></th>\n",
       "      <th></th>\n",
       "      <th></th>\n",
       "      <th></th>\n",
       "      <th></th>\n",
       "      <th></th>\n",
       "      <th></th>\n",
       "      <th></th>\n",
       "      <th></th>\n",
       "      <th></th>\n",
       "      <th></th>\n",
       "      <th></th>\n",
       "      <th></th>\n",
       "      <th></th>\n",
       "      <th></th>\n",
       "      <th></th>\n",
       "    </tr>\n",
       "  </thead>\n",
       "  <tbody>\n",
       "    <tr>\n",
       "      <th>Angst</th>\n",
       "      <td>0</td>\n",
       "      <td>1</td>\n",
       "      <td>1</td>\n",
       "      <td>0</td>\n",
       "      <td>0</td>\n",
       "      <td>1</td>\n",
       "      <td>0</td>\n",
       "      <td>0</td>\n",
       "      <td>0</td>\n",
       "      <td>0</td>\n",
       "      <td>...</td>\n",
       "      <td>1</td>\n",
       "      <td>0</td>\n",
       "      <td>1</td>\n",
       "      <td>1</td>\n",
       "      <td>0</td>\n",
       "      <td>1</td>\n",
       "      <td>0</td>\n",
       "      <td>0</td>\n",
       "      <td>0</td>\n",
       "      <td>7</td>\n",
       "    </tr>\n",
       "    <tr>\n",
       "      <th>Besonderes</th>\n",
       "      <td>0</td>\n",
       "      <td>1</td>\n",
       "      <td>0</td>\n",
       "      <td>0</td>\n",
       "      <td>1</td>\n",
       "      <td>1</td>\n",
       "      <td>0</td>\n",
       "      <td>0</td>\n",
       "      <td>0</td>\n",
       "      <td>0</td>\n",
       "      <td>...</td>\n",
       "      <td>1</td>\n",
       "      <td>1</td>\n",
       "      <td>1</td>\n",
       "      <td>0</td>\n",
       "      <td>1</td>\n",
       "      <td>1</td>\n",
       "      <td>0</td>\n",
       "      <td>0</td>\n",
       "      <td>0</td>\n",
       "      <td>9</td>\n",
       "    </tr>\n",
       "    <tr>\n",
       "      <th>Besonders</th>\n",
       "      <td>0</td>\n",
       "      <td>0</td>\n",
       "      <td>0</td>\n",
       "      <td>1</td>\n",
       "      <td>0</td>\n",
       "      <td>0</td>\n",
       "      <td>0</td>\n",
       "      <td>0</td>\n",
       "      <td>0</td>\n",
       "      <td>0</td>\n",
       "      <td>...</td>\n",
       "      <td>0</td>\n",
       "      <td>0</td>\n",
       "      <td>0</td>\n",
       "      <td>0</td>\n",
       "      <td>0</td>\n",
       "      <td>0</td>\n",
       "      <td>0</td>\n",
       "      <td>0</td>\n",
       "      <td>0</td>\n",
       "      <td>1</td>\n",
       "    </tr>\n",
       "    <tr>\n",
       "      <th>Chefsekretärin</th>\n",
       "      <td>1</td>\n",
       "      <td>0</td>\n",
       "      <td>1</td>\n",
       "      <td>1</td>\n",
       "      <td>0</td>\n",
       "      <td>1</td>\n",
       "      <td>1</td>\n",
       "      <td>1</td>\n",
       "      <td>1</td>\n",
       "      <td>1</td>\n",
       "      <td>...</td>\n",
       "      <td>0</td>\n",
       "      <td>0</td>\n",
       "      <td>0</td>\n",
       "      <td>0</td>\n",
       "      <td>0</td>\n",
       "      <td>0</td>\n",
       "      <td>1</td>\n",
       "      <td>1</td>\n",
       "      <td>0</td>\n",
       "      <td>11</td>\n",
       "    </tr>\n",
       "    <tr>\n",
       "      <th>Damals</th>\n",
       "      <td>1</td>\n",
       "      <td>1</td>\n",
       "      <td>1</td>\n",
       "      <td>1</td>\n",
       "      <td>0</td>\n",
       "      <td>1</td>\n",
       "      <td>0</td>\n",
       "      <td>0</td>\n",
       "      <td>1</td>\n",
       "      <td>0</td>\n",
       "      <td>...</td>\n",
       "      <td>0</td>\n",
       "      <td>0</td>\n",
       "      <td>0</td>\n",
       "      <td>1</td>\n",
       "      <td>1</td>\n",
       "      <td>0</td>\n",
       "      <td>1</td>\n",
       "      <td>0</td>\n",
       "      <td>1</td>\n",
       "      <td>13</td>\n",
       "    </tr>\n",
       "  </tbody>\n",
       "</table>\n",
       "<p>5 rows × 24 columns</p>\n",
       "</div>"
      ],
      "text/plain": [
       "ID_alumno       1  2  3  4  5  6  7  8  9  10 ...   15  16  17  18  19  20  \\\n",
       "Palabra                                       ...                            \n",
       "Angst           0  1  1  0  0  1  0  0  0   0 ...    1   0   1   1   0   1   \n",
       "Besonderes      0  1  0  0  1  1  0  0  0   0 ...    1   1   1   0   1   1   \n",
       "Besonders       0  0  0  1  0  0  0  0  0   0 ...    0   0   0   0   0   0   \n",
       "Chefsekretärin  1  0  1  1  0  1  1  1  1   1 ...    0   0   0   0   0   0   \n",
       "Damals          1  1  1  1  0  1  0  0  1   0 ...    0   0   0   1   1   0   \n",
       "\n",
       "ID_alumno       21  22  23  All  \n",
       "Palabra                          \n",
       "Angst            0   0   0    7  \n",
       "Besonderes       0   0   0    9  \n",
       "Besonders        0   0   0    1  \n",
       "Chefsekretärin   1   1   0   11  \n",
       "Damals           1   0   1   13  \n",
       "\n",
       "[5 rows x 24 columns]"
      ]
     },
     "execution_count": 14,
     "metadata": {},
     "output_type": "execute_result"
    }
   ],
   "source": [
    "Al_Pal_A2.T.head()"
   ]
  },
  {
   "cell_type": "markdown",
   "metadata": {},
   "source": [
    "##### Histogramm"
   ]
  },
  {
   "cell_type": "code",
   "execution_count": 15,
   "metadata": {},
   "outputs": [
    {
     "data": {
      "image/png": "[encoded data removed]",
      "text/plain": [
       "<matplotlib.figure.Figure at 0xc7c1a20>"
      ]
     },
     "metadata": {},
     "output_type": "display_data"
    }
   ],
   "source": [
    "A2.ID_alumno.value_counts().plot(kind = 'hist',\n",
    "                                bins = 10);"
   ]
  },
  {
   "cell_type": "markdown",
   "metadata": {},
   "source": [
    "Das Histogramm zeigt die Frequenz der Wortanzahl pro TN - keine Normalverteilung in diesem Fall.\n",
    "\n",
    "Ein Student stellt mit 45 als neu identifizierten Wörtern eine Ausnahme dar (Ausreißer)."
   ]
  },
  {
   "cell_type": "code",
   "execution_count": 16,
   "metadata": {},
   "outputs": [
    {
     "name": "stdout",
     "output_type": "stream",
     "text": [
      "Minimum der als \"neu\" identifizierten Wörter: 10\n",
      "Maximum der als \"neu\" identifizierten Wörter: 45\n"
     ]
    }
   ],
   "source": [
    "print(r'Minimum der als \"neu\" identifizierten Wörter: '+str(A2.ID_alumno.value_counts().min()) + '\\n' +\n",
    "      r'Maximum der als \"neu\" identifizierten Wörter: '+str(A2.ID_alumno.value_counts().max()))"
   ]
  },
  {
   "cell_type": "code",
   "execution_count": 17,
   "metadata": {},
   "outputs": [
    {
     "name": "stdout",
     "output_type": "stream",
     "text": [
      "Durchschnittlich als \"neu\" identifizierte Wortanzahl: 16.869565217391305\n"
     ]
    }
   ],
   "source": [
    "print(r'Durchschnittlich als \"neu\" identifizierte Wortanzahl: '+str(Al_Pal_A2['All'][:-1].mean()))"
   ]
  },
  {
   "cell_type": "code",
   "execution_count": 18,
   "metadata": {},
   "outputs": [],
   "source": [
    "A2_1 = A2[A2.ID_alumno != 20].reset_index(drop = True)"
   ]
  },
  {
   "cell_type": "code",
   "execution_count": 19,
   "metadata": {},
   "outputs": [],
   "source": [
    "Al_Pal_A2_1 = pd.crosstab(A2_1.ID_alumno, A2_1.Palabra, margins = True)"
   ]
  },
  {
   "cell_type": "code",
   "execution_count": 20,
   "metadata": {},
   "outputs": [
    {
     "name": "stdout",
     "output_type": "stream",
     "text": [
      "Durchschnittlich als \"neu\" identifizierte Wortanzahl: 15.590909090909092\n"
     ]
    }
   ],
   "source": [
    "print(r'Durchschnittlich als \"neu\" identifizierte Wortanzahl: '+str(Al_Pal_A2_1['All'][:-1].mean()))"
   ]
  },
  {
   "cell_type": "markdown",
   "metadata": {},
   "source": [
    "Durchschnittlich wurden ca. 15,5 Wörter als \"neu\" identifiziert (17 unter Berücksichtigung von ID 20). Große Schwankungsbreite: zwischen 10 und 45 (siehe oben)."
   ]
  },
  {
   "cell_type": "markdown",
   "metadata": {},
   "source": [
    "#### Einsatz von Erschließungsstrategien (A2)"
   ]
  },
  {
   "cell_type": "markdown",
   "metadata": {},
   "source": [
    "Die freien Angaben der Lernenden zu den ihrer Ansicht nach eingesetzten Strategien wurden den Hauptkategorien aus der Online-Befragung zu Erschließungsstrategien unter DaF-Lernenden an spanischen Universitäten (siehe http://diarium.usal.es/martinakienberger/200-2/?lang=de) zugeordnet und entsprechend in Excel erfasst:\n",
    "\n",
    "* L1 = Descubro el significado o la función de palabras nuevas en alemán gracias a mi lengua materna. (Ich erschließe die Bedeutung oder Funktion unbekannter deutscher Wörter mit Hilfe meiner Muttersprache.)\n",
    "* LE = Descubro el significado o la función de palabras nuevas en alemán con la ayuda de otras lenguas. (Ich erschließe unbekannte Wörter mit Hilfe anderer Sprachen.)\n",
    "* AL = Utilizo mis conocimientos de alemán, p. ej. otras palabras conocidas, clases de palabras o la formación de palabras compuestas. (Ich nutze mein Wissen über das Deutsche, z.B. andere bekannte Wörter, Wortarten oder Kompositabildung.)\n",
    "* Con = Utilizo información extraída del contexto, p. ej. la posición de una palabra en la frase o el formato del texto. (Ich nutze Informationen aus dem Kontext, z.B. die Position eines Wortes im Satz oder die Gestaltung des Textes.)\n",
    "* Prof = Pido ayuda a mi profesor/a. (Ich bitte meinen Lehrer/meine Lehrerin um Hilfe.)\n",
    "* Co = Pido ayuda a mis compañeros/as de clase. (Ich bitte die anderen Kursteilnehmer/innen um Hilfe.)\n",
    "* Dicc = Consulto un diccionario u otra fuente (en papel o digital). (Ich konsultiere ein Wörterbuch oder eine andere Quelle (Printversion oder digital).)\n",
    "\n",
    "Großteils konnte eine eindeutige Zuordnung vorgenommen werden. In Einzelfällen war es schwierig, zwischen \"Lehrer/in um Hilfe bitten\" und \"andere Kursteilnehmer/innen um Hilfe bitten\" zu unterscheiden (Angabe z.B. \"me lo explicaron\").\n",
    "\n",
    "Manchmal gaben die Lernenden auch zwei Strategien für die Erschließung eines Wortes an. Wenn diese zwei unterschiedlichen Hauptstrategien zugeordnet werden konnten, wurden in diesen Fällen zwei Strategien erfasst. \n",
    "\n",
    "Beispiele:\n",
    "\n",
    "\"deducción por el contexto y porque es una palabra compuesta\" (\"Erschließung durch den Kontext und weil es ein zusammengesetzes Wort ist\") -> Kontext + Wissen über das Deutsche (2 Strategien: Con, AL)\n",
    "\n",
    "\"Palabra parecida al español \"angustia\" o inglés \"anxiety\" (\"Wort ähnlich dem spanischen \"angustia\" oder dem englischen \"anxiety\") -> Hilfe durch die Erstsprache + andere Sprachen (2 Strategien: L1, LE)"
   ]
  },
  {
   "cell_type": "code",
   "execution_count": 21,
   "metadata": {},
   "outputs": [],
   "source": [
    "v1 = A2.Estrategia_1.value_counts()\n",
    "v2 = A2.Estrategia_2.value_counts()"
   ]
  },
  {
   "cell_type": "code",
   "execution_count": 22,
   "metadata": {},
   "outputs": [
    {
     "data": {
      "text/plain": [
       "AL       81.0\n",
       "Co       14.0\n",
       "Con      85.0\n",
       "Dicc    163.0\n",
       "L1       15.0\n",
       "LE       11.0\n",
       "Prof      8.0\n",
       "dtype: float64"
      ]
     },
     "execution_count": 22,
     "metadata": {},
     "output_type": "execute_result"
    }
   ],
   "source": [
    "v = v1 + v2\n",
    "v['Co'] = v1['Co']\n",
    "v"
   ]
  },
  {
   "cell_type": "code",
   "execution_count": 23,
   "metadata": {},
   "outputs": [
    {
     "data": {
      "text/plain": [
       "Dicc    163.0\n",
       "Con      85.0\n",
       "AL       81.0\n",
       "L1       15.0\n",
       "Co       14.0\n",
       "LE       11.0\n",
       "Prof      8.0\n",
       "dtype: float64"
      ]
     },
     "execution_count": 23,
     "metadata": {},
     "output_type": "execute_result"
    }
   ],
   "source": [
    "v.sort_values(ascending = False)"
   ]
  },
  {
   "cell_type": "markdown",
   "metadata": {},
   "source": [
    "Da die Angaben einiger Studierender zwei Strategien zugeordnet werden können, müssen die Nennungen für die Gesamtauswertung zusammengezählt werden."
   ]
  },
  {
   "cell_type": "code",
   "execution_count": 24,
   "metadata": {},
   "outputs": [
    {
     "data": {
      "image/png": "[encoded data removed]",
      "text/plain": [
       "<matplotlib.figure.Figure at 0xcaf5978>"
      ]
     },
     "metadata": {},
     "output_type": "display_data"
    }
   ],
   "source": [
    "v.sort_values(ascending = False).plot(kind = 'bar', \n",
    "                                      #title = 'Angaben zu eingesetzten Strategien',\n",
    "                                     figsize = (10,6));"
   ]
  },
  {
   "cell_type": "code",
   "execution_count": 25,
   "metadata": {},
   "outputs": [
    {
     "data": {
      "image/png": "[encoded data removed]",
      "text/plain": [
       "<matplotlib.figure.Figure at 0xc65e588>"
      ]
     },
     "metadata": {},
     "output_type": "display_data"
    }
   ],
   "source": [
    "ax = v.sort_values(ascending = False).plot(kind = 'pie', \n",
    "                                           #title = 'Angaben zu eingesetzten Strategien', \n",
    "                                           figsize = (10,10),\n",
    "                                           autopct='%.1f', startangle = -20);\n",
    "\n",
    "ax.set_ylabel(\"\");"
   ]
  },
  {
   "cell_type": "markdown",
   "metadata": {},
   "source": [
    "Die beiden Diagramme zeigen, mit welcher Häufigkeit die unterschiedlichen Arten von Strategien in der Gesamtgruppe eingesetzt wurden.\n",
    "\n",
    "In der Folge wird untersucht, wie sich das strategische Verhalten der einzelnen Lernenden unterscheidet. Für die Analyse wird mit einer Kreuztabelle und Biplot gearbeitet. Zuletzt wird versucht, durch eine Cluster-Analyse Gruppen von Individuen mit ähnlichem Strategieneinsatz zu bilden."
   ]
  },
  {
   "cell_type": "markdown",
   "metadata": {},
   "source": [
    "#### Kreuztabelle Studenten - verwendete Strategien (A2)"
   ]
  },
  {
   "cell_type": "code",
   "execution_count": 26,
   "metadata": {},
   "outputs": [],
   "source": [
    "CTA2 = pd.crosstab(A2.ID_alumno, A2.Estrategia_1, margins = True)\n",
    "\n",
    "CTA2_2 = pd.crosstab(A2.ID_alumno, A2.Estrategia_2, margins = True)"
   ]
  },
  {
   "cell_type": "code",
   "execution_count": 27,
   "metadata": {},
   "outputs": [],
   "source": [
    "for val in CTA2_2.index:\n",
    "    for col in CTA2_2.columns:\n",
    "        if CTA2_2.loc[val,col]!=0:\n",
    "            CTA2.loc[val,col] = CTA2.loc[val,col]+ CTA2_2.loc[val,col]"
   ]
  },
  {
   "cell_type": "code",
   "execution_count": 28,
   "metadata": {},
   "outputs": [
    {
     "data": {
      "text/html": [
       "<div>\n",
       "<style>\n",
       "    .dataframe thead tr:only-child th {\n",
       "        text-align: right;\n",
       "    }\n",
       "\n",
       "    .dataframe thead th {\n",
       "        text-align: left;\n",
       "    }\n",
       "\n",
       "    .dataframe tbody tr th {\n",
       "        vertical-align: top;\n",
       "    }\n",
       "</style>\n",
       "<table border=\"1\" class=\"dataframe\">\n",
       "  <thead>\n",
       "    <tr style=\"text-align: right;\">\n",
       "      <th>Estrategia_1</th>\n",
       "      <th>AL</th>\n",
       "      <th>Co</th>\n",
       "      <th>Con</th>\n",
       "      <th>Dicc</th>\n",
       "      <th>L1</th>\n",
       "      <th>LE</th>\n",
       "      <th>Prof</th>\n",
       "      <th>All</th>\n",
       "    </tr>\n",
       "    <tr>\n",
       "      <th>ID_alumno</th>\n",
       "      <th></th>\n",
       "      <th></th>\n",
       "      <th></th>\n",
       "      <th></th>\n",
       "      <th></th>\n",
       "      <th></th>\n",
       "      <th></th>\n",
       "      <th></th>\n",
       "    </tr>\n",
       "  </thead>\n",
       "  <tbody>\n",
       "    <tr>\n",
       "      <th>1</th>\n",
       "      <td>1</td>\n",
       "      <td>0</td>\n",
       "      <td>3</td>\n",
       "      <td>19</td>\n",
       "      <td>0</td>\n",
       "      <td>0</td>\n",
       "      <td>0</td>\n",
       "      <td>23</td>\n",
       "    </tr>\n",
       "    <tr>\n",
       "      <th>2</th>\n",
       "      <td>4</td>\n",
       "      <td>3</td>\n",
       "      <td>5</td>\n",
       "      <td>5</td>\n",
       "      <td>0</td>\n",
       "      <td>2</td>\n",
       "      <td>0</td>\n",
       "      <td>19</td>\n",
       "    </tr>\n",
       "    <tr>\n",
       "      <th>3</th>\n",
       "      <td>5</td>\n",
       "      <td>0</td>\n",
       "      <td>7</td>\n",
       "      <td>6</td>\n",
       "      <td>0</td>\n",
       "      <td>1</td>\n",
       "      <td>0</td>\n",
       "      <td>19</td>\n",
       "    </tr>\n",
       "    <tr>\n",
       "      <th>4</th>\n",
       "      <td>4</td>\n",
       "      <td>0</td>\n",
       "      <td>10</td>\n",
       "      <td>3</td>\n",
       "      <td>4</td>\n",
       "      <td>0</td>\n",
       "      <td>1</td>\n",
       "      <td>22</td>\n",
       "    </tr>\n",
       "    <tr>\n",
       "      <th>5</th>\n",
       "      <td>0</td>\n",
       "      <td>3</td>\n",
       "      <td>4</td>\n",
       "      <td>4</td>\n",
       "      <td>0</td>\n",
       "      <td>1</td>\n",
       "      <td>0</td>\n",
       "      <td>12</td>\n",
       "    </tr>\n",
       "    <tr>\n",
       "      <th>6</th>\n",
       "      <td>7</td>\n",
       "      <td>0</td>\n",
       "      <td>1</td>\n",
       "      <td>0</td>\n",
       "      <td>3</td>\n",
       "      <td>1</td>\n",
       "      <td>0</td>\n",
       "      <td>12</td>\n",
       "    </tr>\n",
       "    <tr>\n",
       "      <th>7</th>\n",
       "      <td>1</td>\n",
       "      <td>0</td>\n",
       "      <td>7</td>\n",
       "      <td>4</td>\n",
       "      <td>0</td>\n",
       "      <td>2</td>\n",
       "      <td>0</td>\n",
       "      <td>14</td>\n",
       "    </tr>\n",
       "    <tr>\n",
       "      <th>8</th>\n",
       "      <td>0</td>\n",
       "      <td>0</td>\n",
       "      <td>0</td>\n",
       "      <td>15</td>\n",
       "      <td>1</td>\n",
       "      <td>0</td>\n",
       "      <td>0</td>\n",
       "      <td>16</td>\n",
       "    </tr>\n",
       "    <tr>\n",
       "      <th>9</th>\n",
       "      <td>11</td>\n",
       "      <td>0</td>\n",
       "      <td>2</td>\n",
       "      <td>7</td>\n",
       "      <td>2</td>\n",
       "      <td>1</td>\n",
       "      <td>0</td>\n",
       "      <td>23</td>\n",
       "    </tr>\n",
       "    <tr>\n",
       "      <th>10</th>\n",
       "      <td>7</td>\n",
       "      <td>0</td>\n",
       "      <td>3</td>\n",
       "      <td>0</td>\n",
       "      <td>3</td>\n",
       "      <td>2</td>\n",
       "      <td>0</td>\n",
       "      <td>15</td>\n",
       "    </tr>\n",
       "    <tr>\n",
       "      <th>11</th>\n",
       "      <td>7</td>\n",
       "      <td>0</td>\n",
       "      <td>3</td>\n",
       "      <td>0</td>\n",
       "      <td>1</td>\n",
       "      <td>0</td>\n",
       "      <td>0</td>\n",
       "      <td>11</td>\n",
       "    </tr>\n",
       "    <tr>\n",
       "      <th>12</th>\n",
       "      <td>7</td>\n",
       "      <td>0</td>\n",
       "      <td>2</td>\n",
       "      <td>7</td>\n",
       "      <td>0</td>\n",
       "      <td>0</td>\n",
       "      <td>0</td>\n",
       "      <td>16</td>\n",
       "    </tr>\n",
       "    <tr>\n",
       "      <th>13</th>\n",
       "      <td>7</td>\n",
       "      <td>0</td>\n",
       "      <td>5</td>\n",
       "      <td>0</td>\n",
       "      <td>1</td>\n",
       "      <td>0</td>\n",
       "      <td>0</td>\n",
       "      <td>13</td>\n",
       "    </tr>\n",
       "    <tr>\n",
       "      <th>14</th>\n",
       "      <td>2</td>\n",
       "      <td>0</td>\n",
       "      <td>3</td>\n",
       "      <td>8</td>\n",
       "      <td>0</td>\n",
       "      <td>0</td>\n",
       "      <td>1</td>\n",
       "      <td>14</td>\n",
       "    </tr>\n",
       "    <tr>\n",
       "      <th>15</th>\n",
       "      <td>0</td>\n",
       "      <td>0</td>\n",
       "      <td>5</td>\n",
       "      <td>9</td>\n",
       "      <td>0</td>\n",
       "      <td>0</td>\n",
       "      <td>0</td>\n",
       "      <td>14</td>\n",
       "    </tr>\n",
       "    <tr>\n",
       "      <th>16</th>\n",
       "      <td>4</td>\n",
       "      <td>0</td>\n",
       "      <td>1</td>\n",
       "      <td>7</td>\n",
       "      <td>0</td>\n",
       "      <td>1</td>\n",
       "      <td>1</td>\n",
       "      <td>14</td>\n",
       "    </tr>\n",
       "    <tr>\n",
       "      <th>17</th>\n",
       "      <td>0</td>\n",
       "      <td>0</td>\n",
       "      <td>2</td>\n",
       "      <td>2</td>\n",
       "      <td>0</td>\n",
       "      <td>0</td>\n",
       "      <td>4</td>\n",
       "      <td>8</td>\n",
       "    </tr>\n",
       "    <tr>\n",
       "      <th>18</th>\n",
       "      <td>2</td>\n",
       "      <td>0</td>\n",
       "      <td>2</td>\n",
       "      <td>8</td>\n",
       "      <td>0</td>\n",
       "      <td>0</td>\n",
       "      <td>0</td>\n",
       "      <td>12</td>\n",
       "    </tr>\n",
       "    <tr>\n",
       "      <th>19</th>\n",
       "      <td>0</td>\n",
       "      <td>0</td>\n",
       "      <td>8</td>\n",
       "      <td>13</td>\n",
       "      <td>0</td>\n",
       "      <td>0</td>\n",
       "      <td>0</td>\n",
       "      <td>21</td>\n",
       "    </tr>\n",
       "    <tr>\n",
       "      <th>20</th>\n",
       "      <td>0</td>\n",
       "      <td>7</td>\n",
       "      <td>2</td>\n",
       "      <td>36</td>\n",
       "      <td>0</td>\n",
       "      <td>0</td>\n",
       "      <td>0</td>\n",
       "      <td>45</td>\n",
       "    </tr>\n",
       "    <tr>\n",
       "      <th>21</th>\n",
       "      <td>4</td>\n",
       "      <td>0</td>\n",
       "      <td>3</td>\n",
       "      <td>5</td>\n",
       "      <td>0</td>\n",
       "      <td>0</td>\n",
       "      <td>1</td>\n",
       "      <td>13</td>\n",
       "    </tr>\n",
       "    <tr>\n",
       "      <th>22</th>\n",
       "      <td>5</td>\n",
       "      <td>1</td>\n",
       "      <td>1</td>\n",
       "      <td>5</td>\n",
       "      <td>0</td>\n",
       "      <td>0</td>\n",
       "      <td>0</td>\n",
       "      <td>12</td>\n",
       "    </tr>\n",
       "    <tr>\n",
       "      <th>23</th>\n",
       "      <td>3</td>\n",
       "      <td>0</td>\n",
       "      <td>6</td>\n",
       "      <td>0</td>\n",
       "      <td>0</td>\n",
       "      <td>0</td>\n",
       "      <td>0</td>\n",
       "      <td>9</td>\n",
       "    </tr>\n",
       "    <tr>\n",
       "      <th>All</th>\n",
       "      <td>81</td>\n",
       "      <td>14</td>\n",
       "      <td>85</td>\n",
       "      <td>163</td>\n",
       "      <td>15</td>\n",
       "      <td>11</td>\n",
       "      <td>8</td>\n",
       "      <td>377</td>\n",
       "    </tr>\n",
       "  </tbody>\n",
       "</table>\n",
       "</div>"
      ],
      "text/plain": [
       "Estrategia_1  AL  Co  Con  Dicc  L1  LE  Prof  All\n",
       "ID_alumno                                         \n",
       "1              1   0    3    19   0   0     0   23\n",
       "2              4   3    5     5   0   2     0   19\n",
       "3              5   0    7     6   0   1     0   19\n",
       "4              4   0   10     3   4   0     1   22\n",
       "5              0   3    4     4   0   1     0   12\n",
       "6              7   0    1     0   3   1     0   12\n",
       "7              1   0    7     4   0   2     0   14\n",
       "8              0   0    0    15   1   0     0   16\n",
       "9             11   0    2     7   2   1     0   23\n",
       "10             7   0    3     0   3   2     0   15\n",
       "11             7   0    3     0   1   0     0   11\n",
       "12             7   0    2     7   0   0     0   16\n",
       "13             7   0    5     0   1   0     0   13\n",
       "14             2   0    3     8   0   0     1   14\n",
       "15             0   0    5     9   0   0     0   14\n",
       "16             4   0    1     7   0   1     1   14\n",
       "17             0   0    2     2   0   0     4    8\n",
       "18             2   0    2     8   0   0     0   12\n",
       "19             0   0    8    13   0   0     0   21\n",
       "20             0   7    2    36   0   0     0   45\n",
       "21             4   0    3     5   0   0     1   13\n",
       "22             5   1    1     5   0   0     0   12\n",
       "23             3   0    6     0   0   0     0    9\n",
       "All           81  14   85   163  15  11     8  377"
      ]
     },
     "execution_count": 28,
     "metadata": {},
     "output_type": "execute_result"
    }
   ],
   "source": [
    "CTA2"
   ]
  },
  {
   "cell_type": "markdown",
   "metadata": {},
   "source": [
    "#### Korrespondenzanalyse und Biplot Studenten - verwendete Strategien (A2)"
   ]
  },
  {
   "cell_type": "code",
   "execution_count": 29,
   "metadata": {},
   "outputs": [],
   "source": [
    "CA_A2L = biplot.CA(CTA2.values[:-1,:-1], 7, method = 1)"
   ]
  },
  {
   "cell_type": "markdown",
   "metadata": {},
   "source": [
    "Mit den Daten der Kreuztabelle kann eine Korrespondenzanalyse durchgeführt werden, um die Beziehungen zwischen Elementen und Variablen grafisch repräsentieren zu können.\n",
    "\n",
    "Eine Alternative stellt der Biplot dar, der besser geeignet ist, um Dimensionen der Darstellung zu reduzieren."
   ]
  },
  {
   "cell_type": "code",
   "execution_count": 30,
   "metadata": {},
   "outputs": [],
   "source": [
    "Biplot_A2L = biplot.Classic(CTA2.values[:-1,:-1], 7, method = 1)"
   ]
  },
  {
   "cell_type": "code",
   "execution_count": 31,
   "metadata": {},
   "outputs": [],
   "source": [
    "R = Biplot_A2L.RowCoord\n",
    "C = Biplot_A2L.ColCoord\n",
    "cr = Biplot_A2L.RowCont\n",
    "cc = Biplot_A2L.ColCont"
   ]
  },
  {
   "cell_type": "markdown",
   "metadata": {},
   "source": [
    "##### Qualität der Repräsentation der Elemente und Variablen auf den Achsen des Biplots"
   ]
  },
  {
   "cell_type": "code",
   "execution_count": 32,
   "metadata": {},
   "outputs": [
    {
     "data": {
      "text/plain": [
       "array([ 33.27824989,  20.24002969,  15.87240084,  11.92577704,\n",
       "        10.60213139,   5.14115245,   2.94025869])"
      ]
     },
     "execution_count": 32,
     "metadata": {},
     "output_type": "execute_result"
    }
   ],
   "source": [
    "Biplot_A2L.Inert"
   ]
  },
  {
   "cell_type": "markdown",
   "metadata": {},
   "source": [
    "Überblick über Informationsgehalt der einzelnen Achsen des Biplot (hier 7)"
   ]
  },
  {
   "cell_type": "code",
   "execution_count": 33,
   "metadata": {},
   "outputs": [
    {
     "data": {
      "text/html": [
       "<div>\n",
       "<style>\n",
       "    .dataframe thead tr:only-child th {\n",
       "        text-align: right;\n",
       "    }\n",
       "\n",
       "    .dataframe thead th {\n",
       "        text-align: left;\n",
       "    }\n",
       "\n",
       "    .dataframe tbody tr th {\n",
       "        vertical-align: top;\n",
       "    }\n",
       "</style>\n",
       "<table border=\"1\" class=\"dataframe\">\n",
       "  <thead>\n",
       "    <tr style=\"text-align: right;\">\n",
       "      <th></th>\n",
       "      <th>Axis_1</th>\n",
       "      <th>Axis_2</th>\n",
       "      <th>Axis_3</th>\n",
       "      <th>Axis_4</th>\n",
       "      <th>Axis_5</th>\n",
       "      <th>Axis_6</th>\n",
       "      <th>Axis_7</th>\n",
       "    </tr>\n",
       "    <tr>\n",
       "      <th>ID_alumno</th>\n",
       "      <th></th>\n",
       "      <th></th>\n",
       "      <th></th>\n",
       "      <th></th>\n",
       "      <th></th>\n",
       "      <th></th>\n",
       "      <th></th>\n",
       "    </tr>\n",
       "  </thead>\n",
       "  <tbody>\n",
       "    <tr>\n",
       "      <th>1</th>\n",
       "      <td>55.638531</td>\n",
       "      <td>0.473680</td>\n",
       "      <td>0.495541</td>\n",
       "      <td>15.785207</td>\n",
       "      <td>2.132420</td>\n",
       "      <td>16.311996</td>\n",
       "      <td>9.162625</td>\n",
       "    </tr>\n",
       "    <tr>\n",
       "      <th>2</th>\n",
       "      <td>0.010853</td>\n",
       "      <td>43.028987</td>\n",
       "      <td>11.243279</td>\n",
       "      <td>38.951244</td>\n",
       "      <td>1.579011</td>\n",
       "      <td>5.085270</td>\n",
       "      <td>0.101356</td>\n",
       "    </tr>\n",
       "    <tr>\n",
       "      <th>3</th>\n",
       "      <td>11.324768</td>\n",
       "      <td>5.233696</td>\n",
       "      <td>46.571126</td>\n",
       "      <td>0.001691</td>\n",
       "      <td>14.831519</td>\n",
       "      <td>6.079107</td>\n",
       "      <td>15.958094</td>\n",
       "    </tr>\n",
       "    <tr>\n",
       "      <th>4</th>\n",
       "      <td>22.192201</td>\n",
       "      <td>2.013733</td>\n",
       "      <td>20.836525</td>\n",
       "      <td>9.456401</td>\n",
       "      <td>45.446324</td>\n",
       "      <td>0.015518</td>\n",
       "      <td>0.039299</td>\n",
       "    </tr>\n",
       "    <tr>\n",
       "      <th>5</th>\n",
       "      <td>21.802663</td>\n",
       "      <td>13.856321</td>\n",
       "      <td>13.948733</td>\n",
       "      <td>21.197826</td>\n",
       "      <td>1.040282</td>\n",
       "      <td>0.441437</td>\n",
       "      <td>27.712738</td>\n",
       "    </tr>\n",
       "    <tr>\n",
       "      <th>6</th>\n",
       "      <td>57.367353</td>\n",
       "      <td>8.292671</td>\n",
       "      <td>19.708382</td>\n",
       "      <td>0.210345</td>\n",
       "      <td>6.081801</td>\n",
       "      <td>5.050026</td>\n",
       "      <td>3.289423</td>\n",
       "    </tr>\n",
       "    <tr>\n",
       "      <th>7</th>\n",
       "      <td>2.673535</td>\n",
       "      <td>5.811889</td>\n",
       "      <td>54.584211</td>\n",
       "      <td>19.930192</td>\n",
       "      <td>10.319927</td>\n",
       "      <td>5.410864</td>\n",
       "      <td>1.269383</td>\n",
       "    </tr>\n",
       "    <tr>\n",
       "      <th>8</th>\n",
       "      <td>25.522713</td>\n",
       "      <td>0.724673</td>\n",
       "      <td>21.649195</td>\n",
       "      <td>5.462764</td>\n",
       "      <td>0.063882</td>\n",
       "      <td>45.079671</td>\n",
       "      <td>1.497102</td>\n",
       "    </tr>\n",
       "    <tr>\n",
       "      <th>9</th>\n",
       "      <td>46.072373</td>\n",
       "      <td>17.150077</td>\n",
       "      <td>25.016669</td>\n",
       "      <td>0.301873</td>\n",
       "      <td>1.043666</td>\n",
       "      <td>1.355161</td>\n",
       "      <td>9.060181</td>\n",
       "    </tr>\n",
       "    <tr>\n",
       "      <th>10</th>\n",
       "      <td>62.212192</td>\n",
       "      <td>19.485673</td>\n",
       "      <td>0.651551</td>\n",
       "      <td>8.361379</td>\n",
       "      <td>3.722081</td>\n",
       "      <td>5.564673</td>\n",
       "      <td>0.002451</td>\n",
       "    </tr>\n",
       "    <tr>\n",
       "      <th>11</th>\n",
       "      <td>44.016872</td>\n",
       "      <td>0.496234</td>\n",
       "      <td>17.881104</td>\n",
       "      <td>18.496885</td>\n",
       "      <td>2.868952</td>\n",
       "      <td>11.826841</td>\n",
       "      <td>4.413113</td>\n",
       "    </tr>\n",
       "    <tr>\n",
       "      <th>12</th>\n",
       "      <td>2.075613</td>\n",
       "      <td>0.076906</td>\n",
       "      <td>44.564058</td>\n",
       "      <td>16.173166</td>\n",
       "      <td>21.730265</td>\n",
       "      <td>11.913599</td>\n",
       "      <td>3.466393</td>\n",
       "    </tr>\n",
       "    <tr>\n",
       "      <th>13</th>\n",
       "      <td>48.714804</td>\n",
       "      <td>0.473615</td>\n",
       "      <td>0.028290</td>\n",
       "      <td>27.061505</td>\n",
       "      <td>0.974546</td>\n",
       "      <td>21.582323</td>\n",
       "      <td>1.164916</td>\n",
       "    </tr>\n",
       "    <tr>\n",
       "      <th>14</th>\n",
       "      <td>21.467746</td>\n",
       "      <td>74.438515</td>\n",
       "      <td>2.376343</td>\n",
       "      <td>0.029397</td>\n",
       "      <td>0.957099</td>\n",
       "      <td>0.190079</td>\n",
       "      <td>0.540821</td>\n",
       "    </tr>\n",
       "    <tr>\n",
       "      <th>15</th>\n",
       "      <td>28.274040</td>\n",
       "      <td>10.751312</td>\n",
       "      <td>24.956380</td>\n",
       "      <td>17.488059</td>\n",
       "      <td>8.607819</td>\n",
       "      <td>8.127836</td>\n",
       "      <td>1.794554</td>\n",
       "    </tr>\n",
       "    <tr>\n",
       "      <th>16</th>\n",
       "      <td>0.036790</td>\n",
       "      <td>5.409022</td>\n",
       "      <td>27.420328</td>\n",
       "      <td>49.130061</td>\n",
       "      <td>8.326996</td>\n",
       "      <td>2.435077</td>\n",
       "      <td>7.241726</td>\n",
       "    </tr>\n",
       "    <tr>\n",
       "      <th>17</th>\n",
       "      <td>2.280804</td>\n",
       "      <td>67.432559</td>\n",
       "      <td>0.991391</td>\n",
       "      <td>21.876977</td>\n",
       "      <td>6.841201</td>\n",
       "      <td>0.503710</td>\n",
       "      <td>0.073358</td>\n",
       "    </tr>\n",
       "    <tr>\n",
       "      <th>18</th>\n",
       "      <td>22.470283</td>\n",
       "      <td>9.534997</td>\n",
       "      <td>13.020250</td>\n",
       "      <td>12.694938</td>\n",
       "      <td>28.155491</td>\n",
       "      <td>9.411969</td>\n",
       "      <td>4.712072</td>\n",
       "    </tr>\n",
       "    <tr>\n",
       "      <th>19</th>\n",
       "      <td>17.199928</td>\n",
       "      <td>2.894380</td>\n",
       "      <td>56.514843</td>\n",
       "      <td>19.365861</td>\n",
       "      <td>0.561422</td>\n",
       "      <td>0.967411</td>\n",
       "      <td>2.496156</td>\n",
       "    </tr>\n",
       "    <tr>\n",
       "      <th>20</th>\n",
       "      <td>71.253894</td>\n",
       "      <td>17.054838</td>\n",
       "      <td>1.266045</td>\n",
       "      <td>0.009707</td>\n",
       "      <td>9.266675</td>\n",
       "      <td>1.060502</td>\n",
       "      <td>0.088340</td>\n",
       "    </tr>\n",
       "    <tr>\n",
       "      <th>21</th>\n",
       "      <td>0.498474</td>\n",
       "      <td>73.321459</td>\n",
       "      <td>11.202996</td>\n",
       "      <td>0.006558</td>\n",
       "      <td>3.587194</td>\n",
       "      <td>10.595723</td>\n",
       "      <td>0.787595</td>\n",
       "    </tr>\n",
       "    <tr>\n",
       "      <th>22</th>\n",
       "      <td>2.656883</td>\n",
       "      <td>0.013137</td>\n",
       "      <td>58.201578</td>\n",
       "      <td>3.448415</td>\n",
       "      <td>18.203723</td>\n",
       "      <td>8.592811</td>\n",
       "      <td>8.883453</td>\n",
       "    </tr>\n",
       "    <tr>\n",
       "      <th>23</th>\n",
       "      <td>2.955265</td>\n",
       "      <td>12.673522</td>\n",
       "      <td>29.628430</td>\n",
       "      <td>17.047140</td>\n",
       "      <td>19.472142</td>\n",
       "      <td>9.000458</td>\n",
       "      <td>9.223044</td>\n",
       "    </tr>\n",
       "  </tbody>\n",
       "</table>\n",
       "</div>"
      ],
      "text/plain": [
       "              Axis_1     Axis_2     Axis_3     Axis_4     Axis_5     Axis_6  \\\n",
       "ID_alumno                                                                     \n",
       "1          55.638531   0.473680   0.495541  15.785207   2.132420  16.311996   \n",
       "2           0.010853  43.028987  11.243279  38.951244   1.579011   5.085270   \n",
       "3          11.324768   5.233696  46.571126   0.001691  14.831519   6.079107   \n",
       "4          22.192201   2.013733  20.836525   9.456401  45.446324   0.015518   \n",
       "5          21.802663  13.856321  13.948733  21.197826   1.040282   0.441437   \n",
       "6          57.367353   8.292671  19.708382   0.210345   6.081801   5.050026   \n",
       "7           2.673535   5.811889  54.584211  19.930192  10.319927   5.410864   \n",
       "8          25.522713   0.724673  21.649195   5.462764   0.063882  45.079671   \n",
       "9          46.072373  17.150077  25.016669   0.301873   1.043666   1.355161   \n",
       "10         62.212192  19.485673   0.651551   8.361379   3.722081   5.564673   \n",
       "11         44.016872   0.496234  17.881104  18.496885   2.868952  11.826841   \n",
       "12          2.075613   0.076906  44.564058  16.173166  21.730265  11.913599   \n",
       "13         48.714804   0.473615   0.028290  27.061505   0.974546  21.582323   \n",
       "14         21.467746  74.438515   2.376343   0.029397   0.957099   0.190079   \n",
       "15         28.274040  10.751312  24.956380  17.488059   8.607819   8.127836   \n",
       "16          0.036790   5.409022  27.420328  49.130061   8.326996   2.435077   \n",
       "17          2.280804  67.432559   0.991391  21.876977   6.841201   0.503710   \n",
       "18         22.470283   9.534997  13.020250  12.694938  28.155491   9.411969   \n",
       "19         17.199928   2.894380  56.514843  19.365861   0.561422   0.967411   \n",
       "20         71.253894  17.054838   1.266045   0.009707   9.266675   1.060502   \n",
       "21          0.498474  73.321459  11.202996   0.006558   3.587194  10.595723   \n",
       "22          2.656883   0.013137  58.201578   3.448415  18.203723   8.592811   \n",
       "23          2.955265  12.673522  29.628430  17.047140  19.472142   9.000458   \n",
       "\n",
       "              Axis_7  \n",
       "ID_alumno             \n",
       "1           9.162625  \n",
       "2           0.101356  \n",
       "3          15.958094  \n",
       "4           0.039299  \n",
       "5          27.712738  \n",
       "6           3.289423  \n",
       "7           1.269383  \n",
       "8           1.497102  \n",
       "9           9.060181  \n",
       "10          0.002451  \n",
       "11          4.413113  \n",
       "12          3.466393  \n",
       "13          1.164916  \n",
       "14          0.540821  \n",
       "15          1.794554  \n",
       "16          7.241726  \n",
       "17          0.073358  \n",
       "18          4.712072  \n",
       "19          2.496156  \n",
       "20          0.088340  \n",
       "21          0.787595  \n",
       "22          8.883453  \n",
       "23          9.223044  "
      ]
     },
     "execution_count": 33,
     "metadata": {},
     "output_type": "execute_result"
    }
   ],
   "source": [
    "pd.DataFrame(cr, columns = ['Axis_'+str(el+1) for el in range(7)], index = CTA2.index[:-1])"
   ]
  },
  {
   "cell_type": "code",
   "execution_count": 34,
   "metadata": {},
   "outputs": [
    {
     "data": {
      "text/html": [
       "<div>\n",
       "<style>\n",
       "    .dataframe thead tr:only-child th {\n",
       "        text-align: right;\n",
       "    }\n",
       "\n",
       "    .dataframe thead th {\n",
       "        text-align: left;\n",
       "    }\n",
       "\n",
       "    .dataframe tbody tr th {\n",
       "        vertical-align: top;\n",
       "    }\n",
       "</style>\n",
       "<table border=\"1\" class=\"dataframe\">\n",
       "  <thead>\n",
       "    <tr style=\"text-align: right;\">\n",
       "      <th></th>\n",
       "      <th>Axis_1</th>\n",
       "      <th>Axis_2</th>\n",
       "      <th>Axis_3</th>\n",
       "      <th>Axis_4</th>\n",
       "      <th>Axis_5</th>\n",
       "      <th>Axis_6</th>\n",
       "      <th>Axis_7</th>\n",
       "    </tr>\n",
       "    <tr>\n",
       "      <th>Estrategia_1</th>\n",
       "      <th></th>\n",
       "      <th></th>\n",
       "      <th></th>\n",
       "      <th></th>\n",
       "      <th></th>\n",
       "      <th></th>\n",
       "      <th></th>\n",
       "    </tr>\n",
       "  </thead>\n",
       "  <tbody>\n",
       "    <tr>\n",
       "      <th>AL</th>\n",
       "      <td>56.360089</td>\n",
       "      <td>8.377718</td>\n",
       "      <td>17.630973</td>\n",
       "      <td>1.578724</td>\n",
       "      <td>0.050138</td>\n",
       "      <td>12.348604</td>\n",
       "      <td>3.653755</td>\n",
       "    </tr>\n",
       "    <tr>\n",
       "      <th>Co</th>\n",
       "      <td>42.733997</td>\n",
       "      <td>30.379229</td>\n",
       "      <td>0.013709</td>\n",
       "      <td>4.898264</td>\n",
       "      <td>9.294330</td>\n",
       "      <td>9.519659</td>\n",
       "      <td>3.160812</td>\n",
       "    </tr>\n",
       "    <tr>\n",
       "      <th>Con</th>\n",
       "      <td>3.530487</td>\n",
       "      <td>0.000208</td>\n",
       "      <td>86.321652</td>\n",
       "      <td>4.483758</td>\n",
       "      <td>1.599102</td>\n",
       "      <td>3.117067</td>\n",
       "      <td>0.947726</td>\n",
       "    </tr>\n",
       "    <tr>\n",
       "      <th>Dicc</th>\n",
       "      <td>70.320551</td>\n",
       "      <td>8.954528</td>\n",
       "      <td>1.175884</td>\n",
       "      <td>3.412116</td>\n",
       "      <td>4.482218</td>\n",
       "      <td>2.076432</td>\n",
       "      <td>9.578269</td>\n",
       "    </tr>\n",
       "    <tr>\n",
       "      <th>L1</th>\n",
       "      <td>44.188307</td>\n",
       "      <td>4.281261</td>\n",
       "      <td>0.543233</td>\n",
       "      <td>2.951205</td>\n",
       "      <td>42.547468</td>\n",
       "      <td>4.813577</td>\n",
       "      <td>0.674948</td>\n",
       "    </tr>\n",
       "    <tr>\n",
       "      <th>LE</th>\n",
       "      <td>15.551747</td>\n",
       "      <td>30.335112</td>\n",
       "      <td>4.912537</td>\n",
       "      <td>44.177283</td>\n",
       "      <td>1.237640</td>\n",
       "      <td>2.638893</td>\n",
       "      <td>1.146788</td>\n",
       "    </tr>\n",
       "    <tr>\n",
       "      <th>Prof</th>\n",
       "      <td>0.262572</td>\n",
       "      <td>59.352150</td>\n",
       "      <td>0.508817</td>\n",
       "      <td>21.979089</td>\n",
       "      <td>15.004023</td>\n",
       "      <td>1.473835</td>\n",
       "      <td>1.419514</td>\n",
       "    </tr>\n",
       "  </tbody>\n",
       "</table>\n",
       "</div>"
      ],
      "text/plain": [
       "                 Axis_1     Axis_2     Axis_3     Axis_4     Axis_5  \\\n",
       "Estrategia_1                                                          \n",
       "AL            56.360089   8.377718  17.630973   1.578724   0.050138   \n",
       "Co            42.733997  30.379229   0.013709   4.898264   9.294330   \n",
       "Con            3.530487   0.000208  86.321652   4.483758   1.599102   \n",
       "Dicc          70.320551   8.954528   1.175884   3.412116   4.482218   \n",
       "L1            44.188307   4.281261   0.543233   2.951205  42.547468   \n",
       "LE            15.551747  30.335112   4.912537  44.177283   1.237640   \n",
       "Prof           0.262572  59.352150   0.508817  21.979089  15.004023   \n",
       "\n",
       "                 Axis_6    Axis_7  \n",
       "Estrategia_1                       \n",
       "AL            12.348604  3.653755  \n",
       "Co             9.519659  3.160812  \n",
       "Con            3.117067  0.947726  \n",
       "Dicc           2.076432  9.578269  \n",
       "L1             4.813577  0.674948  \n",
       "LE             2.638893  1.146788  \n",
       "Prof           1.473835  1.419514  "
      ]
     },
     "execution_count": 34,
     "metadata": {},
     "output_type": "execute_result"
    }
   ],
   "source": [
    "pd.DataFrame(cc, columns = ['Axis_'+str(el+1) for el in range(7)], index = CTA2.columns[:-1])"
   ]
  },
  {
   "cell_type": "markdown",
   "metadata": {},
   "source": [
    "Interpretation:\n",
    "\n",
    "Um beispielsweise eine gute Repräsentation von Strategie \"AL\" zu bekommen, müssen für eine Darstellung in 2 Dimensionen Achse 1 und 3 gewählt werden. Für \"L1\" wären Achse 1 und 5 geeignet, für \"Con\" hauptsächlich Achse 3. (Für die Programmierung in Python ist zu beachten, dass \"1\" dem Wert \"0\" entspricht usw.)"
   ]
  },
  {
   "cell_type": "markdown",
   "metadata": {},
   "source": [
    "#### Cluster-Analyse Studenten - verwendete Strategien (A2)\n",
    "\n",
    "Mit den Werten der Kreuztabelle können auch Cluster berechnet werden, um Gruppen differenzieren zu können.\n",
    "\n",
    "Diese können in der Folge in einer Grafik mit den Ergebnissen des Biplots dargestellt werden."
   ]
  },
  {
   "cell_type": "code",
   "execution_count": 35,
   "metadata": {},
   "outputs": [],
   "source": [
    "#kmeans = KMeans(n_clusters=5, random_state=0).fit(CTA2.values[:-1,:-1])\n",
    "#ward = AgglomerativeClustering(n_clusters=5).fit(CTA2.values[:-1,:-1])"
   ]
  },
  {
   "cell_type": "markdown",
   "metadata": {},
   "source": [
    "Beide Berechnungsarten führen zu ähnlichen Ergebnissen, in der Folge wird \"ward\" verwendet.\n",
    "\n",
    "Tests mit unterschiedlicher Anzahl an Clustern zeigen, dass 5 bzw. 7 Gruppen unterschieden werden können, wobei 2 Elemente für sich stehen und keine bzw. eine eigene Gruppe bilden."
   ]
  },
  {
   "cell_type": "markdown",
   "metadata": {},
   "source": [
    "##### Darstellung Biplot + Cluster"
   ]
  },
  {
   "cell_type": "code",
   "execution_count": 36,
   "metadata": {},
   "outputs": [],
   "source": [
    "def vector_to_shape(v):\n",
    "    markers = [\",\" , \"o\" , \"v\" , \"^\", \"x\", \"D\", \"*\"]\n",
    "    return [markers[el] for el in v]"
   ]
  },
  {
   "cell_type": "code",
   "execution_count": 37,
   "metadata": {},
   "outputs": [],
   "source": [
    "def vector_to_color(v):\n",
    "    col = ['b', 'g', 'r', 'c', 'm', 'k', 'y']\n",
    "    return [col[el] for el in v]"
   ]
  },
  {
   "cell_type": "code",
   "execution_count": 38,
   "metadata": {},
   "outputs": [],
   "source": [
    "def graf_cplot(data, dim, nclust, dim1 = 0, dim2 = 1, sx = 10, sy = 10):\n",
    "    \n",
    "    B = biplot.Classic(data, dim, method = 1) \n",
    "    R = B.RowCoord\n",
    "    C = B.ColCoord\n",
    "    \n",
    "    ward = AgglomerativeClustering(n_clusters=nclust).fit(data)\n",
    "    \n",
    "    fig = plt.figure(figsize=(sx,sy))\n",
    "    ax = fig.add_subplot(111)\n",
    "\n",
    "    sh_v = vector_to_shape(ward.labels_)\n",
    "    color_v = vector_to_color(ward.labels_)\n",
    "\n",
    "    for i in range(C.shape[0]):\n",
    "        ax.arrow(0,0,C[i,dim1],C[i,dim2], alpha = 0.7)\n",
    "        #ax.scatter(C[i,dim1],C[i,dim2]) # Hier würden Linien nicht angezeigt.\n",
    "        ax.text(C[i,dim1],C[i,dim2],data.columns[i],fontsize=20, alpha = 0.7)\n",
    "\n",
    "    for i in range(R.shape[0]):\n",
    "        ax.scatter(R[i,dim1],R[i,dim2], s = 20, c = color_v[i] ,marker = sh_v[i])\n",
    "    \n",
    "    texts = [plt.text(R[i,dim1],R[i,dim2], data.index[i], ha='center', va='center') for i in range(len(R[:,0]))]\n",
    "    adjust_text(texts);"
   ]
  },
  {
   "cell_type": "code",
   "execution_count": 39,
   "metadata": {},
   "outputs": [],
   "source": [
    "def graf_cplot1(data, dim, nclust, dim1 = 0, dim2 = 1, sx = 10, sy = 10):\n",
    "    \n",
    "    B = biplot.CA(data, dim, method = 1) \n",
    "    R = B.RowCoordinates\n",
    "    C = B.ColCoordinates\n",
    "    \n",
    "    ward = AgglomerativeClustering(n_clusters=nclust).fit(data)\n",
    "    \n",
    "    fig = plt.figure(figsize=(sx,sy))\n",
    "    ax = fig.add_subplot(111)\n",
    "\n",
    "    sh_v = vector_to_shape(ward.labels_)\n",
    "    color_v = vector_to_color(ward.labels_)\n",
    "\n",
    "    for i in range(C.shape[0]):\n",
    "        ax.arrow(0,0,C[i,dim1],C[i,dim2], alpha = 0.7)\n",
    "        #ax.scatter(C[i,dim1],C[i,dim2]) # Hier würden Linien nicht angezeigt.\n",
    "        ax.text(C[i,dim1],C[i,dim2],data.columns[i],fontsize=20, alpha = 0.7)\n",
    "\n",
    "    for i in range(R.shape[0]):\n",
    "        ax.scatter(R[i,dim1],R[i,dim2], s = 20, c = color_v[i] ,marker = sh_v[i])\n",
    "    \n",
    "    texts = [plt.text(R[i,dim1],R[i,dim2], data.index[i], ha='center', va='center') for i in range(len(R[:,0]))]\n",
    "    adjust_text(texts);"
   ]
  },
  {
   "cell_type": "markdown",
   "metadata": {},
   "source": [
    "Die bevorzugte Form der Visualisierung wird als Funktion definiert (vgl. \"Datenanalyse_Voc_Valencia\") und in der Folge für alle weiteren Biplot/Cluster-Darstellungen verwendet. (Die Funktion beinhaltet bereits die Berechnung des Biplots bzw. der Korrespondenzanalyse sowie der Cluster.)"
   ]
  },
  {
   "cell_type": "code",
   "execution_count": 40,
   "metadata": {},
   "outputs": [
    {
     "data": {
      "image/png": "[encoded data removed]",
      "text/plain": [
       "<matplotlib.figure.Figure at 0xc9164a8>"
      ]
     },
     "metadata": {},
     "output_type": "display_data"
    }
   ],
   "source": [
    "graf_cplot(CTA2.iloc[:-1,:-1], 7, 5)"
   ]
  },
  {
   "cell_type": "code",
   "execution_count": 41,
   "metadata": {},
   "outputs": [
    {
     "data": {
      "image/png": "[encoded data removed]",
      "text/plain": [
       "<matplotlib.figure.Figure at 0xc9165c0>"
      ]
     },
     "metadata": {},
     "output_type": "display_data"
    }
   ],
   "source": [
    "graf_cplot(CTA2.iloc[:-1,:-1], 7, 7)"
   ]
  },
  {
   "cell_type": "code",
   "execution_count": 42,
   "metadata": {},
   "outputs": [
    {
     "data": {
      "image/png": "[encoded data removed]",
      "text/plain": [
       "<matplotlib.figure.Figure at 0xd532278>"
      ]
     },
     "metadata": {},
     "output_type": "display_data"
    }
   ],
   "source": [
    "graf_cplot(CTA2.iloc[:-1,:-1], 7, 7, 0, 2)"
   ]
  },
  {
   "cell_type": "markdown",
   "metadata": {},
   "source": [
    "#### Kreuztabelle Wörter - verwendete Strategien (A2)"
   ]
  },
  {
   "cell_type": "code",
   "execution_count": 43,
   "metadata": {},
   "outputs": [],
   "source": [
    "Pal_Es_A2 = pd.crosstab(A2.Palabra, A2.Estrategia_1, margins = True)\n",
    "Pal_Es_A2_2 = pd.crosstab(A2.Palabra, A2.Estrategia_2, margins = True)"
   ]
  },
  {
   "cell_type": "code",
   "execution_count": 44,
   "metadata": {},
   "outputs": [],
   "source": [
    "for val in Pal_Es_A2_2.index:\n",
    "    for col in Pal_Es_A2_2.columns:\n",
    "        if Pal_Es_A2_2.loc[val,col]!=0:\n",
    "            Pal_Es_A2.loc[val,col] = Pal_Es_A2.loc[val,col]+ Pal_Es_A2_2.loc[val,col]"
   ]
  },
  {
   "cell_type": "code",
   "execution_count": 45,
   "metadata": {},
   "outputs": [
    {
     "data": {
      "text/html": [
       "<div>\n",
       "<style>\n",
       "    .dataframe thead tr:only-child th {\n",
       "        text-align: right;\n",
       "    }\n",
       "\n",
       "    .dataframe thead th {\n",
       "        text-align: left;\n",
       "    }\n",
       "\n",
       "    .dataframe tbody tr th {\n",
       "        vertical-align: top;\n",
       "    }\n",
       "</style>\n",
       "<table border=\"1\" class=\"dataframe\">\n",
       "  <thead>\n",
       "    <tr style=\"text-align: right;\">\n",
       "      <th>Estrategia_1</th>\n",
       "      <th>AL</th>\n",
       "      <th>Co</th>\n",
       "      <th>Con</th>\n",
       "      <th>Dicc</th>\n",
       "      <th>L1</th>\n",
       "      <th>LE</th>\n",
       "      <th>Prof</th>\n",
       "      <th>All</th>\n",
       "    </tr>\n",
       "    <tr>\n",
       "      <th>Palabra</th>\n",
       "      <th></th>\n",
       "      <th></th>\n",
       "      <th></th>\n",
       "      <th></th>\n",
       "      <th></th>\n",
       "      <th></th>\n",
       "      <th></th>\n",
       "      <th></th>\n",
       "    </tr>\n",
       "  </thead>\n",
       "  <tbody>\n",
       "    <tr>\n",
       "      <th>All</th>\n",
       "      <td>81</td>\n",
       "      <td>14</td>\n",
       "      <td>85</td>\n",
       "      <td>163</td>\n",
       "      <td>15</td>\n",
       "      <td>11</td>\n",
       "      <td>8</td>\n",
       "      <td>377</td>\n",
       "    </tr>\n",
       "    <tr>\n",
       "      <th>Speditionsunternehmen</th>\n",
       "      <td>8</td>\n",
       "      <td>0</td>\n",
       "      <td>5</td>\n",
       "      <td>5</td>\n",
       "      <td>2</td>\n",
       "      <td>1</td>\n",
       "      <td>0</td>\n",
       "      <td>21</td>\n",
       "    </tr>\n",
       "    <tr>\n",
       "      <th>Eiszeit</th>\n",
       "      <td>10</td>\n",
       "      <td>0</td>\n",
       "      <td>2</td>\n",
       "      <td>6</td>\n",
       "      <td>0</td>\n",
       "      <td>1</td>\n",
       "      <td>0</td>\n",
       "      <td>19</td>\n",
       "    </tr>\n",
       "    <tr>\n",
       "      <th>Wissenschaft</th>\n",
       "      <td>8</td>\n",
       "      <td>0</td>\n",
       "      <td>2</td>\n",
       "      <td>9</td>\n",
       "      <td>0</td>\n",
       "      <td>0</td>\n",
       "      <td>0</td>\n",
       "      <td>19</td>\n",
       "    </tr>\n",
       "    <tr>\n",
       "      <th>Sorgen</th>\n",
       "      <td>1</td>\n",
       "      <td>1</td>\n",
       "      <td>2</td>\n",
       "      <td>10</td>\n",
       "      <td>0</td>\n",
       "      <td>0</td>\n",
       "      <td>2</td>\n",
       "      <td>16</td>\n",
       "    </tr>\n",
       "  </tbody>\n",
       "</table>\n",
       "</div>"
      ],
      "text/plain": [
       "Estrategia_1           AL  Co  Con  Dicc  L1  LE  Prof  All\n",
       "Palabra                                                    \n",
       "All                    81  14   85   163  15  11     8  377\n",
       "Speditionsunternehmen   8   0    5     5   2   1     0   21\n",
       "Eiszeit                10   0    2     6   0   1     0   19\n",
       "Wissenschaft            8   0    2     9   0   0     0   19\n",
       "Sorgen                  1   1    2    10   0   0     2   16"
      ]
     },
     "execution_count": 45,
     "metadata": {},
     "output_type": "execute_result"
    }
   ],
   "source": [
    "Pal_Es_A2.sort_values(['All'], ascending=[0]).head()"
   ]
  },
  {
   "cell_type": "markdown",
   "metadata": {},
   "source": [
    "In dieser Kreuztabelle werden als neu identifizierte Wörter mit den angegebenen Strategien in absteigender Frequenz dargestellt."
   ]
  },
  {
   "cell_type": "markdown",
   "metadata": {},
   "source": [
    "#### Korrespondenzanalyse und Biplot Wörter - verwendete Strategien (A2)"
   ]
  },
  {
   "cell_type": "code",
   "execution_count": 46,
   "metadata": {},
   "outputs": [],
   "source": [
    "#Biplot_A2W = biplot.Classic(Pal_Es_A2.values[:-1,:-1], 7, method = 1)"
   ]
  },
  {
   "cell_type": "code",
   "execution_count": 47,
   "metadata": {},
   "outputs": [],
   "source": [
    "#R = Biplot_A2W.RowCoord\n",
    "#C = Biplot_A2W.ColCoord\n",
    "#cr = Biplot_A2W.RowCont\n",
    "#cc = Biplot_A2W.ColCont"
   ]
  },
  {
   "cell_type": "markdown",
   "metadata": {},
   "source": [
    "#### Cluster"
   ]
  },
  {
   "cell_type": "code",
   "execution_count": 48,
   "metadata": {},
   "outputs": [],
   "source": [
    "#kmeans = KMeans(n_clusters=4, random_state=0).fit(X)\n",
    "#ward = AgglomerativeClustering(n_clusters=4).fit(Pal_Es_A2.values[:-1,:-1])"
   ]
  },
  {
   "cell_type": "markdown",
   "metadata": {},
   "source": [
    "Beide Berechnungsarten führen zu ähnlichen Ergebnissen, in der Folge wird \"ward\" verwendet."
   ]
  },
  {
   "cell_type": "markdown",
   "metadata": {},
   "source": [
    "##### Darstellung Biplot + Cluster"
   ]
  },
  {
   "cell_type": "code",
   "execution_count": 49,
   "metadata": {},
   "outputs": [],
   "source": [
    "def graf_cplot2(data, dim, nclust, dim1 = 0, dim2 = 1, sx = 10, sy = 10):\n",
    "    \n",
    "    B = biplot.Classic(data, dim, method = 1) \n",
    "    R = B.RowCoord\n",
    "    C = B.ColCoord\n",
    "    \n",
    "    ward = AgglomerativeClustering(n_clusters=nclust).fit(data)\n",
    "    \n",
    "    fig = plt.figure(figsize=(sx,sy))\n",
    "    ax = fig.add_subplot(111)\n",
    "    \n",
    "    color_v = vector_to_color(ward.labels_)\n",
    "\n",
    "    for i in range(C.shape[0]):\n",
    "        ax.arrow(0,0,C[i,dim1],C[i,dim2], alpha = 0.7)\n",
    "        #ax.scatter(C[i,0],C[i,1])\n",
    "        ax.text(C[i,dim1],C[i,dim2],data.columns[i],fontsize=20, alpha = 0.7)\n",
    "        \n",
    "    ax.scatter(R[:,dim1],R[:,dim2], s = 0.5, c = color_v[i])\n",
    "    \n",
    "    texts = [plt.text(R[i,dim1],R[i,dim2], data.index[i], ha='center', va='center', color=color_v[i]) for i in range(len(R[:,0]))]\n",
    "    adjust_text(texts);"
   ]
  },
  {
   "cell_type": "code",
   "execution_count": 50,
   "metadata": {},
   "outputs": [
    {
     "data": {
      "image/png": "[encoded data removed]",
      "text/plain": [
       "<matplotlib.figure.Figure at 0xd489f98>"
      ]
     },
     "metadata": {},
     "output_type": "display_data"
    }
   ],
   "source": [
    "graf_cplot2(Pal_Es_A2.iloc[:-1,:-1],7, 4)"
   ]
  },
  {
   "cell_type": "markdown",
   "metadata": {},
   "source": [
    "Die Gruppierung der als \"neu\" identifizierten Wörtern in Hinblick auf die zu ihrer Erschließung eingesetzten Strategien zeigt, dass bestimmte Wörter (vermutlich abhängig von Wortart, Ko- und Kontext) den Einsatz bestimmter Strategien nahe legen."
   ]
  },
  {
   "cell_type": "markdown",
   "metadata": {},
   "source": [
    "### Gruppe B1+"
   ]
  },
  {
   "cell_type": "code",
   "execution_count": 51,
   "metadata": {},
   "outputs": [
    {
     "name": "stdout",
     "output_type": "stream",
     "text": [
      "Teilnehmer: 13\n",
      "TN + Online-Befragung: 13\n",
      "TN - Online-Befragung: 0\n",
      "TN ? Online-Befragung: 0\n"
     ]
    }
   ],
   "source": [
    "print(r'Teilnehmer: ' + str(len(B1.ID_alumno.unique()))+'\\n'+\n",
    "      r'TN + Online-Befragung: ' + str(len(B1[B1.Encuesta == 1].ID_alumno.unique()))+'\\n'+\n",
    "      r'TN - Online-Befragung: ' + str(len(B1[B1.Encuesta == 2].ID_alumno.unique()))+'\\n'+\n",
    "      r'TN ? Online-Befragung: ' + str(len(B1[B1.Encuesta == 0].ID_alumno.unique())))"
   ]
  },
  {
   "cell_type": "markdown",
   "metadata": {},
   "source": [
    "Im Fall der Gruppe B1+ haben alle Lernenden auch an der Online-Befragung teilgenommen, da diese in der Unterrichtszeit durchgeführt wurde. "
   ]
  },
  {
   "cell_type": "markdown",
   "metadata": {},
   "source": [
    "#### Als \"neu\" identifizierte Wörter"
   ]
  },
  {
   "cell_type": "code",
   "execution_count": 52,
   "metadata": {},
   "outputs": [
    {
     "data": {
      "text/plain": [
       "29"
      ]
     },
     "execution_count": 52,
     "metadata": {},
     "output_type": "execute_result"
    }
   ],
   "source": [
    "len(B1.Palabra.unique())"
   ]
  },
  {
   "cell_type": "code",
   "execution_count": 53,
   "metadata": {},
   "outputs": [
    {
     "data": {
      "image/png": "[encoded data removed]",
      "text/plain": [
       "<matplotlib.figure.Figure at 0xd6e72e8>"
      ]
     },
     "metadata": {},
     "output_type": "display_data"
    }
   ],
   "source": [
    "B1.Palabra.value_counts(ascending = True).plot(kind = 'barh', figsize = (5,9));"
   ]
  },
  {
   "cell_type": "markdown",
   "metadata": {},
   "source": [
    "#### Kreuztabelle Studenten - neue Wörter (B1+)"
   ]
  },
  {
   "cell_type": "code",
   "execution_count": 54,
   "metadata": {},
   "outputs": [],
   "source": [
    "Al_Pal_B1 = pd.crosstab(B1.ID_alumno, B1.Palabra, margins = True)"
   ]
  },
  {
   "cell_type": "code",
   "execution_count": 55,
   "metadata": {},
   "outputs": [
    {
     "data": {
      "text/html": [
       "<div>\n",
       "<style>\n",
       "    .dataframe thead tr:only-child th {\n",
       "        text-align: right;\n",
       "    }\n",
       "\n",
       "    .dataframe thead th {\n",
       "        text-align: left;\n",
       "    }\n",
       "\n",
       "    .dataframe tbody tr th {\n",
       "        vertical-align: top;\n",
       "    }\n",
       "</style>\n",
       "<table border=\"1\" class=\"dataframe\">\n",
       "  <thead>\n",
       "    <tr style=\"text-align: right;\">\n",
       "      <th>ID_alumno</th>\n",
       "      <th>24</th>\n",
       "      <th>25</th>\n",
       "      <th>26</th>\n",
       "      <th>27</th>\n",
       "      <th>28</th>\n",
       "      <th>29</th>\n",
       "      <th>30</th>\n",
       "      <th>31</th>\n",
       "      <th>32</th>\n",
       "      <th>33</th>\n",
       "      <th>34</th>\n",
       "      <th>35</th>\n",
       "      <th>36</th>\n",
       "      <th>All</th>\n",
       "    </tr>\n",
       "    <tr>\n",
       "      <th>Palabra</th>\n",
       "      <th></th>\n",
       "      <th></th>\n",
       "      <th></th>\n",
       "      <th></th>\n",
       "      <th></th>\n",
       "      <th></th>\n",
       "      <th></th>\n",
       "      <th></th>\n",
       "      <th></th>\n",
       "      <th></th>\n",
       "      <th></th>\n",
       "      <th></th>\n",
       "      <th></th>\n",
       "      <th></th>\n",
       "    </tr>\n",
       "  </thead>\n",
       "  <tbody>\n",
       "    <tr>\n",
       "      <th>ARD</th>\n",
       "      <td>0</td>\n",
       "      <td>0</td>\n",
       "      <td>1</td>\n",
       "      <td>1</td>\n",
       "      <td>0</td>\n",
       "      <td>0</td>\n",
       "      <td>1</td>\n",
       "      <td>0</td>\n",
       "      <td>0</td>\n",
       "      <td>0</td>\n",
       "      <td>0</td>\n",
       "      <td>1</td>\n",
       "      <td>0</td>\n",
       "      <td>4</td>\n",
       "    </tr>\n",
       "    <tr>\n",
       "      <th>Aids</th>\n",
       "      <td>0</td>\n",
       "      <td>0</td>\n",
       "      <td>0</td>\n",
       "      <td>0</td>\n",
       "      <td>0</td>\n",
       "      <td>0</td>\n",
       "      <td>0</td>\n",
       "      <td>0</td>\n",
       "      <td>0</td>\n",
       "      <td>1</td>\n",
       "      <td>0</td>\n",
       "      <td>1</td>\n",
       "      <td>1</td>\n",
       "      <td>3</td>\n",
       "    </tr>\n",
       "    <tr>\n",
       "      <th>Arbeitslosigkeit</th>\n",
       "      <td>0</td>\n",
       "      <td>0</td>\n",
       "      <td>0</td>\n",
       "      <td>0</td>\n",
       "      <td>0</td>\n",
       "      <td>1</td>\n",
       "      <td>0</td>\n",
       "      <td>0</td>\n",
       "      <td>0</td>\n",
       "      <td>0</td>\n",
       "      <td>0</td>\n",
       "      <td>0</td>\n",
       "      <td>0</td>\n",
       "      <td>1</td>\n",
       "    </tr>\n",
       "    <tr>\n",
       "      <th>Cliffhanger</th>\n",
       "      <td>0</td>\n",
       "      <td>0</td>\n",
       "      <td>1</td>\n",
       "      <td>1</td>\n",
       "      <td>1</td>\n",
       "      <td>0</td>\n",
       "      <td>1</td>\n",
       "      <td>1</td>\n",
       "      <td>1</td>\n",
       "      <td>0</td>\n",
       "      <td>0</td>\n",
       "      <td>1</td>\n",
       "      <td>0</td>\n",
       "      <td>7</td>\n",
       "    </tr>\n",
       "    <tr>\n",
       "      <th>Ehescheidungen</th>\n",
       "      <td>1</td>\n",
       "      <td>1</td>\n",
       "      <td>1</td>\n",
       "      <td>1</td>\n",
       "      <td>0</td>\n",
       "      <td>1</td>\n",
       "      <td>1</td>\n",
       "      <td>1</td>\n",
       "      <td>1</td>\n",
       "      <td>0</td>\n",
       "      <td>1</td>\n",
       "      <td>1</td>\n",
       "      <td>1</td>\n",
       "      <td>11</td>\n",
       "    </tr>\n",
       "  </tbody>\n",
       "</table>\n",
       "</div>"
      ],
      "text/plain": [
       "ID_alumno         24  25  26  27  28  29  30  31  32  33  34  35  36  All\n",
       "Palabra                                                                  \n",
       "ARD                0   0   1   1   0   0   1   0   0   0   0   1   0    4\n",
       "Aids               0   0   0   0   0   0   0   0   0   1   0   1   1    3\n",
       "Arbeitslosigkeit   0   0   0   0   0   1   0   0   0   0   0   0   0    1\n",
       "Cliffhanger        0   0   1   1   1   0   1   1   1   0   0   1   0    7\n",
       "Ehescheidungen     1   1   1   1   0   1   1   1   1   0   1   1   1   11"
      ]
     },
     "execution_count": 55,
     "metadata": {},
     "output_type": "execute_result"
    }
   ],
   "source": [
    "Al_Pal_B1.T.head()"
   ]
  },
  {
   "cell_type": "code",
   "execution_count": 56,
   "metadata": {},
   "outputs": [
    {
     "name": "stdout",
     "output_type": "stream",
     "text": [
      "Durchschnittlich als \"neu\" identifizierte Wortanzahl: 9.538461538461538\n"
     ]
    }
   ],
   "source": [
    "print(r'Durchschnittlich als \"neu\" identifizierte Wortanzahl: '+str(Al_Pal_B1['All'][:-1].mean()))"
   ]
  },
  {
   "cell_type": "code",
   "execution_count": 57,
   "metadata": {},
   "outputs": [
    {
     "name": "stdout",
     "output_type": "stream",
     "text": [
      "Minimum der als \"neu\" identifizierten Wörter: 6\n",
      "Maximum der als \"neu\" identifizierten Wörter: 22\n"
     ]
    }
   ],
   "source": [
    "print(r'Minimum der als \"neu\" identifizierten Wörter: '+str(B1.ID_alumno.value_counts().min()) + '\\n' +\n",
    "      r'Maximum der als \"neu\" identifizierten Wörter: '+str(B1.ID_alumno.value_counts().max()))"
   ]
  },
  {
   "cell_type": "code",
   "execution_count": 58,
   "metadata": {},
   "outputs": [],
   "source": [
    "B1_1 = B1[B1.ID_alumno != 35].reset_index(drop = True)"
   ]
  },
  {
   "cell_type": "code",
   "execution_count": 59,
   "metadata": {},
   "outputs": [],
   "source": [
    "Al_Pal_B1_1 = pd.crosstab(B1_1.ID_alumno, B1_1.Palabra, margins = True)"
   ]
  },
  {
   "cell_type": "code",
   "execution_count": 60,
   "metadata": {},
   "outputs": [
    {
     "name": "stdout",
     "output_type": "stream",
     "text": [
      "Durchschnittlich als \"neu\" identifizierte Wortanzahl: 8.5\n"
     ]
    }
   ],
   "source": [
    "print(r'Durchschnittlich als \"neu\" identifizierte Wortanzahl: '+str(Al_Pal_B1_1['All'][:-1].mean()))"
   ]
  },
  {
   "cell_type": "markdown",
   "metadata": {},
   "source": [
    "Durchschnittlich wurden ca. 9,5 Wörter pro Person als \"neu\" identifiziert, 8,5 ohne ID 35 (Ausreißer). Schwankungsbreite: zwischen 6 und 22."
   ]
  },
  {
   "cell_type": "code",
   "execution_count": 61,
   "metadata": {},
   "outputs": [
    {
     "data": {
      "image/png": "[encoded data removed]",
      "text/plain": [
       "<matplotlib.figure.Figure at 0xd733908>"
      ]
     },
     "metadata": {},
     "output_type": "display_data"
    }
   ],
   "source": [
    "B1.ID_alumno.value_counts().plot(kind = 'bar');"
   ]
  },
  {
   "cell_type": "markdown",
   "metadata": {},
   "source": [
    "##### Histogramm"
   ]
  },
  {
   "cell_type": "code",
   "execution_count": 62,
   "metadata": {},
   "outputs": [
    {
     "data": {
      "image/png": "[encoded data removed]",
      "text/plain": [
       "<matplotlib.figure.Figure at 0xd803c50>"
      ]
     },
     "metadata": {},
     "output_type": "display_data"
    }
   ],
   "source": [
    "B1.ID_alumno.value_counts().plot(kind = 'hist',\n",
    "                                bins = 10);"
   ]
  },
  {
   "cell_type": "markdown",
   "metadata": {},
   "source": [
    "#### Einsatz von Erschließungsstrategien (B1+)"
   ]
  },
  {
   "cell_type": "markdown",
   "metadata": {},
   "source": [
    "Kategorien von Strategien (vgl. Bemerkungen zu Gruppe A2):\n",
    "* L1 = Descubro el significado o la función de palabras nuevas en alemán gracias a mi lengua materna. (Ich erschließe die Bedeutung oder Funktion unbekannter deutscher Wörter mit Hilfe meiner Muttersprache.)\n",
    "* LE = Descubro el significado o la función de palabras nuevas en alemán con la ayuda de otras lenguas. (Ich erschließe unbekannte Wörter mit Hilfe anderer Sprachen.)\n",
    "* AL = Utilizo mis conocimientos de alemán, p. ej. otras palabras conocidas, clases de palabras o la formación de palabras compuestas. (Ich nutze mein Wissen über das Deutsche, z.B. andere bekannte Wörter, Wortarten oder Kompositabildung.)\n",
    "* Con = Utilizo información extraída del contexto, p. ej. la posición de una palabra en la frase o el formato del texto. (Ich nutze Informationen aus dem Kontext, z.B. die Position eines Wortes im Satz oder die Gestaltung des Textes.)\n",
    "* Prof = Pido ayuda a mi profesor/a. (Ich bitte meinen Lehrer/meine Lehrerin um Hilfe.)\n",
    "* Co = Pido ayuda a mis compañeros/as de clase. (Ich bitte die anderen Kursteilnehmer/innen um Hilfe.)\n",
    "* Dicc = Consulto un diccionario u otra fuente (en papel o digital). (Ich konsultiere ein Wörterbuch oder eine andere Quelle (Printversion oder digital).)"
   ]
  },
  {
   "cell_type": "code",
   "execution_count": 63,
   "metadata": {},
   "outputs": [
    {
     "data": {
      "text/plain": [
       "Dicc    57\n",
       "AL      42\n",
       "Con     10\n",
       "LE       9\n",
       "Co       3\n",
       "L1       2\n",
       "Prof     1\n",
       "Name: Estrategia_1, dtype: int64"
      ]
     },
     "execution_count": 63,
     "metadata": {},
     "output_type": "execute_result"
    }
   ],
   "source": [
    "B1.Estrategia_1.value_counts()"
   ]
  },
  {
   "cell_type": "code",
   "execution_count": 64,
   "metadata": {},
   "outputs": [
    {
     "data": {
      "text/plain": [
       "Dicc    17\n",
       "AL       4\n",
       "Con      4\n",
       "Prof     1\n",
       "Name: Estrategia_2, dtype: int64"
      ]
     },
     "execution_count": 64,
     "metadata": {},
     "output_type": "execute_result"
    }
   ],
   "source": [
    "B1.Estrategia_2.value_counts()"
   ]
  },
  {
   "cell_type": "code",
   "execution_count": 65,
   "metadata": {},
   "outputs": [],
   "source": [
    "w1 = B1.Estrategia_1.value_counts()\n",
    "w2 = B1.Estrategia_2.value_counts()\n",
    "w = w1 + w2\n",
    "w['LE'] = w1['LE']\n",
    "w['L1'] = w1['L1']\n",
    "w['Co'] = w1['Co']"
   ]
  },
  {
   "cell_type": "code",
   "execution_count": 66,
   "metadata": {},
   "outputs": [
    {
     "data": {
      "text/plain": [
       "Dicc    74.0\n",
       "AL      46.0\n",
       "Con     14.0\n",
       "LE       9.0\n",
       "Co       3.0\n",
       "Prof     2.0\n",
       "L1       2.0\n",
       "dtype: float64"
      ]
     },
     "execution_count": 66,
     "metadata": {},
     "output_type": "execute_result"
    }
   ],
   "source": [
    "w.sort_values(ascending = False)"
   ]
  },
  {
   "cell_type": "code",
   "execution_count": 67,
   "metadata": {},
   "outputs": [
    {
     "data": {
      "image/png": "[encoded data removed]",
      "text/plain": [
       "<matplotlib.figure.Figure at 0xd869518>"
      ]
     },
     "metadata": {},
     "output_type": "display_data"
    }
   ],
   "source": [
    "w.sort_values(ascending = False).plot(kind = 'bar', \n",
    "                                      #title = 'Angaben zu eingesetzten Strategien',\n",
    "                                     figsize = (10,6));"
   ]
  },
  {
   "cell_type": "code",
   "execution_count": 68,
   "metadata": {},
   "outputs": [
    {
     "data": {
      "image/png": "[encoded data removed]",
      "text/plain": [
       "<matplotlib.figure.Figure at 0xd7f5e80>"
      ]
     },
     "metadata": {},
     "output_type": "display_data"
    }
   ],
   "source": [
    "ax1 = w.sort_values(ascending = False).plot(kind = 'pie',\n",
    "                                           #title = 'Angaben zu eingesetzten Strategien',\n",
    "                                           figsize = (10,10),\n",
    "                                           autopct='%.1f', startangle = -20)\n",
    "\n",
    "ax1.set_ylabel(\"\");"
   ]
  },
  {
   "cell_type": "markdown",
   "metadata": {},
   "source": [
    "#### Kreuztabelle Studenten - verwendete Strategien (B1+)"
   ]
  },
  {
   "cell_type": "code",
   "execution_count": 69,
   "metadata": {},
   "outputs": [],
   "source": [
    "CTB1 = pd.crosstab(B1.ID_alumno, B1.Estrategia_1, margins = True)\n",
    "CTB1_2 = pd.crosstab(B1.ID_alumno, B1.Estrategia_2, margins = True)"
   ]
  },
  {
   "cell_type": "code",
   "execution_count": 70,
   "metadata": {},
   "outputs": [],
   "source": [
    "for val in CTB1_2.index:\n",
    "    for col in CTB1_2.columns:\n",
    "        if CTB1_2.loc[val,col]!=0:\n",
    "            CTB1.loc[val,col] = CTB1.loc[val,col]+ CTB1_2.loc[val,col]"
   ]
  },
  {
   "cell_type": "code",
   "execution_count": 71,
   "metadata": {},
   "outputs": [
    {
     "data": {
      "text/html": [
       "<div>\n",
       "<style>\n",
       "    .dataframe thead tr:only-child th {\n",
       "        text-align: right;\n",
       "    }\n",
       "\n",
       "    .dataframe thead th {\n",
       "        text-align: left;\n",
       "    }\n",
       "\n",
       "    .dataframe tbody tr th {\n",
       "        vertical-align: top;\n",
       "    }\n",
       "</style>\n",
       "<table border=\"1\" class=\"dataframe\">\n",
       "  <thead>\n",
       "    <tr style=\"text-align: right;\">\n",
       "      <th>Estrategia_1</th>\n",
       "      <th>AL</th>\n",
       "      <th>Co</th>\n",
       "      <th>Con</th>\n",
       "      <th>Dicc</th>\n",
       "      <th>L1</th>\n",
       "      <th>LE</th>\n",
       "      <th>Prof</th>\n",
       "      <th>All</th>\n",
       "    </tr>\n",
       "    <tr>\n",
       "      <th>ID_alumno</th>\n",
       "      <th></th>\n",
       "      <th></th>\n",
       "      <th></th>\n",
       "      <th></th>\n",
       "      <th></th>\n",
       "      <th></th>\n",
       "      <th></th>\n",
       "      <th></th>\n",
       "    </tr>\n",
       "  </thead>\n",
       "  <tbody>\n",
       "    <tr>\n",
       "      <th>24</th>\n",
       "      <td>2</td>\n",
       "      <td>0</td>\n",
       "      <td>1</td>\n",
       "      <td>8</td>\n",
       "      <td>0</td>\n",
       "      <td>0</td>\n",
       "      <td>0</td>\n",
       "      <td>11</td>\n",
       "    </tr>\n",
       "    <tr>\n",
       "      <th>25</th>\n",
       "      <td>3</td>\n",
       "      <td>0</td>\n",
       "      <td>0</td>\n",
       "      <td>7</td>\n",
       "      <td>0</td>\n",
       "      <td>0</td>\n",
       "      <td>0</td>\n",
       "      <td>10</td>\n",
       "    </tr>\n",
       "    <tr>\n",
       "      <th>26</th>\n",
       "      <td>2</td>\n",
       "      <td>0</td>\n",
       "      <td>1</td>\n",
       "      <td>5</td>\n",
       "      <td>0</td>\n",
       "      <td>1</td>\n",
       "      <td>0</td>\n",
       "      <td>9</td>\n",
       "    </tr>\n",
       "    <tr>\n",
       "      <th>27</th>\n",
       "      <td>1</td>\n",
       "      <td>0</td>\n",
       "      <td>1</td>\n",
       "      <td>5</td>\n",
       "      <td>0</td>\n",
       "      <td>0</td>\n",
       "      <td>0</td>\n",
       "      <td>7</td>\n",
       "    </tr>\n",
       "    <tr>\n",
       "      <th>28</th>\n",
       "      <td>3</td>\n",
       "      <td>0</td>\n",
       "      <td>1</td>\n",
       "      <td>7</td>\n",
       "      <td>0</td>\n",
       "      <td>0</td>\n",
       "      <td>0</td>\n",
       "      <td>11</td>\n",
       "    </tr>\n",
       "    <tr>\n",
       "      <th>29</th>\n",
       "      <td>5</td>\n",
       "      <td>1</td>\n",
       "      <td>1</td>\n",
       "      <td>3</td>\n",
       "      <td>0</td>\n",
       "      <td>0</td>\n",
       "      <td>0</td>\n",
       "      <td>10</td>\n",
       "    </tr>\n",
       "    <tr>\n",
       "      <th>30</th>\n",
       "      <td>3</td>\n",
       "      <td>1</td>\n",
       "      <td>1</td>\n",
       "      <td>6</td>\n",
       "      <td>0</td>\n",
       "      <td>1</td>\n",
       "      <td>0</td>\n",
       "      <td>12</td>\n",
       "    </tr>\n",
       "    <tr>\n",
       "      <th>31</th>\n",
       "      <td>1</td>\n",
       "      <td>0</td>\n",
       "      <td>2</td>\n",
       "      <td>3</td>\n",
       "      <td>0</td>\n",
       "      <td>1</td>\n",
       "      <td>0</td>\n",
       "      <td>7</td>\n",
       "    </tr>\n",
       "    <tr>\n",
       "      <th>32</th>\n",
       "      <td>0</td>\n",
       "      <td>0</td>\n",
       "      <td>0</td>\n",
       "      <td>7</td>\n",
       "      <td>1</td>\n",
       "      <td>0</td>\n",
       "      <td>0</td>\n",
       "      <td>8</td>\n",
       "    </tr>\n",
       "    <tr>\n",
       "      <th>33</th>\n",
       "      <td>6</td>\n",
       "      <td>0</td>\n",
       "      <td>3</td>\n",
       "      <td>2</td>\n",
       "      <td>1</td>\n",
       "      <td>2</td>\n",
       "      <td>1</td>\n",
       "      <td>15</td>\n",
       "    </tr>\n",
       "    <tr>\n",
       "      <th>34</th>\n",
       "      <td>8</td>\n",
       "      <td>0</td>\n",
       "      <td>0</td>\n",
       "      <td>2</td>\n",
       "      <td>0</td>\n",
       "      <td>0</td>\n",
       "      <td>0</td>\n",
       "      <td>10</td>\n",
       "    </tr>\n",
       "    <tr>\n",
       "      <th>35</th>\n",
       "      <td>6</td>\n",
       "      <td>1</td>\n",
       "      <td>0</td>\n",
       "      <td>11</td>\n",
       "      <td>0</td>\n",
       "      <td>3</td>\n",
       "      <td>1</td>\n",
       "      <td>22</td>\n",
       "    </tr>\n",
       "    <tr>\n",
       "      <th>36</th>\n",
       "      <td>6</td>\n",
       "      <td>0</td>\n",
       "      <td>3</td>\n",
       "      <td>8</td>\n",
       "      <td>0</td>\n",
       "      <td>1</td>\n",
       "      <td>0</td>\n",
       "      <td>18</td>\n",
       "    </tr>\n",
       "    <tr>\n",
       "      <th>All</th>\n",
       "      <td>46</td>\n",
       "      <td>3</td>\n",
       "      <td>14</td>\n",
       "      <td>74</td>\n",
       "      <td>2</td>\n",
       "      <td>9</td>\n",
       "      <td>2</td>\n",
       "      <td>150</td>\n",
       "    </tr>\n",
       "  </tbody>\n",
       "</table>\n",
       "</div>"
      ],
      "text/plain": [
       "Estrategia_1  AL  Co  Con  Dicc  L1  LE  Prof  All\n",
       "ID_alumno                                         \n",
       "24             2   0    1     8   0   0     0   11\n",
       "25             3   0    0     7   0   0     0   10\n",
       "26             2   0    1     5   0   1     0    9\n",
       "27             1   0    1     5   0   0     0    7\n",
       "28             3   0    1     7   0   0     0   11\n",
       "29             5   1    1     3   0   0     0   10\n",
       "30             3   1    1     6   0   1     0   12\n",
       "31             1   0    2     3   0   1     0    7\n",
       "32             0   0    0     7   1   0     0    8\n",
       "33             6   0    3     2   1   2     1   15\n",
       "34             8   0    0     2   0   0     0   10\n",
       "35             6   1    0    11   0   3     1   22\n",
       "36             6   0    3     8   0   1     0   18\n",
       "All           46   3   14    74   2   9     2  150"
      ]
     },
     "execution_count": 71,
     "metadata": {},
     "output_type": "execute_result"
    }
   ],
   "source": [
    "CTB1"
   ]
  },
  {
   "cell_type": "markdown",
   "metadata": {},
   "source": [
    "#### Korrespondenzanalyse und Biplot Studenten - verwendete Strategien (B1+)"
   ]
  },
  {
   "cell_type": "code",
   "execution_count": 72,
   "metadata": {},
   "outputs": [],
   "source": [
    "Biplot_B1L = biplot.Classic(CTB1.values[:-1,:-1], 7, method = 1)"
   ]
  },
  {
   "cell_type": "code",
   "execution_count": 73,
   "metadata": {},
   "outputs": [],
   "source": [
    "R = Biplot_B1L.RowCoord\n",
    "C = Biplot_B1L.ColCoord\n",
    "cr = Biplot_B1L.RowCont\n",
    "cc = Biplot_B1L.ColCont"
   ]
  },
  {
   "cell_type": "markdown",
   "metadata": {},
   "source": [
    "##### Qualität der Repräsentation der Elemente und Variablen auf den Achsen des Biplots"
   ]
  },
  {
   "cell_type": "code",
   "execution_count": 74,
   "metadata": {},
   "outputs": [
    {
     "data": {
      "text/html": [
       "<div>\n",
       "<style>\n",
       "    .dataframe thead tr:only-child th {\n",
       "        text-align: right;\n",
       "    }\n",
       "\n",
       "    .dataframe thead th {\n",
       "        text-align: left;\n",
       "    }\n",
       "\n",
       "    .dataframe tbody tr th {\n",
       "        vertical-align: top;\n",
       "    }\n",
       "</style>\n",
       "<table border=\"1\" class=\"dataframe\">\n",
       "  <thead>\n",
       "    <tr style=\"text-align: right;\">\n",
       "      <th></th>\n",
       "      <th>Axis_1</th>\n",
       "      <th>Axis_2</th>\n",
       "      <th>Axis_3</th>\n",
       "      <th>Axis_4</th>\n",
       "      <th>Axis_5</th>\n",
       "      <th>Axis_6</th>\n",
       "      <th>Axis_7</th>\n",
       "    </tr>\n",
       "    <tr>\n",
       "      <th>ID_alumno</th>\n",
       "      <th></th>\n",
       "      <th></th>\n",
       "      <th></th>\n",
       "      <th></th>\n",
       "      <th></th>\n",
       "      <th></th>\n",
       "      <th></th>\n",
       "    </tr>\n",
       "  </thead>\n",
       "  <tbody>\n",
       "    <tr>\n",
       "      <th>24</th>\n",
       "      <td>48.923486</td>\n",
       "      <td>7.791330</td>\n",
       "      <td>12.809542</td>\n",
       "      <td>18.759661</td>\n",
       "      <td>4.865386</td>\n",
       "      <td>1.661656e+00</td>\n",
       "      <td>5.188941</td>\n",
       "    </tr>\n",
       "    <tr>\n",
       "      <th>25</th>\n",
       "      <td>49.299476</td>\n",
       "      <td>21.317644</td>\n",
       "      <td>4.159356</td>\n",
       "      <td>1.785098</td>\n",
       "      <td>21.855456</td>\n",
       "      <td>9.764776e-01</td>\n",
       "      <td>0.606491</td>\n",
       "    </tr>\n",
       "    <tr>\n",
       "      <th>26</th>\n",
       "      <td>25.936915</td>\n",
       "      <td>0.812056</td>\n",
       "      <td>1.017479</td>\n",
       "      <td>13.812569</td>\n",
       "      <td>1.574576</td>\n",
       "      <td>4.627966e+01</td>\n",
       "      <td>10.566748</td>\n",
       "    </tr>\n",
       "    <tr>\n",
       "      <th>27</th>\n",
       "      <td>77.133362</td>\n",
       "      <td>0.874110</td>\n",
       "      <td>2.177211</td>\n",
       "      <td>2.534514</td>\n",
       "      <td>2.755941</td>\n",
       "      <td>8.420731e+00</td>\n",
       "      <td>6.104131</td>\n",
       "    </tr>\n",
       "    <tr>\n",
       "      <th>28</th>\n",
       "      <td>61.545409</td>\n",
       "      <td>3.947972</td>\n",
       "      <td>0.886923</td>\n",
       "      <td>12.245113</td>\n",
       "      <td>14.230905</td>\n",
       "      <td>2.101011e+00</td>\n",
       "      <td>5.042665</td>\n",
       "    </tr>\n",
       "    <tr>\n",
       "      <th>29</th>\n",
       "      <td>0.208670</td>\n",
       "      <td>6.644516</td>\n",
       "      <td>45.568672</td>\n",
       "      <td>18.391086</td>\n",
       "      <td>21.773601</td>\n",
       "      <td>6.152268e+00</td>\n",
       "      <td>1.261186</td>\n",
       "    </tr>\n",
       "    <tr>\n",
       "      <th>30</th>\n",
       "      <td>2.869257</td>\n",
       "      <td>39.475356</td>\n",
       "      <td>4.134791</td>\n",
       "      <td>0.392037</td>\n",
       "      <td>48.345413</td>\n",
       "      <td>3.113390e+00</td>\n",
       "      <td>1.669756</td>\n",
       "    </tr>\n",
       "    <tr>\n",
       "      <th>31</th>\n",
       "      <td>10.665705</td>\n",
       "      <td>26.070469</td>\n",
       "      <td>1.484057</td>\n",
       "      <td>17.138248</td>\n",
       "      <td>22.211263</td>\n",
       "      <td>2.165668e+01</td>\n",
       "      <td>0.773579</td>\n",
       "    </tr>\n",
       "    <tr>\n",
       "      <th>32</th>\n",
       "      <td>14.176183</td>\n",
       "      <td>3.713719</td>\n",
       "      <td>61.636712</td>\n",
       "      <td>15.558067</td>\n",
       "      <td>0.096169</td>\n",
       "      <td>3.805617e+00</td>\n",
       "      <td>1.013532</td>\n",
       "    </tr>\n",
       "    <tr>\n",
       "      <th>33</th>\n",
       "      <td>45.593265</td>\n",
       "      <td>52.967972</td>\n",
       "      <td>0.166966</td>\n",
       "      <td>0.986825</td>\n",
       "      <td>0.005015</td>\n",
       "      <td>1.036483e-07</td>\n",
       "      <td>0.279957</td>\n",
       "    </tr>\n",
       "    <tr>\n",
       "      <th>34</th>\n",
       "      <td>3.704841</td>\n",
       "      <td>0.475295</td>\n",
       "      <td>44.333377</td>\n",
       "      <td>25.860771</td>\n",
       "      <td>23.845158</td>\n",
       "      <td>9.225029e-01</td>\n",
       "      <td>0.858056</td>\n",
       "    </tr>\n",
       "    <tr>\n",
       "      <th>35</th>\n",
       "      <td>65.302065</td>\n",
       "      <td>30.152313</td>\n",
       "      <td>3.201284</td>\n",
       "      <td>0.001276</td>\n",
       "      <td>0.647474</td>\n",
       "      <td>6.945351e-01</td>\n",
       "      <td>0.001053</td>\n",
       "    </tr>\n",
       "    <tr>\n",
       "      <th>36</th>\n",
       "      <td>4.814866</td>\n",
       "      <td>4.421713</td>\n",
       "      <td>8.743812</td>\n",
       "      <td>58.613938</td>\n",
       "      <td>5.665485</td>\n",
       "      <td>1.636189e+01</td>\n",
       "      <td>1.378299</td>\n",
       "    </tr>\n",
       "  </tbody>\n",
       "</table>\n",
       "</div>"
      ],
      "text/plain": [
       "              Axis_1     Axis_2     Axis_3     Axis_4     Axis_5  \\\n",
       "ID_alumno                                                          \n",
       "24         48.923486   7.791330  12.809542  18.759661   4.865386   \n",
       "25         49.299476  21.317644   4.159356   1.785098  21.855456   \n",
       "26         25.936915   0.812056   1.017479  13.812569   1.574576   \n",
       "27         77.133362   0.874110   2.177211   2.534514   2.755941   \n",
       "28         61.545409   3.947972   0.886923  12.245113  14.230905   \n",
       "29          0.208670   6.644516  45.568672  18.391086  21.773601   \n",
       "30          2.869257  39.475356   4.134791   0.392037  48.345413   \n",
       "31         10.665705  26.070469   1.484057  17.138248  22.211263   \n",
       "32         14.176183   3.713719  61.636712  15.558067   0.096169   \n",
       "33         45.593265  52.967972   0.166966   0.986825   0.005015   \n",
       "34          3.704841   0.475295  44.333377  25.860771  23.845158   \n",
       "35         65.302065  30.152313   3.201284   0.001276   0.647474   \n",
       "36          4.814866   4.421713   8.743812  58.613938   5.665485   \n",
       "\n",
       "                 Axis_6     Axis_7  \n",
       "ID_alumno                           \n",
       "24         1.661656e+00   5.188941  \n",
       "25         9.764776e-01   0.606491  \n",
       "26         4.627966e+01  10.566748  \n",
       "27         8.420731e+00   6.104131  \n",
       "28         2.101011e+00   5.042665  \n",
       "29         6.152268e+00   1.261186  \n",
       "30         3.113390e+00   1.669756  \n",
       "31         2.165668e+01   0.773579  \n",
       "32         3.805617e+00   1.013532  \n",
       "33         1.036483e-07   0.279957  \n",
       "34         9.225029e-01   0.858056  \n",
       "35         6.945351e-01   0.001053  \n",
       "36         1.636189e+01   1.378299  "
      ]
     },
     "execution_count": 74,
     "metadata": {},
     "output_type": "execute_result"
    }
   ],
   "source": [
    "pd.DataFrame(cr, columns = ['Axis_'+str(el+1) for el in range(7)], index = CTB1.index[:-1])"
   ]
  },
  {
   "cell_type": "code",
   "execution_count": 75,
   "metadata": {},
   "outputs": [
    {
     "data": {
      "text/html": [
       "<div>\n",
       "<style>\n",
       "    .dataframe thead tr:only-child th {\n",
       "        text-align: right;\n",
       "    }\n",
       "\n",
       "    .dataframe thead th {\n",
       "        text-align: left;\n",
       "    }\n",
       "\n",
       "    .dataframe tbody tr th {\n",
       "        vertical-align: top;\n",
       "    }\n",
       "</style>\n",
       "<table border=\"1\" class=\"dataframe\">\n",
       "  <thead>\n",
       "    <tr style=\"text-align: right;\">\n",
       "      <th></th>\n",
       "      <th>Axis_1</th>\n",
       "      <th>Axis_2</th>\n",
       "      <th>Axis_3</th>\n",
       "      <th>Axis_4</th>\n",
       "      <th>Axis_5</th>\n",
       "      <th>Axis_6</th>\n",
       "      <th>Axis_7</th>\n",
       "    </tr>\n",
       "    <tr>\n",
       "      <th>Estrategia_1</th>\n",
       "      <th></th>\n",
       "      <th></th>\n",
       "      <th></th>\n",
       "      <th></th>\n",
       "      <th></th>\n",
       "      <th></th>\n",
       "      <th></th>\n",
       "    </tr>\n",
       "  </thead>\n",
       "  <tbody>\n",
       "    <tr>\n",
       "      <th>AL</th>\n",
       "      <td>35.819670</td>\n",
       "      <td>0.009389</td>\n",
       "      <td>38.927566</td>\n",
       "      <td>2.532357</td>\n",
       "      <td>18.891980</td>\n",
       "      <td>3.631851</td>\n",
       "      <td>0.187187</td>\n",
       "    </tr>\n",
       "    <tr>\n",
       "      <th>Co</th>\n",
       "      <td>21.818259</td>\n",
       "      <td>38.928161</td>\n",
       "      <td>4.160748</td>\n",
       "      <td>5.735179</td>\n",
       "      <td>25.917963</td>\n",
       "      <td>3.400648</td>\n",
       "      <td>0.039042</td>\n",
       "    </tr>\n",
       "    <tr>\n",
       "      <th>Con</th>\n",
       "      <td>7.783705</td>\n",
       "      <td>43.976275</td>\n",
       "      <td>5.326517</td>\n",
       "      <td>34.083891</td>\n",
       "      <td>5.137035</td>\n",
       "      <td>3.516602</td>\n",
       "      <td>0.175974</td>\n",
       "    </tr>\n",
       "    <tr>\n",
       "      <th>Dicc</th>\n",
       "      <td>2.769215</td>\n",
       "      <td>42.464927</td>\n",
       "      <td>28.151565</td>\n",
       "      <td>15.118496</td>\n",
       "      <td>5.657582</td>\n",
       "      <td>5.831257</td>\n",
       "      <td>0.006957</td>\n",
       "    </tr>\n",
       "    <tr>\n",
       "      <th>L1</th>\n",
       "      <td>6.204022</td>\n",
       "      <td>40.981385</td>\n",
       "      <td>29.571173</td>\n",
       "      <td>16.745855</td>\n",
       "      <td>0.136298</td>\n",
       "      <td>5.937525</td>\n",
       "      <td>0.423743</td>\n",
       "    </tr>\n",
       "    <tr>\n",
       "      <th>LE</th>\n",
       "      <td>85.012442</td>\n",
       "      <td>0.248430</td>\n",
       "      <td>1.646003</td>\n",
       "      <td>3.998400</td>\n",
       "      <td>0.745034</td>\n",
       "      <td>5.299389</td>\n",
       "      <td>3.050302</td>\n",
       "    </tr>\n",
       "    <tr>\n",
       "      <th>Prof</th>\n",
       "      <td>86.151146</td>\n",
       "      <td>1.333084</td>\n",
       "      <td>4.236648</td>\n",
       "      <td>1.229561</td>\n",
       "      <td>0.942220</td>\n",
       "      <td>2.312206</td>\n",
       "      <td>3.795134</td>\n",
       "    </tr>\n",
       "  </tbody>\n",
       "</table>\n",
       "</div>"
      ],
      "text/plain": [
       "                 Axis_1     Axis_2     Axis_3     Axis_4     Axis_5    Axis_6  \\\n",
       "Estrategia_1                                                                    \n",
       "AL            35.819670   0.009389  38.927566   2.532357  18.891980  3.631851   \n",
       "Co            21.818259  38.928161   4.160748   5.735179  25.917963  3.400648   \n",
       "Con            7.783705  43.976275   5.326517  34.083891   5.137035  3.516602   \n",
       "Dicc           2.769215  42.464927  28.151565  15.118496   5.657582  5.831257   \n",
       "L1             6.204022  40.981385  29.571173  16.745855   0.136298  5.937525   \n",
       "LE            85.012442   0.248430   1.646003   3.998400   0.745034  5.299389   \n",
       "Prof          86.151146   1.333084   4.236648   1.229561   0.942220  2.312206   \n",
       "\n",
       "                Axis_7  \n",
       "Estrategia_1            \n",
       "AL            0.187187  \n",
       "Co            0.039042  \n",
       "Con           0.175974  \n",
       "Dicc          0.006957  \n",
       "L1            0.423743  \n",
       "LE            3.050302  \n",
       "Prof          3.795134  "
      ]
     },
     "execution_count": 75,
     "metadata": {},
     "output_type": "execute_result"
    }
   ],
   "source": [
    "pd.DataFrame(cc, columns = ['Axis_'+str(el+1) for el in range(7)], index = CTB1.columns[:-1])"
   ]
  },
  {
   "cell_type": "markdown",
   "metadata": {},
   "source": [
    "#### Cluster-Analyse Studenten - verwendete Strategien (B1+)"
   ]
  },
  {
   "cell_type": "code",
   "execution_count": 76,
   "metadata": {},
   "outputs": [],
   "source": [
    "#kmeans = KMeans(n_clusters=5, random_state=0).fit(X)\n",
    "#ward = AgglomerativeClustering(n_clusters=5).fit(X)"
   ]
  },
  {
   "cell_type": "markdown",
   "metadata": {},
   "source": [
    "Tests haben gezeigt, dass die Annahme von 4 Gruppen die besten Ergebnisse liefert. Allerdings ist zu bedenken, dass die Gruppe B1+ nur aus 13 Teilnehmern besteht und einige Elemente sowie Variablen im Biplot nicht gut repräsentiert werden können (vgl. Dimensionen oben)."
   ]
  },
  {
   "cell_type": "markdown",
   "metadata": {},
   "source": [
    "##### Darstellung Biplot + Cluster"
   ]
  },
  {
   "cell_type": "code",
   "execution_count": 77,
   "metadata": {},
   "outputs": [
    {
     "data": {
      "image/png": "[encoded data removed]",
      "text/plain": [
       "<matplotlib.figure.Figure at 0xd8295c0>"
      ]
     },
     "metadata": {},
     "output_type": "display_data"
    }
   ],
   "source": [
    "graf_cplot(CTB1.iloc[:-1,:-1], 7, 5, 1, 2)"
   ]
  },
  {
   "cell_type": "markdown",
   "metadata": {},
   "source": [
    "#### Kreuztabelle Wörter - verwendete Strategien (B1+)"
   ]
  },
  {
   "cell_type": "code",
   "execution_count": 78,
   "metadata": {},
   "outputs": [],
   "source": [
    "Pal_Es_B1 = pd.crosstab(B1.Palabra, B1.Estrategia_1, margins = True)\n",
    "Pal_Es_B1_2 = pd.crosstab(B1.Palabra, B1.Estrategia_2, margins = True)"
   ]
  },
  {
   "cell_type": "code",
   "execution_count": 79,
   "metadata": {},
   "outputs": [],
   "source": [
    "for val in Pal_Es_B1_2.index:\n",
    "    for col in Pal_Es_B1_2.columns:\n",
    "        if Pal_Es_B1_2.loc[val,col]!=0:\n",
    "            Pal_Es_B1.loc[val,col] = Pal_Es_B1.loc[val,col]+ Pal_Es_B1_2.loc[val,col]"
   ]
  },
  {
   "cell_type": "code",
   "execution_count": 80,
   "metadata": {},
   "outputs": [
    {
     "data": {
      "text/html": [
       "<div>\n",
       "<style>\n",
       "    .dataframe thead tr:only-child th {\n",
       "        text-align: right;\n",
       "    }\n",
       "\n",
       "    .dataframe thead th {\n",
       "        text-align: left;\n",
       "    }\n",
       "\n",
       "    .dataframe tbody tr th {\n",
       "        vertical-align: top;\n",
       "    }\n",
       "</style>\n",
       "<table border=\"1\" class=\"dataframe\">\n",
       "  <thead>\n",
       "    <tr style=\"text-align: right;\">\n",
       "      <th>Estrategia_1</th>\n",
       "      <th>AL</th>\n",
       "      <th>Co</th>\n",
       "      <th>Con</th>\n",
       "      <th>Dicc</th>\n",
       "      <th>L1</th>\n",
       "      <th>LE</th>\n",
       "      <th>Prof</th>\n",
       "      <th>All</th>\n",
       "    </tr>\n",
       "    <tr>\n",
       "      <th>Palabra</th>\n",
       "      <th></th>\n",
       "      <th></th>\n",
       "      <th></th>\n",
       "      <th></th>\n",
       "      <th></th>\n",
       "      <th></th>\n",
       "      <th></th>\n",
       "      <th></th>\n",
       "    </tr>\n",
       "  </thead>\n",
       "  <tbody>\n",
       "    <tr>\n",
       "      <th>All</th>\n",
       "      <td>46</td>\n",
       "      <td>3</td>\n",
       "      <td>14</td>\n",
       "      <td>74</td>\n",
       "      <td>2</td>\n",
       "      <td>9</td>\n",
       "      <td>2</td>\n",
       "      <td>150</td>\n",
       "    </tr>\n",
       "    <tr>\n",
       "      <th>herrscht</th>\n",
       "      <td>4</td>\n",
       "      <td>0</td>\n",
       "      <td>1</td>\n",
       "      <td>8</td>\n",
       "      <td>0</td>\n",
       "      <td>0</td>\n",
       "      <td>0</td>\n",
       "      <td>13</td>\n",
       "    </tr>\n",
       "    <tr>\n",
       "      <th>durchschnittlich</th>\n",
       "      <td>2</td>\n",
       "      <td>1</td>\n",
       "      <td>2</td>\n",
       "      <td>8</td>\n",
       "      <td>0</td>\n",
       "      <td>0</td>\n",
       "      <td>0</td>\n",
       "      <td>13</td>\n",
       "    </tr>\n",
       "    <tr>\n",
       "      <th>Ehescheidungen</th>\n",
       "      <td>5</td>\n",
       "      <td>0</td>\n",
       "      <td>1</td>\n",
       "      <td>6</td>\n",
       "      <td>0</td>\n",
       "      <td>0</td>\n",
       "      <td>0</td>\n",
       "      <td>12</td>\n",
       "    </tr>\n",
       "    <tr>\n",
       "      <th>Marktanteil</th>\n",
       "      <td>5</td>\n",
       "      <td>0</td>\n",
       "      <td>0</td>\n",
       "      <td>6</td>\n",
       "      <td>0</td>\n",
       "      <td>0</td>\n",
       "      <td>0</td>\n",
       "      <td>11</td>\n",
       "    </tr>\n",
       "  </tbody>\n",
       "</table>\n",
       "</div>"
      ],
      "text/plain": [
       "Estrategia_1      AL  Co  Con  Dicc  L1  LE  Prof  All\n",
       "Palabra                                               \n",
       "All               46   3   14    74   2   9     2  150\n",
       "herrscht           4   0    1     8   0   0     0   13\n",
       "durchschnittlich   2   1    2     8   0   0     0   13\n",
       "Ehescheidungen     5   0    1     6   0   0     0   12\n",
       "Marktanteil        5   0    0     6   0   0     0   11"
      ]
     },
     "execution_count": 80,
     "metadata": {},
     "output_type": "execute_result"
    }
   ],
   "source": [
    "Pal_Es_B1.sort_values(['All'], ascending=[0]).head()"
   ]
  },
  {
   "cell_type": "markdown",
   "metadata": {},
   "source": [
    "#### Korrespondenzanalyse und Biplot Wörter - verwendete Strategien (B1+)"
   ]
  },
  {
   "cell_type": "code",
   "execution_count": 81,
   "metadata": {},
   "outputs": [],
   "source": [
    "#Biplot_B2W = biplot.Classic(Pal_Es_A2.values[:-1,:-1], 7, method = 1)"
   ]
  },
  {
   "cell_type": "code",
   "execution_count": 82,
   "metadata": {},
   "outputs": [],
   "source": [
    "#R = Biplot_A2W.RowCoord\n",
    "#C = Biplot_A2W.ColCoord\n",
    "#cr = Biplot_A2W.RowCont\n",
    "#cc = Biplot_A2W.ColCont"
   ]
  },
  {
   "cell_type": "markdown",
   "metadata": {},
   "source": [
    "#### Cluster"
   ]
  },
  {
   "cell_type": "code",
   "execution_count": 83,
   "metadata": {},
   "outputs": [],
   "source": [
    "#kmeans = KMeans(n_clusters=5, random_state=0).fit(X)\n",
    "#ward = AgglomerativeClustering(n_clusters=5).fit(X)"
   ]
  },
  {
   "cell_type": "markdown",
   "metadata": {},
   "source": [
    "Eventuell können statt 5 auch nur 4 unterschiedliche Gruppen angenommen werden."
   ]
  },
  {
   "cell_type": "markdown",
   "metadata": {},
   "source": [
    "##### Darstellung Biplot + Cluster"
   ]
  },
  {
   "cell_type": "code",
   "execution_count": 84,
   "metadata": {},
   "outputs": [
    {
     "data": {
      "image/png": "[encoded data removed]",
      "text/plain": [
       "<matplotlib.figure.Figure at 0xd39e6d8>"
      ]
     },
     "metadata": {},
     "output_type": "display_data"
    }
   ],
   "source": [
    "graf_cplot2(Pal_Es_B1.iloc[:-1,:-1],7, 5, sx=12, sy=12)"
   ]
  },
  {
   "cell_type": "code",
   "execution_count": null,
   "metadata": {},
   "outputs": [],
   "source": []
  }
 ],
 "metadata": {
  "kernelspec": {
   "display_name": "Python 3",
   "language": "python",
   "name": "python3"
  },
  "language_info": {
   "codemirror_mode": {
    "name": "ipython",
    "version": 3
   },
   "file_extension": ".py",
   "mimetype": "text/x-python",
   "name": "python",
   "nbconvert_exporter": "python",
   "pygments_lexer": "ipython3",
   "version": "3.6.3"
  }
 },
 "nbformat": 4,
 "nbformat_minor": 2
}
